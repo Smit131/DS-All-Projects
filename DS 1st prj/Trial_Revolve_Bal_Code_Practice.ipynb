{
 "cells": [
  {
   "cell_type": "markdown",
   "metadata": {
    "id": "Zu7sLdATy5sz"
   },
   "source": [
    "# Project on \"Prediction of total revolving balance\""
   ]
  },
  {
   "cell_type": "code",
   "execution_count": 1,
   "metadata": {
    "executionInfo": {
     "elapsed": 6,
     "status": "ok",
     "timestamp": 1629267503076,
     "user": {
      "displayName": "SUMIT YENUGWAR",
      "photoUrl": "https://lh3.googleusercontent.com/a-/AOh14GgWF_AXb3JKzRG4HcMuK2aUrD6NWk93uKBqZpZdvQ=s64",
      "userId": "05792510571347937678"
     },
     "user_tz": -330
    },
    "id": "xEG_twN6y5s5"
   },
   "outputs": [],
   "source": [
    "# Import necessary libraries"
   ]
  },
  {
   "cell_type": "code",
   "execution_count": 2,
   "metadata": {
    "executionInfo": {
     "elapsed": 358,
     "status": "ok",
     "timestamp": 1629267503429,
     "user": {
      "displayName": "SUMIT YENUGWAR",
      "photoUrl": "https://lh3.googleusercontent.com/a-/AOh14GgWF_AXb3JKzRG4HcMuK2aUrD6NWk93uKBqZpZdvQ=s64",
      "userId": "05792510571347937678"
     },
     "user_tz": -330
    },
    "id": "vA1qIJDgy5s7"
   },
   "outputs": [],
   "source": [
    "import pandas as pd\n",
    "import numpy as np\n",
    "import matplotlib.pyplot as plt\n",
    "import seaborn as sns\n",
    "import matplotlib\n",
    "%matplotlib inline"
   ]
  },
  {
   "cell_type": "code",
   "execution_count": 3,
   "metadata": {
    "colab": {
     "base_uri": "https://localhost:8080/"
    },
    "executionInfo": {
     "elapsed": 40911,
     "status": "ok",
     "timestamp": 1629267544337,
     "user": {
      "displayName": "SUMIT YENUGWAR",
      "photoUrl": "https://lh3.googleusercontent.com/a-/AOh14GgWF_AXb3JKzRG4HcMuK2aUrD6NWk93uKBqZpZdvQ=s64",
      "userId": "05792510571347937678"
     },
     "user_tz": -330
    },
    "id": "OM6cmKjwpTp3",
    "outputId": "5712acc5-d78a-497b-a29d-72bf31480a01"
   },
   "outputs": [
    {
     "name": "stdout",
     "output_type": "stream",
     "text": [
      "Mounted at /content/drive\n"
     ]
    }
   ],
   "source": [
    "#from google.colab import drive\n",
    "#drive.mount('/content/drive')"
   ]
  },
  {
   "cell_type": "code",
   "execution_count": 5,
   "metadata": {
    "executionInfo": {
     "elapsed": 2094,
     "status": "ok",
     "timestamp": 1629267451361,
     "user": {
      "displayName": "SUMIT YENUGWAR",
      "photoUrl": "https://lh3.googleusercontent.com/a-/AOh14GgWF_AXb3JKzRG4HcMuK2aUrD6NWk93uKBqZpZdvQ=s64",
      "userId": "05792510571347937678"
     },
     "user_tz": -330
    },
    "id": "geK3W6GR4yVg"
   },
   "outputs": [],
   "source": [
    "#from google.colab import drive\n",
    "#drive.flush_and_unmount()"
   ]
  },
  {
   "cell_type": "code",
   "execution_count": 6,
   "metadata": {
    "executionInfo": {
     "elapsed": 26,
     "status": "ok",
     "timestamp": 1629267451362,
     "user": {
      "displayName": "SUMIT YENUGWAR",
      "photoUrl": "https://lh3.googleusercontent.com/a-/AOh14GgWF_AXb3JKzRG4HcMuK2aUrD6NWk93uKBqZpZdvQ=s64",
      "userId": "05792510571347937678"
     },
     "user_tz": -330
    },
    "id": "EOgWAt8Ay5s8"
   },
   "outputs": [],
   "source": [
    "# Import the data"
   ]
  },
  {
   "cell_type": "code",
   "execution_count": 4,
   "metadata": {
    "colab": {
     "base_uri": "https://localhost:8080/",
     "height": 411
    },
    "executionInfo": {
     "elapsed": 5810,
     "status": "ok",
     "timestamp": 1629267553630,
     "user": {
      "displayName": "SUMIT YENUGWAR",
      "photoUrl": "https://lh3.googleusercontent.com/a-/AOh14GgWF_AXb3JKzRG4HcMuK2aUrD6NWk93uKBqZpZdvQ=s64",
      "userId": "05792510571347937678"
     },
     "user_tz": -330
    },
    "id": "_Y6BvnrCy5s8",
    "outputId": "ce39a1e3-e137-4333-fbb4-a118c100badf"
   },
   "outputs": [
    {
     "name": "stderr",
     "output_type": "stream",
     "text": [
      "/usr/local/lib/python3.7/dist-packages/IPython/core/interactiveshell.py:2718: DtypeWarning: Columns (31) have mixed types.Specify dtype option on import or set low_memory=False.\n",
      "  interactivity=interactivity, compiler=compiler, result=result)\n"
     ]
    },
    {
     "data": {
      "text/html": [
       "<div>\n",
       "<style scoped>\n",
       "    .dataframe tbody tr th:only-of-type {\n",
       "        vertical-align: middle;\n",
       "    }\n",
       "\n",
       "    .dataframe tbody tr th {\n",
       "        vertical-align: top;\n",
       "    }\n",
       "\n",
       "    .dataframe thead th {\n",
       "        text-align: right;\n",
       "    }\n",
       "</style>\n",
       "<table border=\"1\" class=\"dataframe\">\n",
       "  <thead>\n",
       "    <tr style=\"text-align: right;\">\n",
       "      <th></th>\n",
       "      <th>member_id</th>\n",
       "      <th>loan_amnt</th>\n",
       "      <th>terms</th>\n",
       "      <th>batch_ID</th>\n",
       "      <th>Rate_of_intrst</th>\n",
       "      <th>grade</th>\n",
       "      <th>sub_grade</th>\n",
       "      <th>Emp_designation</th>\n",
       "      <th>Experience</th>\n",
       "      <th>home_ownership</th>\n",
       "      <th>annual_inc</th>\n",
       "      <th>verification_status</th>\n",
       "      <th>purpose</th>\n",
       "      <th>State</th>\n",
       "      <th>debt_income_ratio</th>\n",
       "      <th>delinq_2yrs</th>\n",
       "      <th>inq_last_6mths</th>\n",
       "      <th>mths_since_last_delinq</th>\n",
       "      <th>mths_since_last_record</th>\n",
       "      <th>numb_credit</th>\n",
       "      <th>pub_rec</th>\n",
       "      <th>total revol_bal</th>\n",
       "      <th>total_credits</th>\n",
       "      <th>initial_list_status</th>\n",
       "      <th>total_rec_int</th>\n",
       "      <th>total_rec_late_fee</th>\n",
       "      <th>recoveries</th>\n",
       "      <th>collection_recovery_fee</th>\n",
       "      <th>collections_12_mths_ex_med</th>\n",
       "      <th>mths_since_last_major_derog</th>\n",
       "      <th>application_type</th>\n",
       "      <th>verification_status_joint</th>\n",
       "      <th>last_week_pay</th>\n",
       "      <th>acc_now_delinq</th>\n",
       "      <th>tot_colle_amt</th>\n",
       "      <th>tot_curr_bal</th>\n",
       "    </tr>\n",
       "  </thead>\n",
       "  <tbody>\n",
       "    <tr>\n",
       "      <th>0</th>\n",
       "      <td>58189336</td>\n",
       "      <td>14350</td>\n",
       "      <td>36 months</td>\n",
       "      <td></td>\n",
       "      <td>19.19</td>\n",
       "      <td>E</td>\n",
       "      <td>E3</td>\n",
       "      <td>clerk</td>\n",
       "      <td>9 years</td>\n",
       "      <td>OWN</td>\n",
       "      <td>28700.0</td>\n",
       "      <td>Source Verified</td>\n",
       "      <td>debt_consolidation</td>\n",
       "      <td>FL</td>\n",
       "      <td>33.88</td>\n",
       "      <td>0.0</td>\n",
       "      <td>1.0</td>\n",
       "      <td>50.0</td>\n",
       "      <td>75.0</td>\n",
       "      <td>14.0</td>\n",
       "      <td>1.0</td>\n",
       "      <td>22515.0</td>\n",
       "      <td>28.0</td>\n",
       "      <td>f</td>\n",
       "      <td>1173.84</td>\n",
       "      <td>0.0</td>\n",
       "      <td>0.0</td>\n",
       "      <td>0.0</td>\n",
       "      <td>0.0</td>\n",
       "      <td>74.0</td>\n",
       "      <td>INDIVIDUAL</td>\n",
       "      <td>NaN</td>\n",
       "      <td>26th week</td>\n",
       "      <td>0.0</td>\n",
       "      <td>0.0</td>\n",
       "      <td>28699.0</td>\n",
       "    </tr>\n",
       "    <tr>\n",
       "      <th>1</th>\n",
       "      <td>70011223</td>\n",
       "      <td>4800</td>\n",
       "      <td>36 months</td>\n",
       "      <td>BAT1586599</td>\n",
       "      <td>10.99</td>\n",
       "      <td>B</td>\n",
       "      <td>B4</td>\n",
       "      <td>Human Resources Specialist</td>\n",
       "      <td>&lt; 1 year</td>\n",
       "      <td>MORTGAGE</td>\n",
       "      <td>65000.0</td>\n",
       "      <td>Source Verified</td>\n",
       "      <td>home_improvement</td>\n",
       "      <td>MD</td>\n",
       "      <td>3.64</td>\n",
       "      <td>0.0</td>\n",
       "      <td>1.0</td>\n",
       "      <td>NaN</td>\n",
       "      <td>NaN</td>\n",
       "      <td>6.0</td>\n",
       "      <td>0.0</td>\n",
       "      <td>7624.0</td>\n",
       "      <td>13.0</td>\n",
       "      <td>w</td>\n",
       "      <td>83.95</td>\n",
       "      <td>0.0</td>\n",
       "      <td>0.0</td>\n",
       "      <td>0.0</td>\n",
       "      <td>0.0</td>\n",
       "      <td>NaN</td>\n",
       "      <td>INDIVIDUAL</td>\n",
       "      <td>NaN</td>\n",
       "      <td>9th week</td>\n",
       "      <td>0.0</td>\n",
       "      <td>0.0</td>\n",
       "      <td>9974.0</td>\n",
       "    </tr>\n",
       "    <tr>\n",
       "      <th>2</th>\n",
       "      <td>70255675</td>\n",
       "      <td>10000</td>\n",
       "      <td>36 months</td>\n",
       "      <td>BAT1586599</td>\n",
       "      <td>7.26</td>\n",
       "      <td>A</td>\n",
       "      <td>A4</td>\n",
       "      <td>Driver</td>\n",
       "      <td>2 years</td>\n",
       "      <td>OWN</td>\n",
       "      <td>45000.0</td>\n",
       "      <td>Not Verified</td>\n",
       "      <td>debt_consolidation</td>\n",
       "      <td>OH</td>\n",
       "      <td>18.42</td>\n",
       "      <td>0.0</td>\n",
       "      <td>0.0</td>\n",
       "      <td>NaN</td>\n",
       "      <td>NaN</td>\n",
       "      <td>5.0</td>\n",
       "      <td>0.0</td>\n",
       "      <td>10877.0</td>\n",
       "      <td>19.0</td>\n",
       "      <td>w</td>\n",
       "      <td>56.47</td>\n",
       "      <td>0.0</td>\n",
       "      <td>0.0</td>\n",
       "      <td>0.0</td>\n",
       "      <td>0.0</td>\n",
       "      <td>NaN</td>\n",
       "      <td>INDIVIDUAL</td>\n",
       "      <td>NaN</td>\n",
       "      <td>9th week</td>\n",
       "      <td>0.0</td>\n",
       "      <td>65.0</td>\n",
       "      <td>38295.0</td>\n",
       "    </tr>\n",
       "    <tr>\n",
       "      <th>3</th>\n",
       "      <td>1893936</td>\n",
       "      <td>15000</td>\n",
       "      <td>36 months</td>\n",
       "      <td>BAT4808022</td>\n",
       "      <td>19.72</td>\n",
       "      <td>D</td>\n",
       "      <td>D5</td>\n",
       "      <td>Us office of Personnel Management</td>\n",
       "      <td>10+ years</td>\n",
       "      <td>RENT</td>\n",
       "      <td>105000.0</td>\n",
       "      <td>Not Verified</td>\n",
       "      <td>debt_consolidation</td>\n",
       "      <td>VA</td>\n",
       "      <td>14.97</td>\n",
       "      <td>0.0</td>\n",
       "      <td>2.0</td>\n",
       "      <td>46.0</td>\n",
       "      <td>NaN</td>\n",
       "      <td>10.0</td>\n",
       "      <td>0.0</td>\n",
       "      <td>13712.0</td>\n",
       "      <td>21.0</td>\n",
       "      <td>f</td>\n",
       "      <td>4858.62</td>\n",
       "      <td>0.0</td>\n",
       "      <td>0.0</td>\n",
       "      <td>0.0</td>\n",
       "      <td>0.0</td>\n",
       "      <td>NaN</td>\n",
       "      <td>INDIVIDUAL</td>\n",
       "      <td>NaN</td>\n",
       "      <td>135th week</td>\n",
       "      <td>0.0</td>\n",
       "      <td>0.0</td>\n",
       "      <td>55564.0</td>\n",
       "    </tr>\n",
       "    <tr>\n",
       "      <th>4</th>\n",
       "      <td>7652106</td>\n",
       "      <td>16000</td>\n",
       "      <td>36 months</td>\n",
       "      <td>BAT2833642</td>\n",
       "      <td>10.64</td>\n",
       "      <td>B</td>\n",
       "      <td>B2</td>\n",
       "      <td>LAUSD-HOLLYWOOD HIGH SCHOOL</td>\n",
       "      <td>10+ years</td>\n",
       "      <td>RENT</td>\n",
       "      <td>52000.0</td>\n",
       "      <td>Verified</td>\n",
       "      <td>credit_card</td>\n",
       "      <td>CA</td>\n",
       "      <td>20.16</td>\n",
       "      <td>0.0</td>\n",
       "      <td>0.0</td>\n",
       "      <td>NaN</td>\n",
       "      <td>NaN</td>\n",
       "      <td>11.0</td>\n",
       "      <td>0.0</td>\n",
       "      <td>35835.0</td>\n",
       "      <td>27.0</td>\n",
       "      <td>w</td>\n",
       "      <td>2296.41</td>\n",
       "      <td>0.0</td>\n",
       "      <td>0.0</td>\n",
       "      <td>0.0</td>\n",
       "      <td>0.0</td>\n",
       "      <td>NaN</td>\n",
       "      <td>INDIVIDUAL</td>\n",
       "      <td>NaN</td>\n",
       "      <td>96th week</td>\n",
       "      <td>0.0</td>\n",
       "      <td>0.0</td>\n",
       "      <td>47159.0</td>\n",
       "    </tr>\n",
       "  </tbody>\n",
       "</table>\n",
       "</div>"
      ],
      "text/plain": [
       "   member_id   loan_amnt   ... tot_colle_amt tot_curr_bal\n",
       "0    58189336       14350  ...           0.0      28699.0\n",
       "1    70011223        4800  ...           0.0       9974.0\n",
       "2    70255675       10000  ...          65.0      38295.0\n",
       "3     1893936       15000  ...           0.0      55564.0\n",
       "4     7652106       16000  ...           0.0      47159.0\n",
       "\n",
       "[5 rows x 36 columns]"
      ]
     },
     "execution_count": 4,
     "metadata": {
      "tags": []
     },
     "output_type": "execute_result"
    }
   ],
   "source": [
    "data = pd.read_csv(\"G:\\Dataset All Project\\Raw Data.csv\", encoding = \"latin1\")\n",
    "data.head()"
   ]
  },
  {
   "cell_type": "code",
   "execution_count": null,
   "metadata": {
    "executionInfo": {
     "elapsed": 487,
     "status": "aborted",
     "timestamp": 1629267451824,
     "user": {
      "displayName": "SUMIT YENUGWAR",
      "photoUrl": "https://lh3.googleusercontent.com/a-/AOh14GgWF_AXb3JKzRG4HcMuK2aUrD6NWk93uKBqZpZdvQ=s64",
      "userId": "05792510571347937678"
     },
     "user_tz": -330
    },
    "id": "cbYqhfecy5s-"
   },
   "outputs": [],
   "source": [
    "# Getting the information from the dataset"
   ]
  },
  {
   "cell_type": "code",
   "execution_count": null,
   "metadata": {
    "executionInfo": {
     "elapsed": 487,
     "status": "aborted",
     "timestamp": 1629267451826,
     "user": {
      "displayName": "SUMIT YENUGWAR",
      "photoUrl": "https://lh3.googleusercontent.com/a-/AOh14GgWF_AXb3JKzRG4HcMuK2aUrD6NWk93uKBqZpZdvQ=s64",
      "userId": "05792510571347937678"
     },
     "user_tz": -330
    },
    "id": "gj2wLGzJy5s_"
   },
   "outputs": [],
   "source": [
    "data.shape"
   ]
  },
  {
   "cell_type": "code",
   "execution_count": null,
   "metadata": {
    "executionInfo": {
     "elapsed": 489,
     "status": "aborted",
     "timestamp": 1629267451828,
     "user": {
      "displayName": "SUMIT YENUGWAR",
      "photoUrl": "https://lh3.googleusercontent.com/a-/AOh14GgWF_AXb3JKzRG4HcMuK2aUrD6NWk93uKBqZpZdvQ=s64",
      "userId": "05792510571347937678"
     },
     "user_tz": -330
    },
    "id": "bNLgYBJ8y5tA"
   },
   "outputs": [],
   "source": [
    "data.describe()"
   ]
  },
  {
   "cell_type": "code",
   "execution_count": null,
   "metadata": {
    "executionInfo": {
     "elapsed": 489,
     "status": "aborted",
     "timestamp": 1629267451828,
     "user": {
      "displayName": "SUMIT YENUGWAR",
      "photoUrl": "https://lh3.googleusercontent.com/a-/AOh14GgWF_AXb3JKzRG4HcMuK2aUrD6NWk93uKBqZpZdvQ=s64",
      "userId": "05792510571347937678"
     },
     "user_tz": -330
    },
    "id": "_uhle16Zy5tB"
   },
   "outputs": [],
   "source": [
    "data.info()"
   ]
  },
  {
   "cell_type": "markdown",
   "metadata": {
    "id": "sa9BITShy5tE"
   },
   "source": [
    "## Exploratory Data Analysis"
   ]
  },
  {
   "cell_type": "code",
   "execution_count": null,
   "metadata": {
    "executionInfo": {
     "elapsed": 490,
     "status": "aborted",
     "timestamp": 1629267451829,
     "user": {
      "displayName": "SUMIT YENUGWAR",
      "photoUrl": "https://lh3.googleusercontent.com/a-/AOh14GgWF_AXb3JKzRG4HcMuK2aUrD6NWk93uKBqZpZdvQ=s64",
      "userId": "05792510571347937678"
     },
     "user_tz": -330
    },
    "id": "db1arEASy5tF"
   },
   "outputs": [],
   "source": [
    "# Checking the null values in the dataset interms of percentage"
   ]
  },
  {
   "cell_type": "code",
   "execution_count": null,
   "metadata": {
    "executionInfo": {
     "elapsed": 491,
     "status": "aborted",
     "timestamp": 1629267451830,
     "user": {
      "displayName": "SUMIT YENUGWAR",
      "photoUrl": "https://lh3.googleusercontent.com/a-/AOh14GgWF_AXb3JKzRG4HcMuK2aUrD6NWk93uKBqZpZdvQ=s64",
      "userId": "05792510571347937678"
     },
     "user_tz": -330
    },
    "id": "T1iRXryVy5tF"
   },
   "outputs": [],
   "source": [
    "features_with_na=[features for features in data.columns if data[features].isnull().sum()>1]"
   ]
  },
  {
   "cell_type": "code",
   "execution_count": null,
   "metadata": {
    "executionInfo": {
     "elapsed": 491,
     "status": "aborted",
     "timestamp": 1629267451830,
     "user": {
      "displayName": "SUMIT YENUGWAR",
      "photoUrl": "https://lh3.googleusercontent.com/a-/AOh14GgWF_AXb3JKzRG4HcMuK2aUrD6NWk93uKBqZpZdvQ=s64",
      "userId": "05792510571347937678"
     },
     "user_tz": -330
    },
    "id": "sw-0T9Suy5tG"
   },
   "outputs": [],
   "source": [
    "for feature in features_with_na:\n",
    "    print(feature, np.round(data[feature].isnull().mean(), 4),   ' % missing values')"
   ]
  },
  {
   "cell_type": "code",
   "execution_count": null,
   "metadata": {
    "executionInfo": {
     "elapsed": 492,
     "status": "aborted",
     "timestamp": 1629267451831,
     "user": {
      "displayName": "SUMIT YENUGWAR",
      "photoUrl": "https://lh3.googleusercontent.com/a-/AOh14GgWF_AXb3JKzRG4HcMuK2aUrD6NWk93uKBqZpZdvQ=s64",
      "userId": "05792510571347937678"
     },
     "user_tz": -330
    },
    "id": "KnfPCt5vy5tH"
   },
   "outputs": [],
   "source": [
    "# Using heatmap to see the null values in each column"
   ]
  },
  {
   "cell_type": "code",
   "execution_count": null,
   "metadata": {
    "executionInfo": {
     "elapsed": 491,
     "status": "aborted",
     "timestamp": 1629267451831,
     "user": {
      "displayName": "SUMIT YENUGWAR",
      "photoUrl": "https://lh3.googleusercontent.com/a-/AOh14GgWF_AXb3JKzRG4HcMuK2aUrD6NWk93uKBqZpZdvQ=s64",
      "userId": "05792510571347937678"
     },
     "user_tz": -330
    },
    "id": "ZASKhW2Vy5tI"
   },
   "outputs": [],
   "source": [
    "plt.figure(figsize=(15,8))\n",
    "sns.heatmap(data.isnull(),yticklabels=False,cbar=False,cmap=\"viridis\")"
   ]
  },
  {
   "cell_type": "code",
   "execution_count": null,
   "metadata": {
    "executionInfo": {
     "elapsed": 493,
     "status": "aborted",
     "timestamp": 1629267451833,
     "user": {
      "displayName": "SUMIT YENUGWAR",
      "photoUrl": "https://lh3.googleusercontent.com/a-/AOh14GgWF_AXb3JKzRG4HcMuK2aUrD6NWk93uKBqZpZdvQ=s64",
      "userId": "05792510571347937678"
     },
     "user_tz": -330
    },
    "id": "nwaNerSny5tJ"
   },
   "outputs": [],
   "source": [
    "# Columns with more than 50% null values"
   ]
  },
  {
   "cell_type": "code",
   "execution_count": null,
   "metadata": {
    "executionInfo": {
     "elapsed": 494,
     "status": "aborted",
     "timestamp": 1629267451834,
     "user": {
      "displayName": "SUMIT YENUGWAR",
      "photoUrl": "https://lh3.googleusercontent.com/a-/AOh14GgWF_AXb3JKzRG4HcMuK2aUrD6NWk93uKBqZpZdvQ=s64",
      "userId": "05792510571347937678"
     },
     "user_tz": -330
    },
    "id": "o-WWCif2y5tJ"
   },
   "outputs": [],
   "source": [
    "for feature in features_with_na:\n",
    "    if np.round(data[feature].isnull().mean(), 4) > 0.7:\n",
    "        print(feature, np.round(data[feature].isnull().mean(), 4),  ' % missing values')"
   ]
  },
  {
   "cell_type": "markdown",
   "metadata": {
    "id": "dKmIPoB1y5tK"
   },
   "source": [
    "#### The 4 columns 'mths_since_last_record', 'mths_since_last_major_derog' and 'verification_status_joint'  which have more than 50% missing values, hence they are dropped as it is not recommeded to impute so much of missing data"
   ]
  },
  {
   "cell_type": "markdown",
   "metadata": {
    "id": "kJ0A57uXy5tK"
   },
   "source": [
    "#### The columns like 'member_id' and 'batch_ID' are also dropped as they are not so useful in the analysis"
   ]
  },
  {
   "cell_type": "code",
   "execution_count": null,
   "metadata": {
    "executionInfo": {
     "elapsed": 495,
     "status": "aborted",
     "timestamp": 1629267451835,
     "user": {
      "displayName": "SUMIT YENUGWAR",
      "photoUrl": "https://lh3.googleusercontent.com/a-/AOh14GgWF_AXb3JKzRG4HcMuK2aUrD6NWk93uKBqZpZdvQ=s64",
      "userId": "05792510571347937678"
     },
     "user_tz": -330
    },
    "id": "GanfIW6Sy5tL"
   },
   "outputs": [],
   "source": [
    "dataset = data.drop(columns=['mths_since_last_record','mths_since_last_major_derog', 'verification_status_joint','member_id ','batch_ID '], axis=1)"
   ]
  },
  {
   "cell_type": "code",
   "execution_count": null,
   "metadata": {
    "executionInfo": {
     "elapsed": 495,
     "status": "aborted",
     "timestamp": 1629267451835,
     "user": {
      "displayName": "SUMIT YENUGWAR",
      "photoUrl": "https://lh3.googleusercontent.com/a-/AOh14GgWF_AXb3JKzRG4HcMuK2aUrD6NWk93uKBqZpZdvQ=s64",
      "userId": "05792510571347937678"
     },
     "user_tz": -330
    },
    "id": "quZ-vwTLy5tL"
   },
   "outputs": [],
   "source": [
    "dataset.shape"
   ]
  },
  {
   "cell_type": "markdown",
   "metadata": {
    "id": "P0-Cl0x3y5tM"
   },
   "source": [
    "### Numerical variables in the data"
   ]
  },
  {
   "cell_type": "code",
   "execution_count": null,
   "metadata": {
    "executionInfo": {
     "elapsed": 496,
     "status": "aborted",
     "timestamp": 1629267451836,
     "user": {
      "displayName": "SUMIT YENUGWAR",
      "photoUrl": "https://lh3.googleusercontent.com/a-/AOh14GgWF_AXb3JKzRG4HcMuK2aUrD6NWk93uKBqZpZdvQ=s64",
      "userId": "05792510571347937678"
     },
     "user_tz": -330
    },
    "id": "08Q4w1Fay5tM"
   },
   "outputs": [],
   "source": [
    "numerical_features = [feature for feature in dataset.columns if dataset[feature].dtypes != 'O']\n",
    "print('Number of numerical variables: ', len(numerical_features))"
   ]
  },
  {
   "cell_type": "code",
   "execution_count": null,
   "metadata": {
    "executionInfo": {
     "elapsed": 496,
     "status": "aborted",
     "timestamp": 1629267451836,
     "user": {
      "displayName": "SUMIT YENUGWAR",
      "photoUrl": "https://lh3.googleusercontent.com/a-/AOh14GgWF_AXb3JKzRG4HcMuK2aUrD6NWk93uKBqZpZdvQ=s64",
      "userId": "05792510571347937678"
     },
     "user_tz": -330
    },
    "id": "68iGL_Hxy5tN",
    "scrolled": true
   },
   "outputs": [],
   "source": [
    "dataset[numerical_features].head()"
   ]
  },
  {
   "cell_type": "markdown",
   "metadata": {
    "id": "GgpkScc7y5tO"
   },
   "source": [
    "### Univariate analysis"
   ]
  },
  {
   "cell_type": "code",
   "execution_count": null,
   "metadata": {
    "executionInfo": {
     "elapsed": 496,
     "status": "aborted",
     "timestamp": 1629267451837,
     "user": {
      "displayName": "SUMIT YENUGWAR",
      "photoUrl": "https://lh3.googleusercontent.com/a-/AOh14GgWF_AXb3JKzRG4HcMuK2aUrD6NWk93uKBqZpZdvQ=s64",
      "userId": "05792510571347937678"
     },
     "user_tz": -330
    },
    "id": "lI1SkUQwy5tO"
   },
   "outputs": [],
   "source": [
    "# Lets analyse the continuous values by creating histograms to understand the distribution"
   ]
  },
  {
   "cell_type": "code",
   "execution_count": null,
   "metadata": {
    "executionInfo": {
     "elapsed": 497,
     "status": "aborted",
     "timestamp": 1629267451838,
     "user": {
      "displayName": "SUMIT YENUGWAR",
      "photoUrl": "https://lh3.googleusercontent.com/a-/AOh14GgWF_AXb3JKzRG4HcMuK2aUrD6NWk93uKBqZpZdvQ=s64",
      "userId": "05792510571347937678"
     },
     "user_tz": -330
    },
    "id": "6HLG3daCy5tP",
    "scrolled": false
   },
   "outputs": [],
   "source": [
    "for feature in numerical_features:\n",
    "    data = dataset.copy()\n",
    "    data[feature].hist(bins=25)\n",
    "    plt.xlabel(feature)\n",
    "    plt.ylabel(\"Count\")\n",
    "    plt.title(feature)\n",
    "    plt.show()"
   ]
  },
  {
   "cell_type": "code",
   "execution_count": null,
   "metadata": {
    "executionInfo": {
     "elapsed": 497,
     "status": "aborted",
     "timestamp": 1629267451838,
     "user": {
      "displayName": "SUMIT YENUGWAR",
      "photoUrl": "https://lh3.googleusercontent.com/a-/AOh14GgWF_AXb3JKzRG4HcMuK2aUrD6NWk93uKBqZpZdvQ=s64",
      "userId": "05792510571347937678"
     },
     "user_tz": -330
    },
    "id": "zUaPlQVj0QrP"
   },
   "outputs": [],
   "source": [
    "data['total revol_bal'].hist()\n",
    "plt.ylabel(\"freq of val of total revol balance\")\n",
    "plt.xlabel(\"value of total revol\")\n",
    "plt.show()"
   ]
  },
  {
   "cell_type": "markdown",
   "metadata": {
    "id": "aSQ9d7w2y5tP"
   },
   "source": [
    "#### The distribution of data for many columns is not normal or Gaussion distribution, hence they are skewed"
   ]
  },
  {
   "cell_type": "markdown",
   "metadata": {
    "id": "7Z-TeAJ1y5tQ"
   },
   "source": [
    "### Checking the boxplots"
   ]
  },
  {
   "cell_type": "code",
   "execution_count": null,
   "metadata": {
    "executionInfo": {
     "elapsed": 498,
     "status": "aborted",
     "timestamp": 1629267451839,
     "user": {
      "displayName": "SUMIT YENUGWAR",
      "photoUrl": "https://lh3.googleusercontent.com/a-/AOh14GgWF_AXb3JKzRG4HcMuK2aUrD6NWk93uKBqZpZdvQ=s64",
      "userId": "05792510571347937678"
     },
     "user_tz": -330
    },
    "id": "1951-fhyy5tQ",
    "scrolled": false
   },
   "outputs": [],
   "source": [
    "for feature in numerical_features:\n",
    "    data = dataset.copy()\n",
    "    dataset.boxplot(column=feature)\n",
    "    plt.ylabel(feature)\n",
    "    plt.title(feature)\n",
    "    plt.show()"
   ]
  },
  {
   "cell_type": "markdown",
   "metadata": {
    "id": "x8xr-b1hy5tR"
   },
   "source": [
    "#### Lot of outliers are present in many columns as seen with the boxplots"
   ]
  },
  {
   "cell_type": "markdown",
   "metadata": {
    "id": "9IixYkphy5tR"
   },
   "source": [
    "### Bivariate analysis"
   ]
  },
  {
   "cell_type": "code",
   "execution_count": null,
   "metadata": {
    "executionInfo": {
     "elapsed": 498,
     "status": "aborted",
     "timestamp": 1629267451839,
     "user": {
      "displayName": "SUMIT YENUGWAR",
      "photoUrl": "https://lh3.googleusercontent.com/a-/AOh14GgWF_AXb3JKzRG4HcMuK2aUrD6NWk93uKBqZpZdvQ=s64",
      "userId": "05792510571347937678"
     },
     "user_tz": -330
    },
    "id": "V4wAdXq8y5tR"
   },
   "outputs": [],
   "source": [
    "# Using scatter plots of indepedent numerical variables with the output variable "
   ]
  },
  {
   "cell_type": "code",
   "execution_count": null,
   "metadata": {
    "executionInfo": {
     "elapsed": 499,
     "status": "aborted",
     "timestamp": 1629267451840,
     "user": {
      "displayName": "SUMIT YENUGWAR",
      "photoUrl": "https://lh3.googleusercontent.com/a-/AOh14GgWF_AXb3JKzRG4HcMuK2aUrD6NWk93uKBqZpZdvQ=s64",
      "userId": "05792510571347937678"
     },
     "user_tz": -330
    },
    "id": "IqVKV-g8y5tS",
    "scrolled": false
   },
   "outputs": [],
   "source": [
    "for feature in numerical_features:\n",
    "    data = dataset.copy()\n",
    "    plt.plot(data[feature], data['total revol_bal'], \"bo\")\n",
    "    plt.xlabel(feature)\n",
    "    plt.ylabel('total revol_bal')\n",
    "    plt.title(\"Scatter plot\")\n",
    "    plt.show()"
   ]
  },
  {
   "cell_type": "markdown",
   "metadata": {
    "id": "hWIC0ehqy5tS"
   },
   "source": [
    "#### Scatter plots of some columns shows good co-relation with the output variable"
   ]
  },
  {
   "cell_type": "markdown",
   "metadata": {
    "id": "iNBHnsGXy5tS"
   },
   "source": [
    "## Categorical variables"
   ]
  },
  {
   "cell_type": "code",
   "execution_count": null,
   "metadata": {
    "executionInfo": {
     "elapsed": 498,
     "status": "aborted",
     "timestamp": 1629267451840,
     "user": {
      "displayName": "SUMIT YENUGWAR",
      "photoUrl": "https://lh3.googleusercontent.com/a-/AOh14GgWF_AXb3JKzRG4HcMuK2aUrD6NWk93uKBqZpZdvQ=s64",
      "userId": "05792510571347937678"
     },
     "user_tz": -330
    },
    "id": "v4TIu702y5tT"
   },
   "outputs": [],
   "source": [
    "categorical_features=[feature for feature in dataset.columns if dataset[feature].dtypes=='O']\n",
    "print('Number of categorical variables: ', len(categorical_features))"
   ]
  },
  {
   "cell_type": "code",
   "execution_count": null,
   "metadata": {
    "executionInfo": {
     "elapsed": 498,
     "status": "aborted",
     "timestamp": 1629267451840,
     "user": {
      "displayName": "SUMIT YENUGWAR",
      "photoUrl": "https://lh3.googleusercontent.com/a-/AOh14GgWF_AXb3JKzRG4HcMuK2aUrD6NWk93uKBqZpZdvQ=s64",
      "userId": "05792510571347937678"
     },
     "user_tz": -330
    },
    "id": "ISktRL1Ey5tT"
   },
   "outputs": [],
   "source": [
    "dataset[categorical_features].head()"
   ]
  },
  {
   "cell_type": "code",
   "execution_count": null,
   "metadata": {
    "executionInfo": {
     "elapsed": 499,
     "status": "aborted",
     "timestamp": 1629267451841,
     "user": {
      "displayName": "SUMIT YENUGWAR",
      "photoUrl": "https://lh3.googleusercontent.com/a-/AOh14GgWF_AXb3JKzRG4HcMuK2aUrD6NWk93uKBqZpZdvQ=s64",
      "userId": "05792510571347937678"
     },
     "user_tz": -330
    },
    "id": "7XhQjBwZy5tT"
   },
   "outputs": [],
   "source": [
    "# Checking the number of unique values in each variable"
   ]
  },
  {
   "cell_type": "code",
   "execution_count": null,
   "metadata": {
    "executionInfo": {
     "elapsed": 501,
     "status": "aborted",
     "timestamp": 1629267451843,
     "user": {
      "displayName": "SUMIT YENUGWAR",
      "photoUrl": "https://lh3.googleusercontent.com/a-/AOh14GgWF_AXb3JKzRG4HcMuK2aUrD6NWk93uKBqZpZdvQ=s64",
      "userId": "05792510571347937678"
     },
     "user_tz": -330
    },
    "id": "3aWyVQJ2y5tU"
   },
   "outputs": [],
   "source": [
    "dataset[categorical_features].nunique()"
   ]
  },
  {
   "cell_type": "markdown",
   "metadata": {
    "id": "cbIrGk8fy5tU"
   },
   "source": [
    "### Univariate analysis"
   ]
  },
  {
   "cell_type": "code",
   "execution_count": null,
   "metadata": {
    "executionInfo": {
     "elapsed": 501,
     "status": "aborted",
     "timestamp": 1629267451843,
     "user": {
      "displayName": "SUMIT YENUGWAR",
      "photoUrl": "https://lh3.googleusercontent.com/a-/AOh14GgWF_AXb3JKzRG4HcMuK2aUrD6NWk93uKBqZpZdvQ=s64",
      "userId": "05792510571347937678"
     },
     "user_tz": -330
    },
    "id": "KuCa4SBDy5tU"
   },
   "outputs": [],
   "source": [
    "# Using countplots see the frequencies of each categotical values"
   ]
  },
  {
   "cell_type": "code",
   "execution_count": null,
   "metadata": {
    "executionInfo": {
     "elapsed": 501,
     "status": "aborted",
     "timestamp": 1629267451844,
     "user": {
      "displayName": "SUMIT YENUGWAR",
      "photoUrl": "https://lh3.googleusercontent.com/a-/AOh14GgWF_AXb3JKzRG4HcMuK2aUrD6NWk93uKBqZpZdvQ=s64",
      "userId": "05792510571347937678"
     },
     "user_tz": -330
    },
    "id": "jUctdfpry5tV"
   },
   "outputs": [],
   "source": [
    "sns.countplot(\"terms\", data=dataset, palette='hls')"
   ]
  },
  {
   "cell_type": "code",
   "execution_count": null,
   "metadata": {
    "executionInfo": {
     "elapsed": 502,
     "status": "aborted",
     "timestamp": 1629267451845,
     "user": {
      "displayName": "SUMIT YENUGWAR",
      "photoUrl": "https://lh3.googleusercontent.com/a-/AOh14GgWF_AXb3JKzRG4HcMuK2aUrD6NWk93uKBqZpZdvQ=s64",
      "userId": "05792510571347937678"
     },
     "user_tz": -330
    },
    "id": "XQoym3cKy5tV"
   },
   "outputs": [],
   "source": [
    "sns.countplot(\"grade\", data=dataset, palette='hls')"
   ]
  },
  {
   "cell_type": "code",
   "execution_count": null,
   "metadata": {
    "executionInfo": {
     "elapsed": 503,
     "status": "aborted",
     "timestamp": 1629267451846,
     "user": {
      "displayName": "SUMIT YENUGWAR",
      "photoUrl": "https://lh3.googleusercontent.com/a-/AOh14GgWF_AXb3JKzRG4HcMuK2aUrD6NWk93uKBqZpZdvQ=s64",
      "userId": "05792510571347937678"
     },
     "user_tz": -330
    },
    "id": "dlJ-Ojx2y5tV"
   },
   "outputs": [],
   "source": [
    "plt.figure(figsize=(9,5))\n",
    "sns.countplot(\"Experience\", data=dataset, palette='hls')"
   ]
  },
  {
   "cell_type": "code",
   "execution_count": null,
   "metadata": {
    "executionInfo": {
     "elapsed": 507,
     "status": "aborted",
     "timestamp": 1629267451850,
     "user": {
      "displayName": "SUMIT YENUGWAR",
      "photoUrl": "https://lh3.googleusercontent.com/a-/AOh14GgWF_AXb3JKzRG4HcMuK2aUrD6NWk93uKBqZpZdvQ=s64",
      "userId": "05792510571347937678"
     },
     "user_tz": -330
    },
    "id": "MOKMS_wuy5tV"
   },
   "outputs": [],
   "source": [
    "sns.countplot(\"home_ownership\", data=dataset, palette='hls')"
   ]
  },
  {
   "cell_type": "code",
   "execution_count": null,
   "metadata": {
    "executionInfo": {
     "elapsed": 72,
     "status": "aborted",
     "timestamp": 1629267451865,
     "user": {
      "displayName": "SUMIT YENUGWAR",
      "photoUrl": "https://lh3.googleusercontent.com/a-/AOh14GgWF_AXb3JKzRG4HcMuK2aUrD6NWk93uKBqZpZdvQ=s64",
      "userId": "05792510571347937678"
     },
     "user_tz": -330
    },
    "id": "lFldev4Ny5tW"
   },
   "outputs": [],
   "source": [
    "sns.countplot(\"verification_status\", data=dataset, palette='hls')"
   ]
  },
  {
   "cell_type": "code",
   "execution_count": null,
   "metadata": {
    "executionInfo": {
     "elapsed": 821,
     "status": "aborted",
     "timestamp": 1629267452615,
     "user": {
      "displayName": "SUMIT YENUGWAR",
      "photoUrl": "https://lh3.googleusercontent.com/a-/AOh14GgWF_AXb3JKzRG4HcMuK2aUrD6NWk93uKBqZpZdvQ=s64",
      "userId": "05792510571347937678"
     },
     "user_tz": -330
    },
    "id": "gUJH8gHuy5tW"
   },
   "outputs": [],
   "source": [
    "plt.figure(figsize=(20,5))\n",
    "sns.countplot(\"purpose\", data=dataset, palette='hls')"
   ]
  },
  {
   "cell_type": "code",
   "execution_count": null,
   "metadata": {
    "executionInfo": {
     "elapsed": 823,
     "status": "aborted",
     "timestamp": 1629267452617,
     "user": {
      "displayName": "SUMIT YENUGWAR",
      "photoUrl": "https://lh3.googleusercontent.com/a-/AOh14GgWF_AXb3JKzRG4HcMuK2aUrD6NWk93uKBqZpZdvQ=s64",
      "userId": "05792510571347937678"
     },
     "user_tz": -330
    },
    "id": "yDkCQAlSy5tW"
   },
   "outputs": [],
   "source": [
    "sns.countplot(\"initial_list_status\", data=dataset, palette='hls')"
   ]
  },
  {
   "cell_type": "code",
   "execution_count": null,
   "metadata": {
    "executionInfo": {
     "elapsed": 824,
     "status": "aborted",
     "timestamp": 1629267452618,
     "user": {
      "displayName": "SUMIT YENUGWAR",
      "photoUrl": "https://lh3.googleusercontent.com/a-/AOh14GgWF_AXb3JKzRG4HcMuK2aUrD6NWk93uKBqZpZdvQ=s64",
      "userId": "05792510571347937678"
     },
     "user_tz": -330
    },
    "id": "2kFaZfDKy5tb"
   },
   "outputs": [],
   "source": [
    "sns.countplot(\"application_type\", data=dataset, palette='hls')"
   ]
  },
  {
   "cell_type": "markdown",
   "metadata": {
    "id": "bV10-HRly5tb"
   },
   "source": [
    "### Bi-variate analysis"
   ]
  },
  {
   "cell_type": "code",
   "execution_count": null,
   "metadata": {
    "executionInfo": {
     "elapsed": 825,
     "status": "aborted",
     "timestamp": 1629267452619,
     "user": {
      "displayName": "SUMIT YENUGWAR",
      "photoUrl": "https://lh3.googleusercontent.com/a-/AOh14GgWF_AXb3JKzRG4HcMuK2aUrD6NWk93uKBqZpZdvQ=s64",
      "userId": "05792510571347937678"
     },
     "user_tz": -330
    },
    "id": "AcVmSBPcy5tb"
   },
   "outputs": [],
   "source": [
    "# Plotting categorical values with the output variable to check relation"
   ]
  },
  {
   "cell_type": "code",
   "execution_count": null,
   "metadata": {
    "executionInfo": {
     "elapsed": 824,
     "status": "aborted",
     "timestamp": 1629267452619,
     "user": {
      "displayName": "SUMIT YENUGWAR",
      "photoUrl": "https://lh3.googleusercontent.com/a-/AOh14GgWF_AXb3JKzRG4HcMuK2aUrD6NWk93uKBqZpZdvQ=s64",
      "userId": "05792510571347937678"
     },
     "user_tz": -330
    },
    "id": "y7vHVNQXy5tb"
   },
   "outputs": [],
   "source": [
    "dataset.groupby('terms')['total revol_bal'].median().plot.bar(); plt.xlabel('terms'); plt.ylabel('total revol_bal')"
   ]
  },
  {
   "cell_type": "code",
   "execution_count": null,
   "metadata": {
    "executionInfo": {
     "elapsed": 824,
     "status": "aborted",
     "timestamp": 1629267452619,
     "user": {
      "displayName": "SUMIT YENUGWAR",
      "photoUrl": "https://lh3.googleusercontent.com/a-/AOh14GgWF_AXb3JKzRG4HcMuK2aUrD6NWk93uKBqZpZdvQ=s64",
      "userId": "05792510571347937678"
     },
     "user_tz": -330
    },
    "id": "t_lOIz9Ay5tb"
   },
   "outputs": [],
   "source": [
    "dataset.groupby('grade')['total revol_bal'].median().plot.bar(); plt.xlabel('grade'); plt.ylabel('total revol_bal')"
   ]
  },
  {
   "cell_type": "code",
   "execution_count": null,
   "metadata": {
    "executionInfo": {
     "elapsed": 825,
     "status": "aborted",
     "timestamp": 1629267452620,
     "user": {
      "displayName": "SUMIT YENUGWAR",
      "photoUrl": "https://lh3.googleusercontent.com/a-/AOh14GgWF_AXb3JKzRG4HcMuK2aUrD6NWk93uKBqZpZdvQ=s64",
      "userId": "05792510571347937678"
     },
     "user_tz": -330
    },
    "id": "RZ1IMWOvy5tc"
   },
   "outputs": [],
   "source": [
    "dataset.groupby('Experience')['total revol_bal'].median().plot.bar(); plt.xlabel('Experience'); plt.ylabel('total revol_bal')"
   ]
  },
  {
   "cell_type": "code",
   "execution_count": null,
   "metadata": {
    "executionInfo": {
     "elapsed": 825,
     "status": "aborted",
     "timestamp": 1629267452620,
     "user": {
      "displayName": "SUMIT YENUGWAR",
      "photoUrl": "https://lh3.googleusercontent.com/a-/AOh14GgWF_AXb3JKzRG4HcMuK2aUrD6NWk93uKBqZpZdvQ=s64",
      "userId": "05792510571347937678"
     },
     "user_tz": -330
    },
    "id": "qDncJ_AUy5tc"
   },
   "outputs": [],
   "source": [
    "dataset.groupby('home_ownership')['total revol_bal'].median().plot.bar(); plt.xlabel('home_ownership'); plt.ylabel('total revol_bal')"
   ]
  },
  {
   "cell_type": "code",
   "execution_count": null,
   "metadata": {
    "executionInfo": {
     "elapsed": 826,
     "status": "aborted",
     "timestamp": 1629267452621,
     "user": {
      "displayName": "SUMIT YENUGWAR",
      "photoUrl": "https://lh3.googleusercontent.com/a-/AOh14GgWF_AXb3JKzRG4HcMuK2aUrD6NWk93uKBqZpZdvQ=s64",
      "userId": "05792510571347937678"
     },
     "user_tz": -330
    },
    "id": "mu8CPq4ly5td",
    "scrolled": false
   },
   "outputs": [],
   "source": [
    "dataset.groupby('purpose')['total revol_bal'].median().plot.bar(); plt.xlabel('purpose'); plt.ylabel('total revol_bal')"
   ]
  },
  {
   "cell_type": "code",
   "execution_count": null,
   "metadata": {
    "executionInfo": {
     "elapsed": 825,
     "status": "aborted",
     "timestamp": 1629267452621,
     "user": {
      "displayName": "SUMIT YENUGWAR",
      "photoUrl": "https://lh3.googleusercontent.com/a-/AOh14GgWF_AXb3JKzRG4HcMuK2aUrD6NWk93uKBqZpZdvQ=s64",
      "userId": "05792510571347937678"
     },
     "user_tz": -330
    },
    "id": "7-aNTauUy5td"
   },
   "outputs": [],
   "source": [
    "dataset.groupby('verification_status')['total revol_bal'].median().plot.bar(); plt.xlabel('verification_status'); plt.ylabel('total revol_bal')"
   ]
  },
  {
   "cell_type": "markdown",
   "metadata": {
    "id": "wJztshbqy5td"
   },
   "source": [
    "#### Some categorical varibales have good influence on the output variable"
   ]
  },
  {
   "cell_type": "markdown",
   "metadata": {
    "id": "dXCCnsTzy5te"
   },
   "source": [
    "## Feature Engineering"
   ]
  },
  {
   "cell_type": "markdown",
   "metadata": {
    "id": "Byg7Ey_py5te"
   },
   "source": [
    "### Co-relation matrix for checking correlation"
   ]
  },
  {
   "cell_type": "code",
   "execution_count": null,
   "metadata": {
    "executionInfo": {
     "elapsed": 826,
     "status": "aborted",
     "timestamp": 1629267452622,
     "user": {
      "displayName": "SUMIT YENUGWAR",
      "photoUrl": "https://lh3.googleusercontent.com/a-/AOh14GgWF_AXb3JKzRG4HcMuK2aUrD6NWk93uKBqZpZdvQ=s64",
      "userId": "05792510571347937678"
     },
     "user_tz": -330
    },
    "id": "wj4ETO3ry5te"
   },
   "outputs": [],
   "source": [
    "correlation = dataset.corr()\n",
    "correlation"
   ]
  },
  {
   "cell_type": "code",
   "execution_count": null,
   "metadata": {
    "executionInfo": {
     "elapsed": 826,
     "status": "aborted",
     "timestamp": 1629267452622,
     "user": {
      "displayName": "SUMIT YENUGWAR",
      "photoUrl": "https://lh3.googleusercontent.com/a-/AOh14GgWF_AXb3JKzRG4HcMuK2aUrD6NWk93uKBqZpZdvQ=s64",
      "userId": "05792510571347937678"
     },
     "user_tz": -330
    },
    "id": "GvOVySdYy5tf"
   },
   "outputs": [],
   "source": [
    "# Plotting the correlation using heatmap"
   ]
  },
  {
   "cell_type": "code",
   "execution_count": null,
   "metadata": {
    "executionInfo": {
     "elapsed": 827,
     "status": "aborted",
     "timestamp": 1629267452623,
     "user": {
      "displayName": "SUMIT YENUGWAR",
      "photoUrl": "https://lh3.googleusercontent.com/a-/AOh14GgWF_AXb3JKzRG4HcMuK2aUrD6NWk93uKBqZpZdvQ=s64",
      "userId": "05792510571347937678"
     },
     "user_tz": -330
    },
    "id": "rfoVECD4y5tf"
   },
   "outputs": [],
   "source": [
    "plt.figure(figsize=(15,8))\n",
    "sns.heatmap(correlation,xticklabels='auto',yticklabels='auto',cbar=True,cmap=\"viridis\")"
   ]
  },
  {
   "cell_type": "markdown",
   "metadata": {
    "id": "BTePUdAVy5tf"
   },
   "source": [
    "#### The variables \"collection_recovery_fee\" and \"total_credits\" from the dataset have high correlation with \"recoveries\" and \"numb_credit\" respectively"
   ]
  },
  {
   "cell_type": "code",
   "execution_count": null,
   "metadata": {
    "executionInfo": {
     "elapsed": 827,
     "status": "aborted",
     "timestamp": 1629267452623,
     "user": {
      "displayName": "SUMIT YENUGWAR",
      "photoUrl": "https://lh3.googleusercontent.com/a-/AOh14GgWF_AXb3JKzRG4HcMuK2aUrD6NWk93uKBqZpZdvQ=s64",
      "userId": "05792510571347937678"
     },
     "user_tz": -330
    },
    "id": "QbqFv8v5y5tf"
   },
   "outputs": [],
   "source": [
    "dataset[\"recoveries\"].corr(dataset[\"collection_recovery_fee\"])"
   ]
  },
  {
   "cell_type": "code",
   "execution_count": null,
   "metadata": {
    "executionInfo": {
     "elapsed": 827,
     "status": "aborted",
     "timestamp": 1629267452623,
     "user": {
      "displayName": "SUMIT YENUGWAR",
      "photoUrl": "https://lh3.googleusercontent.com/a-/AOh14GgWF_AXb3JKzRG4HcMuK2aUrD6NWk93uKBqZpZdvQ=s64",
      "userId": "05792510571347937678"
     },
     "user_tz": -330
    },
    "id": "jPSUrBXOy5tf"
   },
   "outputs": [],
   "source": [
    "dataset[\"numb_credit\"].corr(dataset[\"total_credits\"])"
   ]
  },
  {
   "cell_type": "markdown",
   "metadata": {
    "id": "5rMZMls5y5tg"
   },
   "source": [
    "#### Hence the \"collection_recovery_fee\" and \"total_credits\" variables are dropped"
   ]
  },
  {
   "cell_type": "code",
   "execution_count": null,
   "metadata": {
    "executionInfo": {
     "elapsed": 827,
     "status": "aborted",
     "timestamp": 1629267452624,
     "user": {
      "displayName": "SUMIT YENUGWAR",
      "photoUrl": "https://lh3.googleusercontent.com/a-/AOh14GgWF_AXb3JKzRG4HcMuK2aUrD6NWk93uKBqZpZdvQ=s64",
      "userId": "05792510571347937678"
     },
     "user_tz": -330
    },
    "id": "LzcTzU9Qy5tg"
   },
   "outputs": [],
   "source": [
    "dataset =dataset.drop(columns = [\"collection_recovery_fee\",\"total_credits\"],axis=1 )"
   ]
  },
  {
   "cell_type": "code",
   "execution_count": null,
   "metadata": {
    "executionInfo": {
     "elapsed": 827,
     "status": "aborted",
     "timestamp": 1629267452624,
     "user": {
      "displayName": "SUMIT YENUGWAR",
      "photoUrl": "https://lh3.googleusercontent.com/a-/AOh14GgWF_AXb3JKzRG4HcMuK2aUrD6NWk93uKBqZpZdvQ=s64",
      "userId": "05792510571347937678"
     },
     "user_tz": -330
    },
    "id": "xqxB-j6Jy5tg"
   },
   "outputs": [],
   "source": [
    "dataset.shape"
   ]
  },
  {
   "cell_type": "markdown",
   "metadata": {
    "id": "YLI3ujo3y5tg"
   },
   "source": [
    "## Handling the missing values"
   ]
  },
  {
   "cell_type": "code",
   "execution_count": null,
   "metadata": {
    "executionInfo": {
     "elapsed": 828,
     "status": "aborted",
     "timestamp": 1629267452625,
     "user": {
      "displayName": "SUMIT YENUGWAR",
      "photoUrl": "https://lh3.googleusercontent.com/a-/AOh14GgWF_AXb3JKzRG4HcMuK2aUrD6NWk93uKBqZpZdvQ=s64",
      "userId": "05792510571347937678"
     },
     "user_tz": -330
    },
    "id": "d74AuS06y5th"
   },
   "outputs": [],
   "source": [
    "dataset.isna().sum()"
   ]
  },
  {
   "cell_type": "markdown",
   "metadata": {
    "id": "gUn5bLyOy5th"
   },
   "source": [
    "### Replacing the NA values in categorical variables"
   ]
  },
  {
   "cell_type": "markdown",
   "metadata": {
    "id": "ImOpEWCvy5th"
   },
   "source": [
    "#### Emp_designation"
   ]
  },
  {
   "cell_type": "code",
   "execution_count": null,
   "metadata": {
    "executionInfo": {
     "elapsed": 828,
     "status": "aborted",
     "timestamp": 1629267452625,
     "user": {
      "displayName": "SUMIT YENUGWAR",
      "photoUrl": "https://lh3.googleusercontent.com/a-/AOh14GgWF_AXb3JKzRG4HcMuK2aUrD6NWk93uKBqZpZdvQ=s64",
      "userId": "05792510571347937678"
     },
     "user_tz": -330
    },
    "id": "BPiY374ay5th"
   },
   "outputs": [],
   "source": [
    "dataset[\"Emp_designation\"].describe()"
   ]
  },
  {
   "cell_type": "code",
   "execution_count": null,
   "metadata": {
    "executionInfo": {
     "elapsed": 826,
     "status": "aborted",
     "timestamp": 1629267452626,
     "user": {
      "displayName": "SUMIT YENUGWAR",
      "photoUrl": "https://lh3.googleusercontent.com/a-/AOh14GgWF_AXb3JKzRG4HcMuK2aUrD6NWk93uKBqZpZdvQ=s64",
      "userId": "05792510571347937678"
     },
     "user_tz": -330
    },
    "id": "whLkWy-My5th"
   },
   "outputs": [],
   "source": [
    "# Replacing the NA values in designation with \"No designation\""
   ]
  },
  {
   "cell_type": "code",
   "execution_count": null,
   "metadata": {
    "executionInfo": {
     "elapsed": 826,
     "status": "aborted",
     "timestamp": 1629267452626,
     "user": {
      "displayName": "SUMIT YENUGWAR",
      "photoUrl": "https://lh3.googleusercontent.com/a-/AOh14GgWF_AXb3JKzRG4HcMuK2aUrD6NWk93uKBqZpZdvQ=s64",
      "userId": "05792510571347937678"
     },
     "user_tz": -330
    },
    "id": "cNpd_Hnpy5th"
   },
   "outputs": [],
   "source": [
    "dataset[\"Emp_designation\"].fillna(\"No_designation\", inplace = True) "
   ]
  },
  {
   "cell_type": "markdown",
   "metadata": {
    "id": "XqZMbzLLy5th"
   },
   "source": [
    "####  Experience"
   ]
  },
  {
   "cell_type": "code",
   "execution_count": null,
   "metadata": {
    "executionInfo": {
     "elapsed": 826,
     "status": "aborted",
     "timestamp": 1629267452627,
     "user": {
      "displayName": "SUMIT YENUGWAR",
      "photoUrl": "https://lh3.googleusercontent.com/a-/AOh14GgWF_AXb3JKzRG4HcMuK2aUrD6NWk93uKBqZpZdvQ=s64",
      "userId": "05792510571347937678"
     },
     "user_tz": -330
    },
    "id": "wU8AsfdHy5ti",
    "scrolled": true
   },
   "outputs": [],
   "source": [
    "dataset[\"Experience\"].describe()"
   ]
  },
  {
   "cell_type": "code",
   "execution_count": null,
   "metadata": {
    "executionInfo": {
     "elapsed": 826,
     "status": "aborted",
     "timestamp": 1629267452627,
     "user": {
      "displayName": "SUMIT YENUGWAR",
      "photoUrl": "https://lh3.googleusercontent.com/a-/AOh14GgWF_AXb3JKzRG4HcMuK2aUrD6NWk93uKBqZpZdvQ=s64",
      "userId": "05792510571347937678"
     },
     "user_tz": -330
    },
    "id": "Rg9PPijcy5ti"
   },
   "outputs": [],
   "source": [
    "# Replacing the NA values in experience as \"0 years\""
   ]
  },
  {
   "cell_type": "code",
   "execution_count": null,
   "metadata": {
    "executionInfo": {
     "elapsed": 827,
     "status": "aborted",
     "timestamp": 1629267452628,
     "user": {
      "displayName": "SUMIT YENUGWAR",
      "photoUrl": "https://lh3.googleusercontent.com/a-/AOh14GgWF_AXb3JKzRG4HcMuK2aUrD6NWk93uKBqZpZdvQ=s64",
      "userId": "05792510571347937678"
     },
     "user_tz": -330
    },
    "id": "xvL8chxiy5ti"
   },
   "outputs": [],
   "source": [
    "dataset[\"Experience\"].fillna(\"0 years\", inplace=True)"
   ]
  },
  {
   "cell_type": "markdown",
   "metadata": {
    "id": "sGpRmmQ5y5ti"
   },
   "source": [
    "### Replacing NA values in numerical variables"
   ]
  },
  {
   "cell_type": "code",
   "execution_count": null,
   "metadata": {
    "executionInfo": {
     "elapsed": 826,
     "status": "aborted",
     "timestamp": 1629267452628,
     "user": {
      "displayName": "SUMIT YENUGWAR",
      "photoUrl": "https://lh3.googleusercontent.com/a-/AOh14GgWF_AXb3JKzRG4HcMuK2aUrD6NWk93uKBqZpZdvQ=s64",
      "userId": "05792510571347937678"
     },
     "user_tz": -330
    },
    "id": "DG5Z7Wzcy5ti",
    "scrolled": true
   },
   "outputs": [],
   "source": [
    "# Replacing the NA values in the numerical variables with the median"
   ]
  },
  {
   "cell_type": "code",
   "execution_count": null,
   "metadata": {
    "executionInfo": {
     "elapsed": 826,
     "status": "aborted",
     "timestamp": 1629267452628,
     "user": {
      "displayName": "SUMIT YENUGWAR",
      "photoUrl": "https://lh3.googleusercontent.com/a-/AOh14GgWF_AXb3JKzRG4HcMuK2aUrD6NWk93uKBqZpZdvQ=s64",
      "userId": "05792510571347937678"
     },
     "user_tz": -330
    },
    "id": "4d_JSvrGy5ti"
   },
   "outputs": [],
   "source": [
    "for feature in dataset:\n",
    "    if dataset[feature].isna().sum() > 0:\n",
    "        dataset[feature]= dataset[feature].fillna(dataset[feature].median())"
   ]
  },
  {
   "cell_type": "code",
   "execution_count": null,
   "metadata": {
    "executionInfo": {
     "elapsed": 827,
     "status": "aborted",
     "timestamp": 1629267452629,
     "user": {
      "displayName": "SUMIT YENUGWAR",
      "photoUrl": "https://lh3.googleusercontent.com/a-/AOh14GgWF_AXb3JKzRG4HcMuK2aUrD6NWk93uKBqZpZdvQ=s64",
      "userId": "05792510571347937678"
     },
     "user_tz": -330
    },
    "id": "JMCpxodBy5tj"
   },
   "outputs": [],
   "source": [
    "dataset.isna().sum()"
   ]
  },
  {
   "cell_type": "markdown",
   "metadata": {
    "id": "vOKcbGley5tj"
   },
   "source": [
    "#### All the NA values has been replaced"
   ]
  },
  {
   "cell_type": "markdown",
   "metadata": {
    "id": "8Esnntnly5tj"
   },
   "source": [
    "### Handling the categorical variables"
   ]
  },
  {
   "cell_type": "code",
   "execution_count": null,
   "metadata": {
    "executionInfo": {
     "elapsed": 827,
     "status": "aborted",
     "timestamp": 1629267452630,
     "user": {
      "displayName": "SUMIT YENUGWAR",
      "photoUrl": "https://lh3.googleusercontent.com/a-/AOh14GgWF_AXb3JKzRG4HcMuK2aUrD6NWk93uKBqZpZdvQ=s64",
      "userId": "05792510571347937678"
     },
     "user_tz": -330
    },
    "id": "R6ibgLrZy5tj"
   },
   "outputs": [],
   "source": [
    "dataset[categorical_features].nunique()"
   ]
  },
  {
   "cell_type": "code",
   "execution_count": null,
   "metadata": {
    "executionInfo": {
     "elapsed": 829,
     "status": "aborted",
     "timestamp": 1629267452632,
     "user": {
      "displayName": "SUMIT YENUGWAR",
      "photoUrl": "https://lh3.googleusercontent.com/a-/AOh14GgWF_AXb3JKzRG4HcMuK2aUrD6NWk93uKBqZpZdvQ=s64",
      "userId": "05792510571347937678"
     },
     "user_tz": -330
    },
    "id": "nXqEzNnqy5tj",
    "scrolled": true
   },
   "outputs": [],
   "source": [
    "dataset.groupby('grade').median()"
   ]
  },
  {
   "cell_type": "code",
   "execution_count": null,
   "metadata": {
    "executionInfo": {
     "elapsed": 830,
     "status": "aborted",
     "timestamp": 1629267452633,
     "user": {
      "displayName": "SUMIT YENUGWAR",
      "photoUrl": "https://lh3.googleusercontent.com/a-/AOh14GgWF_AXb3JKzRG4HcMuK2aUrD6NWk93uKBqZpZdvQ=s64",
      "userId": "05792510571347937678"
     },
     "user_tz": -330
    },
    "id": "MqOdL-W-y5tk",
    "scrolled": true
   },
   "outputs": [],
   "source": [
    "dataset.groupby('grade')['Rate_of_intrst'].median().plot.bar(); plt.xlabel('grade'); plt.ylabel('Rate_of_intrst')"
   ]
  },
  {
   "cell_type": "code",
   "execution_count": null,
   "metadata": {
    "executionInfo": {
     "elapsed": 830,
     "status": "aborted",
     "timestamp": 1629267452634,
     "user": {
      "displayName": "SUMIT YENUGWAR",
      "photoUrl": "https://lh3.googleusercontent.com/a-/AOh14GgWF_AXb3JKzRG4HcMuK2aUrD6NWk93uKBqZpZdvQ=s64",
      "userId": "05792510571347937678"
     },
     "user_tz": -330
    },
    "id": "j5q3nX-Zy5tk"
   },
   "outputs": [],
   "source": [
    "dataset.groupby('sub_grade')['Rate_of_intrst'].median().plot.bar(); plt.xlabel('sub_grade'); plt.ylabel('Rate_of_intrst')"
   ]
  },
  {
   "cell_type": "markdown",
   "metadata": {
    "id": "uuBT9uT2y5tk"
   },
   "source": [
    "#### Since grades and subgrades are having high correlation with rate of interest, they can be dropped and only rate of interest is retained"
   ]
  },
  {
   "cell_type": "code",
   "execution_count": null,
   "metadata": {
    "executionInfo": {
     "elapsed": 830,
     "status": "aborted",
     "timestamp": 1629267452634,
     "user": {
      "displayName": "SUMIT YENUGWAR",
      "photoUrl": "https://lh3.googleusercontent.com/a-/AOh14GgWF_AXb3JKzRG4HcMuK2aUrD6NWk93uKBqZpZdvQ=s64",
      "userId": "05792510571347937678"
     },
     "user_tz": -330
    },
    "id": "0Z8MRbWiy5tk"
   },
   "outputs": [],
   "source": [
    "# State v/s total revol_bal"
   ]
  },
  {
   "cell_type": "code",
   "execution_count": null,
   "metadata": {
    "executionInfo": {
     "elapsed": 830,
     "status": "aborted",
     "timestamp": 1629267452635,
     "user": {
      "displayName": "SUMIT YENUGWAR",
      "photoUrl": "https://lh3.googleusercontent.com/a-/AOh14GgWF_AXb3JKzRG4HcMuK2aUrD6NWk93uKBqZpZdvQ=s64",
      "userId": "05792510571347937678"
     },
     "user_tz": -330
    },
    "id": "LmMqXLIty5tk",
    "scrolled": true
   },
   "outputs": [],
   "source": [
    "plt.figure(figsize=(15,5))\n",
    "dataset.groupby('State')['total revol_bal'].median().plot.bar(); plt.xlabel('State'); plt.ylabel('total revol_bal')"
   ]
  },
  {
   "cell_type": "markdown",
   "metadata": {
    "id": "SfbF9klIy5tl"
   },
   "source": [
    "#### There is not much change in the output variable with respect to the states, which can be dropped"
   ]
  },
  {
   "cell_type": "code",
   "execution_count": null,
   "metadata": {
    "executionInfo": {
     "elapsed": 830,
     "status": "aborted",
     "timestamp": 1629267452635,
     "user": {
      "displayName": "SUMIT YENUGWAR",
      "photoUrl": "https://lh3.googleusercontent.com/a-/AOh14GgWF_AXb3JKzRG4HcMuK2aUrD6NWk93uKBqZpZdvQ=s64",
      "userId": "05792510571347937678"
     },
     "user_tz": -330
    },
    "id": "xPmkZtKMy5tl"
   },
   "outputs": [],
   "source": [
    "# last_week_pay v/s total revol bal"
   ]
  },
  {
   "cell_type": "code",
   "execution_count": null,
   "metadata": {
    "executionInfo": {
     "elapsed": 831,
     "status": "aborted",
     "timestamp": 1629267452636,
     "user": {
      "displayName": "SUMIT YENUGWAR",
      "photoUrl": "https://lh3.googleusercontent.com/a-/AOh14GgWF_AXb3JKzRG4HcMuK2aUrD6NWk93uKBqZpZdvQ=s64",
      "userId": "05792510571347937678"
     },
     "user_tz": -330
    },
    "id": "I7uxu6Qsy5tl"
   },
   "outputs": [],
   "source": [
    "plt.figure(figsize=(15,5))\n",
    "dataset.groupby('last_week_pay')['total revol_bal'].median().plot.bar(); plt.xlabel('last_week_pay'); plt.ylabel('total revol_bal')"
   ]
  },
  {
   "cell_type": "markdown",
   "metadata": {
    "id": "E5olA4yvy5tl"
   },
   "source": [
    "#### There is some significant changes in the output variable with the last_week_pay"
   ]
  },
  {
   "cell_type": "code",
   "execution_count": null,
   "metadata": {
    "executionInfo": {
     "elapsed": 830,
     "status": "aborted",
     "timestamp": 1629267452636,
     "user": {
      "displayName": "SUMIT YENUGWAR",
      "photoUrl": "https://lh3.googleusercontent.com/a-/AOh14GgWF_AXb3JKzRG4HcMuK2aUrD6NWk93uKBqZpZdvQ=s64",
      "userId": "05792510571347937678"
     },
     "user_tz": -330
    },
    "id": "6-gOIOmKy5tl"
   },
   "outputs": [],
   "source": [
    "dataset = dataset.drop(columns=[\"grade\",\"sub_grade\",\"Emp_designation\",\"State\"],axis=1)"
   ]
  },
  {
   "cell_type": "code",
   "execution_count": null,
   "metadata": {
    "executionInfo": {
     "elapsed": 830,
     "status": "aborted",
     "timestamp": 1629267452636,
     "user": {
      "displayName": "SUMIT YENUGWAR",
      "photoUrl": "https://lh3.googleusercontent.com/a-/AOh14GgWF_AXb3JKzRG4HcMuK2aUrD6NWk93uKBqZpZdvQ=s64",
      "userId": "05792510571347937678"
     },
     "user_tz": -330
    },
    "id": "cw5YIcK6y5tm"
   },
   "outputs": [],
   "source": [
    "dataset.shape"
   ]
  },
  {
   "cell_type": "code",
   "execution_count": null,
   "metadata": {
    "executionInfo": {
     "elapsed": 831,
     "status": "aborted",
     "timestamp": 1629267452637,
     "user": {
      "displayName": "SUMIT YENUGWAR",
      "photoUrl": "https://lh3.googleusercontent.com/a-/AOh14GgWF_AXb3JKzRG4HcMuK2aUrD6NWk93uKBqZpZdvQ=s64",
      "userId": "05792510571347937678"
     },
     "user_tz": -330
    },
    "id": "l3oBR7fby5tm"
   },
   "outputs": [],
   "source": [
    "# Converting the experience variable from object type to integer type by extracting only numbers"
   ]
  },
  {
   "cell_type": "code",
   "execution_count": null,
   "metadata": {
    "executionInfo": {
     "elapsed": 831,
     "status": "aborted",
     "timestamp": 1629267452638,
     "user": {
      "displayName": "SUMIT YENUGWAR",
      "photoUrl": "https://lh3.googleusercontent.com/a-/AOh14GgWF_AXb3JKzRG4HcMuK2aUrD6NWk93uKBqZpZdvQ=s64",
      "userId": "05792510571347937678"
     },
     "user_tz": -330
    },
    "id": "TBKq5zXTy5tm"
   },
   "outputs": [],
   "source": [
    "def split_num(my_str):\n",
    "    num = [x for x in my_str if x.isdigit()]\n",
    "    num = \"\".join(num)\n",
    "\n",
    "    if not num:\n",
    "        num = None\n",
    "\n",
    "    return num"
   ]
  },
  {
   "cell_type": "code",
   "execution_count": null,
   "metadata": {
    "executionInfo": {
     "elapsed": 831,
     "status": "aborted",
     "timestamp": 1629267452638,
     "user": {
      "displayName": "SUMIT YENUGWAR",
      "photoUrl": "https://lh3.googleusercontent.com/a-/AOh14GgWF_AXb3JKzRG4HcMuK2aUrD6NWk93uKBqZpZdvQ=s64",
      "userId": "05792510571347937678"
     },
     "user_tz": -330
    },
    "id": "91PEO-QOy5tm"
   },
   "outputs": [],
   "source": [
    "Exp = []\n",
    "for i in dataset[\"Experience\"]:\n",
    "    exp = split_num(i)\n",
    "    Exp.append(exp)"
   ]
  },
  {
   "cell_type": "code",
   "execution_count": null,
   "metadata": {
    "executionInfo": {
     "elapsed": 831,
     "status": "aborted",
     "timestamp": 1629267452639,
     "user": {
      "displayName": "SUMIT YENUGWAR",
      "photoUrl": "https://lh3.googleusercontent.com/a-/AOh14GgWF_AXb3JKzRG4HcMuK2aUrD6NWk93uKBqZpZdvQ=s64",
      "userId": "05792510571347937678"
     },
     "user_tz": -330
    },
    "id": "7FiXFQjhy5tm",
    "scrolled": true
   },
   "outputs": [],
   "source": [
    "len(Exp)"
   ]
  },
  {
   "cell_type": "code",
   "execution_count": null,
   "metadata": {
    "executionInfo": {
     "elapsed": 831,
     "status": "aborted",
     "timestamp": 1629267452639,
     "user": {
      "displayName": "SUMIT YENUGWAR",
      "photoUrl": "https://lh3.googleusercontent.com/a-/AOh14GgWF_AXb3JKzRG4HcMuK2aUrD6NWk93uKBqZpZdvQ=s64",
      "userId": "05792510571347937678"
     },
     "user_tz": -330
    },
    "id": "izAfIUBOy5tm"
   },
   "outputs": [],
   "source": [
    "dataset[\"Experience\"] = Exp"
   ]
  },
  {
   "cell_type": "code",
   "execution_count": null,
   "metadata": {
    "executionInfo": {
     "elapsed": 832,
     "status": "aborted",
     "timestamp": 1629267452640,
     "user": {
      "displayName": "SUMIT YENUGWAR",
      "photoUrl": "https://lh3.googleusercontent.com/a-/AOh14GgWF_AXb3JKzRG4HcMuK2aUrD6NWk93uKBqZpZdvQ=s64",
      "userId": "05792510571347937678"
     },
     "user_tz": -330
    },
    "id": "8b2Oq7IDy5tn"
   },
   "outputs": [],
   "source": [
    "dataset[\"Experience\"] = pd.to_numeric(dataset[\"Experience\"])"
   ]
  },
  {
   "cell_type": "code",
   "execution_count": null,
   "metadata": {
    "executionInfo": {
     "elapsed": 831,
     "status": "aborted",
     "timestamp": 1629267452640,
     "user": {
      "displayName": "SUMIT YENUGWAR",
      "photoUrl": "https://lh3.googleusercontent.com/a-/AOh14GgWF_AXb3JKzRG4HcMuK2aUrD6NWk93uKBqZpZdvQ=s64",
      "userId": "05792510571347937678"
     },
     "user_tz": -330
    },
    "id": "CXdSVbkMy5tn"
   },
   "outputs": [],
   "source": [
    "# Converting the 'last week pay' variable from object type to integer type by extracting only numbers"
   ]
  },
  {
   "cell_type": "code",
   "execution_count": null,
   "metadata": {
    "executionInfo": {
     "elapsed": 831,
     "status": "aborted",
     "timestamp": 1629267452640,
     "user": {
      "displayName": "SUMIT YENUGWAR",
      "photoUrl": "https://lh3.googleusercontent.com/a-/AOh14GgWF_AXb3JKzRG4HcMuK2aUrD6NWk93uKBqZpZdvQ=s64",
      "userId": "05792510571347937678"
     },
     "user_tz": -330
    },
    "id": "wk1R_hp1y5tn"
   },
   "outputs": [],
   "source": [
    "Pay = []\n",
    "for i in dataset[\"last_week_pay\"]:\n",
    "    pay = split_num(i)\n",
    "    Pay.append(pay)"
   ]
  },
  {
   "cell_type": "code",
   "execution_count": null,
   "metadata": {
    "executionInfo": {
     "elapsed": 832,
     "status": "aborted",
     "timestamp": 1629267452641,
     "user": {
      "displayName": "SUMIT YENUGWAR",
      "photoUrl": "https://lh3.googleusercontent.com/a-/AOh14GgWF_AXb3JKzRG4HcMuK2aUrD6NWk93uKBqZpZdvQ=s64",
      "userId": "05792510571347937678"
     },
     "user_tz": -330
    },
    "id": "2VjJQIyDy5tn"
   },
   "outputs": [],
   "source": [
    "dataset[\"last_week_pay\"] = Pay"
   ]
  },
  {
   "cell_type": "code",
   "execution_count": null,
   "metadata": {
    "executionInfo": {
     "elapsed": 831,
     "status": "aborted",
     "timestamp": 1629267452641,
     "user": {
      "displayName": "SUMIT YENUGWAR",
      "photoUrl": "https://lh3.googleusercontent.com/a-/AOh14GgWF_AXb3JKzRG4HcMuK2aUrD6NWk93uKBqZpZdvQ=s64",
      "userId": "05792510571347937678"
     },
     "user_tz": -330
    },
    "id": "lz2q1KXry5tn"
   },
   "outputs": [],
   "source": [
    "dataset[\"last_week_pay\"] = pd.to_numeric(dataset[\"last_week_pay\"])"
   ]
  },
  {
   "cell_type": "code",
   "execution_count": null,
   "metadata": {
    "executionInfo": {
     "elapsed": 831,
     "status": "aborted",
     "timestamp": 1629267452642,
     "user": {
      "displayName": "SUMIT YENUGWAR",
      "photoUrl": "https://lh3.googleusercontent.com/a-/AOh14GgWF_AXb3JKzRG4HcMuK2aUrD6NWk93uKBqZpZdvQ=s64",
      "userId": "05792510571347937678"
     },
     "user_tz": -330
    },
    "id": "M4889Ozzy5tn"
   },
   "outputs": [],
   "source": [
    "dataset[\"last_week_pay\"]= dataset[\"last_week_pay\"].fillna(dataset[\"last_week_pay\"].median())"
   ]
  },
  {
   "cell_type": "code",
   "execution_count": null,
   "metadata": {
    "executionInfo": {
     "elapsed": 830,
     "status": "aborted",
     "timestamp": 1629267452642,
     "user": {
      "displayName": "SUMIT YENUGWAR",
      "photoUrl": "https://lh3.googleusercontent.com/a-/AOh14GgWF_AXb3JKzRG4HcMuK2aUrD6NWk93uKBqZpZdvQ=s64",
      "userId": "05792510571347937678"
     },
     "user_tz": -330
    },
    "id": "Eo8yvrKdy5to",
    "scrolled": true
   },
   "outputs": [],
   "source": [
    "dataset[\"last_week_pay\"].isna().sum()"
   ]
  },
  {
   "cell_type": "code",
   "execution_count": null,
   "metadata": {
    "executionInfo": {
     "elapsed": 830,
     "status": "aborted",
     "timestamp": 1629267452643,
     "user": {
      "displayName": "SUMIT YENUGWAR",
      "photoUrl": "https://lh3.googleusercontent.com/a-/AOh14GgWF_AXb3JKzRG4HcMuK2aUrD6NWk93uKBqZpZdvQ=s64",
      "userId": "05792510571347937678"
     },
     "user_tz": -330
    },
    "id": "dQw1g628y5to"
   },
   "outputs": [],
   "source": [
    "# Encoding other categorical variables"
   ]
  },
  {
   "cell_type": "code",
   "execution_count": null,
   "metadata": {
    "executionInfo": {
     "elapsed": 829,
     "status": "aborted",
     "timestamp": 1629267452643,
     "user": {
      "displayName": "SUMIT YENUGWAR",
      "photoUrl": "https://lh3.googleusercontent.com/a-/AOh14GgWF_AXb3JKzRG4HcMuK2aUrD6NWk93uKBqZpZdvQ=s64",
      "userId": "05792510571347937678"
     },
     "user_tz": -330
    },
    "id": "-Ln5PFhIy5to"
   },
   "outputs": [],
   "source": [
    "dataset = pd.get_dummies(dataset, columns =['terms','home_ownership','verification_status','purpose','initial_list_status','application_type'],drop_first=True)"
   ]
  },
  {
   "cell_type": "code",
   "execution_count": null,
   "metadata": {
    "executionInfo": {
     "elapsed": 830,
     "status": "aborted",
     "timestamp": 1629267452644,
     "user": {
      "displayName": "SUMIT YENUGWAR",
      "photoUrl": "https://lh3.googleusercontent.com/a-/AOh14GgWF_AXb3JKzRG4HcMuK2aUrD6NWk93uKBqZpZdvQ=s64",
      "userId": "05792510571347937678"
     },
     "user_tz": -330
    },
    "id": "w665ADxly5to",
    "scrolled": false
   },
   "outputs": [],
   "source": [
    "dataset.head()"
   ]
  },
  {
   "cell_type": "markdown",
   "metadata": {
    "id": "TTMHaE6Ky5to"
   },
   "source": [
    "## Handling the outliers"
   ]
  },
  {
   "cell_type": "code",
   "execution_count": null,
   "metadata": {
    "executionInfo": {
     "elapsed": 827,
     "status": "aborted",
     "timestamp": 1629267452644,
     "user": {
      "displayName": "SUMIT YENUGWAR",
      "photoUrl": "https://lh3.googleusercontent.com/a-/AOh14GgWF_AXb3JKzRG4HcMuK2aUrD6NWk93uKBqZpZdvQ=s64",
      "userId": "05792510571347937678"
     },
     "user_tz": -330
    },
    "id": "_Tfq4GvYy5tp"
   },
   "outputs": [],
   "source": [
    "# Quantile calculations"
   ]
  },
  {
   "cell_type": "code",
   "execution_count": null,
   "metadata": {
    "executionInfo": {
     "elapsed": 827,
     "status": "aborted",
     "timestamp": 1629267452645,
     "user": {
      "displayName": "SUMIT YENUGWAR",
      "photoUrl": "https://lh3.googleusercontent.com/a-/AOh14GgWF_AXb3JKzRG4HcMuK2aUrD6NWk93uKBqZpZdvQ=s64",
      "userId": "05792510571347937678"
     },
     "user_tz": -330
    },
    "id": "h8cgfof8y5tp"
   },
   "outputs": [],
   "source": [
    "Q1 = dataset.quantile(0.25)\n",
    "Q3 = dataset.quantile(0.75)\n",
    "IQR = Q3 - Q1"
   ]
  },
  {
   "cell_type": "code",
   "execution_count": null,
   "metadata": {
    "executionInfo": {
     "elapsed": 827,
     "status": "aborted",
     "timestamp": 1629267452645,
     "user": {
      "displayName": "SUMIT YENUGWAR",
      "photoUrl": "https://lh3.googleusercontent.com/a-/AOh14GgWF_AXb3JKzRG4HcMuK2aUrD6NWk93uKBqZpZdvQ=s64",
      "userId": "05792510571347937678"
     },
     "user_tz": -330
    },
    "id": "iddCGkFny5tp"
   },
   "outputs": [],
   "source": [
    "# Number of extreme outliers in each variable"
   ]
  },
  {
   "cell_type": "code",
   "execution_count": null,
   "metadata": {
    "executionInfo": {
     "elapsed": 826,
     "status": "aborted",
     "timestamp": 1629267452645,
     "user": {
      "displayName": "SUMIT YENUGWAR",
      "photoUrl": "https://lh3.googleusercontent.com/a-/AOh14GgWF_AXb3JKzRG4HcMuK2aUrD6NWk93uKBqZpZdvQ=s64",
      "userId": "05792510571347937678"
     },
     "user_tz": -330
    },
    "id": "FJ5Pjtt0y5tp"
   },
   "outputs": [],
   "source": [
    "((dataset < (Q1 - 3 * IQR)) | (dataset > (Q3 + 3 * IQR))).sum()"
   ]
  },
  {
   "cell_type": "markdown",
   "metadata": {
    "id": "JjzXypNqy5tp"
   },
   "source": [
    "#### Since there are lot of outliers in many columns, it is not feasible to drop such outliers directly"
   ]
  },
  {
   "cell_type": "code",
   "execution_count": null,
   "metadata": {
    "executionInfo": {
     "elapsed": 827,
     "status": "aborted",
     "timestamp": 1629267452646,
     "user": {
      "displayName": "SUMIT YENUGWAR",
      "photoUrl": "https://lh3.googleusercontent.com/a-/AOh14GgWF_AXb3JKzRG4HcMuK2aUrD6NWk93uKBqZpZdvQ=s64",
      "userId": "05792510571347937678"
     },
     "user_tz": -330
    },
    "id": "aGH3Bd2Ly5tp"
   },
   "outputs": [],
   "source": [
    "# Checking the skewness of numerical variables"
   ]
  },
  {
   "cell_type": "code",
   "execution_count": null,
   "metadata": {
    "executionInfo": {
     "elapsed": 827,
     "status": "aborted",
     "timestamp": 1629267452646,
     "user": {
      "displayName": "SUMIT YENUGWAR",
      "photoUrl": "https://lh3.googleusercontent.com/a-/AOh14GgWF_AXb3JKzRG4HcMuK2aUrD6NWk93uKBqZpZdvQ=s64",
      "userId": "05792510571347937678"
     },
     "user_tz": -330
    },
    "id": "42vmWwvmy5tq"
   },
   "outputs": [],
   "source": [
    "num_features = ['loan_amnt ',\n",
    " 'Rate_of_intrst',\n",
    "'mths_since_last_delinq',\n",
    " 'annual_inc',\n",
    " 'debt_income_ratio',\n",
    " 'delinq_2yrs',\n",
    " 'inq_last_6mths',\n",
    " 'numb_credit',\n",
    " 'pub_rec',\n",
    " 'total revol_bal',\n",
    " 'total_rec_int',\n",
    " 'total_rec_late_fee',\n",
    " 'recoveries',\n",
    " 'collections_12_mths_ex_med',\n",
    " 'acc_now_delinq',\n",
    " 'tot_colle_amt',\n",
    " 'tot_curr_bal']"
   ]
  },
  {
   "cell_type": "code",
   "execution_count": null,
   "metadata": {
    "executionInfo": {
     "elapsed": 828,
     "status": "aborted",
     "timestamp": 1629267452647,
     "user": {
      "displayName": "SUMIT YENUGWAR",
      "photoUrl": "https://lh3.googleusercontent.com/a-/AOh14GgWF_AXb3JKzRG4HcMuK2aUrD6NWk93uKBqZpZdvQ=s64",
      "userId": "05792510571347937678"
     },
     "user_tz": -330
    },
    "id": "OVEU95voy5tq"
   },
   "outputs": [],
   "source": [
    "dataset[num_features].skew()"
   ]
  },
  {
   "cell_type": "code",
   "execution_count": null,
   "metadata": {
    "executionInfo": {
     "elapsed": 829,
     "status": "aborted",
     "timestamp": 1629267452649,
     "user": {
      "displayName": "SUMIT YENUGWAR",
      "photoUrl": "https://lh3.googleusercontent.com/a-/AOh14GgWF_AXb3JKzRG4HcMuK2aUrD6NWk93uKBqZpZdvQ=s64",
      "userId": "05792510571347937678"
     },
     "user_tz": -330
    },
    "id": "U2ID3q_Uy5tr"
   },
   "outputs": [],
   "source": [
    "# Getting the columns the with skewness value of more than 3"
   ]
  },
  {
   "cell_type": "code",
   "execution_count": null,
   "metadata": {
    "executionInfo": {
     "elapsed": 830,
     "status": "aborted",
     "timestamp": 1629267452650,
     "user": {
      "displayName": "SUMIT YENUGWAR",
      "photoUrl": "https://lh3.googleusercontent.com/a-/AOh14GgWF_AXb3JKzRG4HcMuK2aUrD6NWk93uKBqZpZdvQ=s64",
      "userId": "05792510571347937678"
     },
     "user_tz": -330
    },
    "id": "KqpBeMtHy5tr"
   },
   "outputs": [],
   "source": [
    "features_skew =[features for features in dataset[num_features].columns if dataset[num_features][features].skew() > 3]"
   ]
  },
  {
   "cell_type": "code",
   "execution_count": null,
   "metadata": {
    "executionInfo": {
     "elapsed": 831,
     "status": "aborted",
     "timestamp": 1629267452651,
     "user": {
      "displayName": "SUMIT YENUGWAR",
      "photoUrl": "https://lh3.googleusercontent.com/a-/AOh14GgWF_AXb3JKzRG4HcMuK2aUrD6NWk93uKBqZpZdvQ=s64",
      "userId": "05792510571347937678"
     },
     "user_tz": -330
    },
    "id": "foKpc4DFy5tr",
    "scrolled": true
   },
   "outputs": [],
   "source": [
    "df_skew = [] \n",
    "for feature in features_skew:\n",
    "    skew = feature\n",
    "    print(feature, dataset[num_features][feature].skew())\n",
    "    df_skew.append(skew)"
   ]
  },
  {
   "cell_type": "markdown",
   "metadata": {
    "id": "sPTBD9cMy5ts"
   },
   "source": [
    "#### The skewness value of above variables is very high, hence they have to be handled carefully"
   ]
  },
  {
   "cell_type": "code",
   "execution_count": null,
   "metadata": {
    "executionInfo": {
     "elapsed": 830,
     "status": "aborted",
     "timestamp": 1629267452651,
     "user": {
      "displayName": "SUMIT YENUGWAR",
      "photoUrl": "https://lh3.googleusercontent.com/a-/AOh14GgWF_AXb3JKzRG4HcMuK2aUrD6NWk93uKBqZpZdvQ=s64",
      "userId": "05792510571347937678"
     },
     "user_tz": -330
    },
    "id": "f5yt6TsLy5ts"
   },
   "outputs": [],
   "source": [
    "df = dataset"
   ]
  },
  {
   "cell_type": "markdown",
   "metadata": {
    "id": "DUprDU0ey5ts"
   },
   "source": [
    "### Extreme outliers detection and imputation"
   ]
  },
  {
   "cell_type": "code",
   "execution_count": null,
   "metadata": {
    "executionInfo": {
     "elapsed": 842,
     "status": "aborted",
     "timestamp": 1629267452664,
     "user": {
      "displayName": "SUMIT YENUGWAR",
      "photoUrl": "https://lh3.googleusercontent.com/a-/AOh14GgWF_AXb3JKzRG4HcMuK2aUrD6NWk93uKBqZpZdvQ=s64",
      "userId": "05792510571347937678"
     },
     "user_tz": -330
    },
    "id": "Yq8BSCn5y5tt"
   },
   "outputs": [],
   "source": [
    "# List of skewwed variables"
   ]
  },
  {
   "cell_type": "code",
   "execution_count": null,
   "metadata": {
    "executionInfo": {
     "elapsed": 86,
     "status": "aborted",
     "timestamp": 1629267452665,
     "user": {
      "displayName": "SUMIT YENUGWAR",
      "photoUrl": "https://lh3.googleusercontent.com/a-/AOh14GgWF_AXb3JKzRG4HcMuK2aUrD6NWk93uKBqZpZdvQ=s64",
      "userId": "05792510571347937678"
     },
     "user_tz": -330
    },
    "id": "gFgzw-ADy5tt",
    "scrolled": true
   },
   "outputs": [],
   "source": [
    "df_skew = ['annual_inc', 'debt_income_ratio', 'delinq_2yrs', 'pub_rec', 'total_rec_late_fee', 'recoveries', 'collections_12_mths_ex_med',\n",
    " 'acc_now_delinq', 'tot_colle_amt', 'tot_curr_bal','tot_curr_bal', 'total_rec_int', 'inq_last_6mths','annual_inc', 'numb_credit']"
   ]
  },
  {
   "cell_type": "markdown",
   "metadata": {
    "id": "wpzRgOyay5tt"
   },
   "source": [
    "### Getting the upper boundary and lower boundary for each feature"
   ]
  },
  {
   "cell_type": "code",
   "execution_count": null,
   "metadata": {
    "executionInfo": {
     "elapsed": 85,
     "status": "aborted",
     "timestamp": 1629267452665,
     "user": {
      "displayName": "SUMIT YENUGWAR",
      "photoUrl": "https://lh3.googleusercontent.com/a-/AOh14GgWF_AXb3JKzRG4HcMuK2aUrD6NWk93uKBqZpZdvQ=s64",
      "userId": "05792510571347937678"
     },
     "user_tz": -330
    },
    "id": "vpFzarCBy5tt"
   },
   "outputs": [],
   "source": [
    "for feature in df_skew:\n",
    "    IQR = df[feature].quantile(0.75)-df[feature].quantile(0.25)\n",
    "    lower_bridge=df[feature].quantile(0.25)-(IQR*3)\n",
    "    upper_bridge=df[feature].quantile(0.75)+(IQR*3)\n",
    "    print(feature, lower_bridge), print(feature,upper_bridge)"
   ]
  },
  {
   "cell_type": "code",
   "execution_count": null,
   "metadata": {
    "executionInfo": {
     "elapsed": 86,
     "status": "aborted",
     "timestamp": 1629267452666,
     "user": {
      "displayName": "SUMIT YENUGWAR",
      "photoUrl": "https://lh3.googleusercontent.com/a-/AOh14GgWF_AXb3JKzRG4HcMuK2aUrD6NWk93uKBqZpZdvQ=s64",
      "userId": "05792510571347937678"
     },
     "user_tz": -330
    },
    "id": "8ZEZNPLoy5tu"
   },
   "outputs": [],
   "source": [
    "# Removing the features 'delinq_2yrs', 'pub_rec', 'total_rec_late_fee', 'recoveries', 'collections_12_mths_ex_med', 'acc_now_delinq', 'tot_colle_amt' as their upper boundary is zero"
   ]
  },
  {
   "cell_type": "code",
   "execution_count": null,
   "metadata": {
    "executionInfo": {
     "elapsed": 86,
     "status": "aborted",
     "timestamp": 1629267452667,
     "user": {
      "displayName": "SUMIT YENUGWAR",
      "photoUrl": "https://lh3.googleusercontent.com/a-/AOh14GgWF_AXb3JKzRG4HcMuK2aUrD6NWk93uKBqZpZdvQ=s64",
      "userId": "05792510571347937678"
     },
     "user_tz": -330
    },
    "id": "2pkUGS3ty5tu"
   },
   "outputs": [],
   "source": [
    "df_skew = ['annual_inc', 'debt_income_ratio', 'tot_curr_bal','tot_curr_bal', 'total_rec_int', 'inq_last_6mths','annual_inc', 'numb_credit']"
   ]
  },
  {
   "cell_type": "code",
   "execution_count": null,
   "metadata": {
    "executionInfo": {
     "elapsed": 86,
     "status": "aborted",
     "timestamp": 1629267452667,
     "user": {
      "displayName": "SUMIT YENUGWAR",
      "photoUrl": "https://lh3.googleusercontent.com/a-/AOh14GgWF_AXb3JKzRG4HcMuK2aUrD6NWk93uKBqZpZdvQ=s64",
      "userId": "05792510571347937678"
     },
     "user_tz": -330
    },
    "id": "GJYmWmxKy5tu"
   },
   "outputs": [],
   "source": [
    "for feature in df_skew:\n",
    "    IQR = df[feature].quantile(0.75)-df[feature].quantile(0.25)\n",
    "    lower_bridge=df[feature].quantile(0.25)-(IQR*3)\n",
    "    upper_bridge=df[feature].quantile(0.75)+(IQR*3)\n",
    "    df.loc[df[feature]>=upper_bridge,feature]=upper_bridge"
   ]
  },
  {
   "cell_type": "code",
   "execution_count": null,
   "metadata": {
    "executionInfo": {
     "elapsed": 87,
     "status": "aborted",
     "timestamp": 1629267452668,
     "user": {
      "displayName": "SUMIT YENUGWAR",
      "photoUrl": "https://lh3.googleusercontent.com/a-/AOh14GgWF_AXb3JKzRG4HcMuK2aUrD6NWk93uKBqZpZdvQ=s64",
      "userId": "05792510571347937678"
     },
     "user_tz": -330
    },
    "id": "-W6-Rt_iy5tu"
   },
   "outputs": [],
   "source": [
    "# Skewness after outlier imputation"
   ]
  },
  {
   "cell_type": "code",
   "execution_count": null,
   "metadata": {
    "executionInfo": {
     "elapsed": 86,
     "status": "aborted",
     "timestamp": 1629267452668,
     "user": {
      "displayName": "SUMIT YENUGWAR",
      "photoUrl": "https://lh3.googleusercontent.com/a-/AOh14GgWF_AXb3JKzRG4HcMuK2aUrD6NWk93uKBqZpZdvQ=s64",
      "userId": "05792510571347937678"
     },
     "user_tz": -330
    },
    "id": "tBQOzznDy5tv"
   },
   "outputs": [],
   "source": [
    "df[df_skew].skew()"
   ]
  },
  {
   "cell_type": "markdown",
   "metadata": {
    "id": "H5NfvDAEy5tv"
   },
   "source": [
    "#### The skewness values have considerably reduced in all the features"
   ]
  },
  {
   "cell_type": "code",
   "execution_count": null,
   "metadata": {
    "executionInfo": {
     "elapsed": 87,
     "status": "aborted",
     "timestamp": 1629267452669,
     "user": {
      "displayName": "SUMIT YENUGWAR",
      "photoUrl": "https://lh3.googleusercontent.com/a-/AOh14GgWF_AXb3JKzRG4HcMuK2aUrD6NWk93uKBqZpZdvQ=s64",
      "userId": "05792510571347937678"
     },
     "user_tz": -330
    },
    "id": "llET8yMFy5tv",
    "scrolled": false
   },
   "outputs": [],
   "source": [
    "df.shape"
   ]
  },
  {
   "cell_type": "code",
   "execution_count": null,
   "metadata": {
    "executionInfo": {
     "elapsed": 86,
     "status": "aborted",
     "timestamp": 1629267452669,
     "user": {
      "displayName": "SUMIT YENUGWAR",
      "photoUrl": "https://lh3.googleusercontent.com/a-/AOh14GgWF_AXb3JKzRG4HcMuK2aUrD6NWk93uKBqZpZdvQ=s64",
      "userId": "05792510571347937678"
     },
     "user_tz": -330
    },
    "id": "QW0n6jbxy5tw"
   },
   "outputs": [],
   "source": [
    "df.columns"
   ]
  },
  {
   "cell_type": "code",
   "execution_count": null,
   "metadata": {
    "executionInfo": {
     "elapsed": 86,
     "status": "aborted",
     "timestamp": 1629267452669,
     "user": {
      "displayName": "SUMIT YENUGWAR",
      "photoUrl": "https://lh3.googleusercontent.com/a-/AOh14GgWF_AXb3JKzRG4HcMuK2aUrD6NWk93uKBqZpZdvQ=s64",
      "userId": "05792510571347937678"
     },
     "user_tz": -330
    },
    "id": "4Q8UY5vgy5tw"
   },
   "outputs": [],
   "source": [
    "# Seperating numerical and categorical variables from the data"
   ]
  },
  {
   "cell_type": "code",
   "execution_count": null,
   "metadata": {
    "executionInfo": {
     "elapsed": 86,
     "status": "aborted",
     "timestamp": 1629267452670,
     "user": {
      "displayName": "SUMIT YENUGWAR",
      "photoUrl": "https://lh3.googleusercontent.com/a-/AOh14GgWF_AXb3JKzRG4HcMuK2aUrD6NWk93uKBqZpZdvQ=s64",
      "userId": "05792510571347937678"
     },
     "user_tz": -330
    },
    "id": "-vNEUstiy5tw"
   },
   "outputs": [],
   "source": [
    "df_cat = df[['terms_60 months',\n",
    "       'home_ownership_MORTGAGE', 'home_ownership_NONE',\n",
    "       'home_ownership_OTHER', 'home_ownership_OWN', 'home_ownership_RENT',\n",
    "       'verification_status_Source Verified', 'verification_status_Verified',\n",
    "       'purpose_credit_card', 'purpose_debt_consolidation',\n",
    "       'purpose_educational', 'purpose_home_improvement', 'purpose_house',\n",
    "       'purpose_major_purchase', 'purpose_medical', 'purpose_moving',\n",
    "       'purpose_other', 'purpose_renewable_energy', 'purpose_small_business',\n",
    "       'purpose_vacation', 'purpose_wedding', 'initial_list_status_w',\n",
    "       'application_type_JOINT']]"
   ]
  },
  {
   "cell_type": "code",
   "execution_count": null,
   "metadata": {
    "executionInfo": {
     "elapsed": 86,
     "status": "aborted",
     "timestamp": 1629267452670,
     "user": {
      "displayName": "SUMIT YENUGWAR",
      "photoUrl": "https://lh3.googleusercontent.com/a-/AOh14GgWF_AXb3JKzRG4HcMuK2aUrD6NWk93uKBqZpZdvQ=s64",
      "userId": "05792510571347937678"
     },
     "user_tz": -330
    },
    "id": "iQbJ0sOoy5tx"
   },
   "outputs": [],
   "source": [
    "df_num = df[['loan_amnt ', 'Rate_of_intrst', 'Experience', 'annual_inc','mths_since_last_delinq',\n",
    "       'debt_income_ratio', 'delinq_2yrs','last_week_pay', 'inq_last_6mths', 'numb_credit',\n",
    "       'pub_rec', 'total_rec_int', 'total_rec_late_fee',\n",
    "       'recoveries', 'collections_12_mths_ex_med', 'acc_now_delinq',\n",
    "       'tot_colle_amt', 'tot_curr_bal']]"
   ]
  },
  {
   "cell_type": "code",
   "execution_count": null,
   "metadata": {
    "executionInfo": {
     "elapsed": 87,
     "status": "aborted",
     "timestamp": 1629267452671,
     "user": {
      "displayName": "SUMIT YENUGWAR",
      "photoUrl": "https://lh3.googleusercontent.com/a-/AOh14GgWF_AXb3JKzRG4HcMuK2aUrD6NWk93uKBqZpZdvQ=s64",
      "userId": "05792510571347937678"
     },
     "user_tz": -330
    },
    "id": "lnGZCh5Dy5tx"
   },
   "outputs": [],
   "source": [
    "# Output variable"
   ]
  },
  {
   "cell_type": "code",
   "execution_count": null,
   "metadata": {
    "executionInfo": {
     "elapsed": 86,
     "status": "aborted",
     "timestamp": 1629267452671,
     "user": {
      "displayName": "SUMIT YENUGWAR",
      "photoUrl": "https://lh3.googleusercontent.com/a-/AOh14GgWF_AXb3JKzRG4HcMuK2aUrD6NWk93uKBqZpZdvQ=s64",
      "userId": "05792510571347937678"
     },
     "user_tz": -330
    },
    "id": "W_El49_Ey5tx"
   },
   "outputs": [],
   "source": [
    "df_out = df['total revol_bal']"
   ]
  },
  {
   "cell_type": "code",
   "execution_count": null,
   "metadata": {
    "executionInfo": {
     "elapsed": 87,
     "status": "aborted",
     "timestamp": 1629267452672,
     "user": {
      "displayName": "SUMIT YENUGWAR",
      "photoUrl": "https://lh3.googleusercontent.com/a-/AOh14GgWF_AXb3JKzRG4HcMuK2aUrD6NWk93uKBqZpZdvQ=s64",
      "userId": "05792510571347937678"
     },
     "user_tz": -330
    },
    "id": "ZBsg1iS5y5tx"
   },
   "outputs": [],
   "source": [
    "# Combining numerical, categorical and output variables into one dataframe"
   ]
  },
  {
   "cell_type": "code",
   "execution_count": null,
   "metadata": {
    "executionInfo": {
     "elapsed": 88,
     "status": "aborted",
     "timestamp": 1629267452673,
     "user": {
      "displayName": "SUMIT YENUGWAR",
      "photoUrl": "https://lh3.googleusercontent.com/a-/AOh14GgWF_AXb3JKzRG4HcMuK2aUrD6NWk93uKBqZpZdvQ=s64",
      "userId": "05792510571347937678"
     },
     "user_tz": -330
    },
    "id": "23yI4o2_y5tx"
   },
   "outputs": [],
   "source": [
    "final_df = pd.concat([df_num, df_cat, df_out], axis=1)"
   ]
  },
  {
   "cell_type": "code",
   "execution_count": null,
   "metadata": {
    "executionInfo": {
     "elapsed": 88,
     "status": "aborted",
     "timestamp": 1629267452674,
     "user": {
      "displayName": "SUMIT YENUGWAR",
      "photoUrl": "https://lh3.googleusercontent.com/a-/AOh14GgWF_AXb3JKzRG4HcMuK2aUrD6NWk93uKBqZpZdvQ=s64",
      "userId": "05792510571347937678"
     },
     "user_tz": -330
    },
    "id": "xvwJAiV6y5ty"
   },
   "outputs": [],
   "source": [
    "final_df.head()"
   ]
  },
  {
   "cell_type": "code",
   "execution_count": null,
   "metadata": {
    "executionInfo": {
     "elapsed": 88,
     "status": "aborted",
     "timestamp": 1629267452674,
     "user": {
      "displayName": "SUMIT YENUGWAR",
      "photoUrl": "https://lh3.googleusercontent.com/a-/AOh14GgWF_AXb3JKzRG4HcMuK2aUrD6NWk93uKBqZpZdvQ=s64",
      "userId": "05792510571347937678"
     },
     "user_tz": -330
    },
    "id": "CgWrpEa-y5ty",
    "scrolled": false
   },
   "outputs": [],
   "source": [
    "final_df.shape"
   ]
  },
  {
   "cell_type": "code",
   "execution_count": null,
   "metadata": {
    "executionInfo": {
     "elapsed": 89,
     "status": "aborted",
     "timestamp": 1629267452675,
     "user": {
      "displayName": "SUMIT YENUGWAR",
      "photoUrl": "https://lh3.googleusercontent.com/a-/AOh14GgWF_AXb3JKzRG4HcMuK2aUrD6NWk93uKBqZpZdvQ=s64",
      "userId": "05792510571347937678"
     },
     "user_tz": -330
    },
    "id": "cf1smFaqy5ty"
   },
   "outputs": [],
   "source": [
    "# Saving the final clean dataframe "
   ]
  },
  {
   "cell_type": "code",
   "execution_count": null,
   "metadata": {
    "executionInfo": {
     "elapsed": 90,
     "status": "aborted",
     "timestamp": 1629267452676,
     "user": {
      "displayName": "SUMIT YENUGWAR",
      "photoUrl": "https://lh3.googleusercontent.com/a-/AOh14GgWF_AXb3JKzRG4HcMuK2aUrD6NWk93uKBqZpZdvQ=s64",
      "userId": "05792510571347937678"
     },
     "user_tz": -330
    },
    "id": "xISlbw-Gy5tz"
   },
   "outputs": [],
   "source": [
    "final_df.to_csv('/content/drive/MyDrive/DS study/Project 1/Project_final_cleandata_eda.csv') "
   ]
  },
  {
   "cell_type": "markdown",
   "metadata": {
    "id": "29ZCf_Lmy5tz"
   },
   "source": [
    "## Feature Selection"
   ]
  },
  {
   "cell_type": "code",
   "execution_count": 5,
   "metadata": {
    "colab": {
     "base_uri": "https://localhost:8080/",
     "height": 241
    },
    "executionInfo": {
     "elapsed": 5862,
     "status": "ok",
     "timestamp": 1629267684146,
     "user": {
      "displayName": "SUMIT YENUGWAR",
      "photoUrl": "https://lh3.googleusercontent.com/a-/AOh14GgWF_AXb3JKzRG4HcMuK2aUrD6NWk93uKBqZpZdvQ=s64",
      "userId": "05792510571347937678"
     },
     "user_tz": -330
    },
    "id": "Gpmcqmity5tz",
    "outputId": "2652463b-8daa-481e-e460-be9479c78544"
   },
   "outputs": [
    {
     "data": {
      "text/html": [
       "<div>\n",
       "<style scoped>\n",
       "    .dataframe tbody tr th:only-of-type {\n",
       "        vertical-align: middle;\n",
       "    }\n",
       "\n",
       "    .dataframe tbody tr th {\n",
       "        vertical-align: top;\n",
       "    }\n",
       "\n",
       "    .dataframe thead th {\n",
       "        text-align: right;\n",
       "    }\n",
       "</style>\n",
       "<table border=\"1\" class=\"dataframe\">\n",
       "  <thead>\n",
       "    <tr style=\"text-align: right;\">\n",
       "      <th></th>\n",
       "      <th>Unnamed: 0</th>\n",
       "      <th>loan_amnt</th>\n",
       "      <th>Rate_of_intrst</th>\n",
       "      <th>Experience</th>\n",
       "      <th>annual_inc</th>\n",
       "      <th>mths_since_last_delinq</th>\n",
       "      <th>debt_income_ratio</th>\n",
       "      <th>delinq_2yrs</th>\n",
       "      <th>last_week_pay</th>\n",
       "      <th>inq_last_6mths</th>\n",
       "      <th>numb_credit</th>\n",
       "      <th>pub_rec</th>\n",
       "      <th>total_rec_int</th>\n",
       "      <th>total_rec_late_fee</th>\n",
       "      <th>recoveries</th>\n",
       "      <th>collections_12_mths_ex_med</th>\n",
       "      <th>acc_now_delinq</th>\n",
       "      <th>tot_colle_amt</th>\n",
       "      <th>tot_curr_bal</th>\n",
       "      <th>terms_60 months</th>\n",
       "      <th>home_ownership_MORTGAGE</th>\n",
       "      <th>home_ownership_NONE</th>\n",
       "      <th>home_ownership_OTHER</th>\n",
       "      <th>home_ownership_OWN</th>\n",
       "      <th>home_ownership_RENT</th>\n",
       "      <th>verification_status_Source Verified</th>\n",
       "      <th>verification_status_Verified</th>\n",
       "      <th>purpose_credit_card</th>\n",
       "      <th>purpose_debt_consolidation</th>\n",
       "      <th>purpose_educational</th>\n",
       "      <th>purpose_home_improvement</th>\n",
       "      <th>purpose_house</th>\n",
       "      <th>purpose_major_purchase</th>\n",
       "      <th>purpose_medical</th>\n",
       "      <th>purpose_moving</th>\n",
       "      <th>purpose_other</th>\n",
       "      <th>purpose_renewable_energy</th>\n",
       "      <th>purpose_small_business</th>\n",
       "      <th>purpose_vacation</th>\n",
       "      <th>purpose_wedding</th>\n",
       "      <th>initial_list_status_w</th>\n",
       "      <th>application_type_JOINT</th>\n",
       "      <th>total revol_bal</th>\n",
       "    </tr>\n",
       "  </thead>\n",
       "  <tbody>\n",
       "    <tr>\n",
       "      <th>0</th>\n",
       "      <td>0</td>\n",
       "      <td>14350</td>\n",
       "      <td>19.19</td>\n",
       "      <td>9</td>\n",
       "      <td>28700.0</td>\n",
       "      <td>50.0</td>\n",
       "      <td>33.88</td>\n",
       "      <td>0.0</td>\n",
       "      <td>26.0</td>\n",
       "      <td>1.0</td>\n",
       "      <td>14.0</td>\n",
       "      <td>1.0</td>\n",
       "      <td>1173.84</td>\n",
       "      <td>0.0</td>\n",
       "      <td>0.0</td>\n",
       "      <td>0.0</td>\n",
       "      <td>0.0</td>\n",
       "      <td>0.0</td>\n",
       "      <td>28699.0</td>\n",
       "      <td>0</td>\n",
       "      <td>0</td>\n",
       "      <td>0</td>\n",
       "      <td>0</td>\n",
       "      <td>1</td>\n",
       "      <td>0</td>\n",
       "      <td>1</td>\n",
       "      <td>0</td>\n",
       "      <td>0</td>\n",
       "      <td>1</td>\n",
       "      <td>0</td>\n",
       "      <td>0</td>\n",
       "      <td>0</td>\n",
       "      <td>0</td>\n",
       "      <td>0</td>\n",
       "      <td>0</td>\n",
       "      <td>0</td>\n",
       "      <td>0</td>\n",
       "      <td>0</td>\n",
       "      <td>0</td>\n",
       "      <td>0</td>\n",
       "      <td>0</td>\n",
       "      <td>0</td>\n",
       "      <td>22515.0</td>\n",
       "    </tr>\n",
       "    <tr>\n",
       "      <th>1</th>\n",
       "      <td>1</td>\n",
       "      <td>4800</td>\n",
       "      <td>10.99</td>\n",
       "      <td>1</td>\n",
       "      <td>65000.0</td>\n",
       "      <td>31.0</td>\n",
       "      <td>3.64</td>\n",
       "      <td>0.0</td>\n",
       "      <td>9.0</td>\n",
       "      <td>1.0</td>\n",
       "      <td>6.0</td>\n",
       "      <td>0.0</td>\n",
       "      <td>83.95</td>\n",
       "      <td>0.0</td>\n",
       "      <td>0.0</td>\n",
       "      <td>0.0</td>\n",
       "      <td>0.0</td>\n",
       "      <td>0.0</td>\n",
       "      <td>9974.0</td>\n",
       "      <td>0</td>\n",
       "      <td>1</td>\n",
       "      <td>0</td>\n",
       "      <td>0</td>\n",
       "      <td>0</td>\n",
       "      <td>0</td>\n",
       "      <td>1</td>\n",
       "      <td>0</td>\n",
       "      <td>0</td>\n",
       "      <td>0</td>\n",
       "      <td>0</td>\n",
       "      <td>1</td>\n",
       "      <td>0</td>\n",
       "      <td>0</td>\n",
       "      <td>0</td>\n",
       "      <td>0</td>\n",
       "      <td>0</td>\n",
       "      <td>0</td>\n",
       "      <td>0</td>\n",
       "      <td>0</td>\n",
       "      <td>0</td>\n",
       "      <td>1</td>\n",
       "      <td>0</td>\n",
       "      <td>7624.0</td>\n",
       "    </tr>\n",
       "    <tr>\n",
       "      <th>2</th>\n",
       "      <td>2</td>\n",
       "      <td>10000</td>\n",
       "      <td>7.26</td>\n",
       "      <td>2</td>\n",
       "      <td>45000.0</td>\n",
       "      <td>31.0</td>\n",
       "      <td>18.42</td>\n",
       "      <td>0.0</td>\n",
       "      <td>9.0</td>\n",
       "      <td>0.0</td>\n",
       "      <td>5.0</td>\n",
       "      <td>0.0</td>\n",
       "      <td>56.47</td>\n",
       "      <td>0.0</td>\n",
       "      <td>0.0</td>\n",
       "      <td>0.0</td>\n",
       "      <td>0.0</td>\n",
       "      <td>65.0</td>\n",
       "      <td>38295.0</td>\n",
       "      <td>0</td>\n",
       "      <td>0</td>\n",
       "      <td>0</td>\n",
       "      <td>0</td>\n",
       "      <td>1</td>\n",
       "      <td>0</td>\n",
       "      <td>0</td>\n",
       "      <td>0</td>\n",
       "      <td>0</td>\n",
       "      <td>1</td>\n",
       "      <td>0</td>\n",
       "      <td>0</td>\n",
       "      <td>0</td>\n",
       "      <td>0</td>\n",
       "      <td>0</td>\n",
       "      <td>0</td>\n",
       "      <td>0</td>\n",
       "      <td>0</td>\n",
       "      <td>0</td>\n",
       "      <td>0</td>\n",
       "      <td>0</td>\n",
       "      <td>1</td>\n",
       "      <td>0</td>\n",
       "      <td>10877.0</td>\n",
       "    </tr>\n",
       "    <tr>\n",
       "      <th>3</th>\n",
       "      <td>3</td>\n",
       "      <td>15000</td>\n",
       "      <td>19.72</td>\n",
       "      <td>10</td>\n",
       "      <td>105000.0</td>\n",
       "      <td>46.0</td>\n",
       "      <td>14.97</td>\n",
       "      <td>0.0</td>\n",
       "      <td>135.0</td>\n",
       "      <td>2.0</td>\n",
       "      <td>10.0</td>\n",
       "      <td>0.0</td>\n",
       "      <td>4858.62</td>\n",
       "      <td>0.0</td>\n",
       "      <td>0.0</td>\n",
       "      <td>0.0</td>\n",
       "      <td>0.0</td>\n",
       "      <td>0.0</td>\n",
       "      <td>55564.0</td>\n",
       "      <td>0</td>\n",
       "      <td>0</td>\n",
       "      <td>0</td>\n",
       "      <td>0</td>\n",
       "      <td>0</td>\n",
       "      <td>1</td>\n",
       "      <td>0</td>\n",
       "      <td>0</td>\n",
       "      <td>0</td>\n",
       "      <td>1</td>\n",
       "      <td>0</td>\n",
       "      <td>0</td>\n",
       "      <td>0</td>\n",
       "      <td>0</td>\n",
       "      <td>0</td>\n",
       "      <td>0</td>\n",
       "      <td>0</td>\n",
       "      <td>0</td>\n",
       "      <td>0</td>\n",
       "      <td>0</td>\n",
       "      <td>0</td>\n",
       "      <td>0</td>\n",
       "      <td>0</td>\n",
       "      <td>13712.0</td>\n",
       "    </tr>\n",
       "    <tr>\n",
       "      <th>4</th>\n",
       "      <td>4</td>\n",
       "      <td>16000</td>\n",
       "      <td>10.64</td>\n",
       "      <td>10</td>\n",
       "      <td>52000.0</td>\n",
       "      <td>31.0</td>\n",
       "      <td>20.16</td>\n",
       "      <td>0.0</td>\n",
       "      <td>96.0</td>\n",
       "      <td>0.0</td>\n",
       "      <td>11.0</td>\n",
       "      <td>0.0</td>\n",
       "      <td>2296.41</td>\n",
       "      <td>0.0</td>\n",
       "      <td>0.0</td>\n",
       "      <td>0.0</td>\n",
       "      <td>0.0</td>\n",
       "      <td>0.0</td>\n",
       "      <td>47159.0</td>\n",
       "      <td>0</td>\n",
       "      <td>0</td>\n",
       "      <td>0</td>\n",
       "      <td>0</td>\n",
       "      <td>0</td>\n",
       "      <td>1</td>\n",
       "      <td>0</td>\n",
       "      <td>1</td>\n",
       "      <td>1</td>\n",
       "      <td>0</td>\n",
       "      <td>0</td>\n",
       "      <td>0</td>\n",
       "      <td>0</td>\n",
       "      <td>0</td>\n",
       "      <td>0</td>\n",
       "      <td>0</td>\n",
       "      <td>0</td>\n",
       "      <td>0</td>\n",
       "      <td>0</td>\n",
       "      <td>0</td>\n",
       "      <td>0</td>\n",
       "      <td>1</td>\n",
       "      <td>0</td>\n",
       "      <td>35835.0</td>\n",
       "    </tr>\n",
       "  </tbody>\n",
       "</table>\n",
       "</div>"
      ],
      "text/plain": [
       "   Unnamed: 0  loan_amnt   ...  application_type_JOINT  total revol_bal\n",
       "0           0       14350  ...                       0          22515.0\n",
       "1           1        4800  ...                       0           7624.0\n",
       "2           2       10000  ...                       0          10877.0\n",
       "3           3       15000  ...                       0          13712.0\n",
       "4           4       16000  ...                       0          35835.0\n",
       "\n",
       "[5 rows x 43 columns]"
      ]
     },
     "execution_count": 5,
     "metadata": {
      "tags": []
     },
     "output_type": "execute_result"
    }
   ],
   "source": [
    "df = pd.read_csv(\"/content/drive/MyDrive/DS study/Project 1/Project_final_cleandata_eda.csv\")\n",
    "df.head()"
   ]
  },
  {
   "cell_type": "markdown",
   "metadata": {
    "id": "1krdCf2Iy5tz"
   },
   "source": [
    "### Scaling the data"
   ]
  },
  {
   "cell_type": "code",
   "execution_count": 6,
   "metadata": {
    "executionInfo": {
     "elapsed": 356,
     "status": "ok",
     "timestamp": 1629267691145,
     "user": {
      "displayName": "SUMIT YENUGWAR",
      "photoUrl": "https://lh3.googleusercontent.com/a-/AOh14GgWF_AXb3JKzRG4HcMuK2aUrD6NWk93uKBqZpZdvQ=s64",
      "userId": "05792510571347937678"
     },
     "user_tz": -330
    },
    "id": "s65w6hCsy5t0"
   },
   "outputs": [],
   "source": [
    "feature_scale=[feature for feature in df.columns if feature not in [\"total revol_bal\",\"Unnamed: 0\"]]"
   ]
  },
  {
   "cell_type": "code",
   "execution_count": 7,
   "metadata": {
    "executionInfo": {
     "elapsed": 6,
     "status": "ok",
     "timestamp": 1629267693461,
     "user": {
      "displayName": "SUMIT YENUGWAR",
      "photoUrl": "https://lh3.googleusercontent.com/a-/AOh14GgWF_AXb3JKzRG4HcMuK2aUrD6NWk93uKBqZpZdvQ=s64",
      "userId": "05792510571347937678"
     },
     "user_tz": -330
    },
    "id": "0hq7h-3dy5t0"
   },
   "outputs": [],
   "source": [
    "from sklearn.preprocessing import MinMaxScaler"
   ]
  },
  {
   "cell_type": "code",
   "execution_count": 8,
   "metadata": {
    "colab": {
     "base_uri": "https://localhost:8080/"
    },
    "executionInfo": {
     "elapsed": 587,
     "status": "ok",
     "timestamp": 1629267695894,
     "user": {
      "displayName": "SUMIT YENUGWAR",
      "photoUrl": "https://lh3.googleusercontent.com/a-/AOh14GgWF_AXb3JKzRG4HcMuK2aUrD6NWk93uKBqZpZdvQ=s64",
      "userId": "05792510571347937678"
     },
     "user_tz": -330
    },
    "id": "nq7Nf0Rly5t0",
    "outputId": "e259546b-baa7-4f88-e413-fc227fa23f04"
   },
   "outputs": [
    {
     "data": {
      "text/plain": [
       "MinMaxScaler(copy=True, feature_range=(0, 1))"
      ]
     },
     "execution_count": 8,
     "metadata": {
      "tags": []
     },
     "output_type": "execute_result"
    }
   ],
   "source": [
    "scaler=MinMaxScaler()\n",
    "scaler.fit(df[feature_scale])"
   ]
  },
  {
   "cell_type": "code",
   "execution_count": 9,
   "metadata": {
    "executionInfo": {
     "elapsed": 762,
     "status": "ok",
     "timestamp": 1629267697231,
     "user": {
      "displayName": "SUMIT YENUGWAR",
      "photoUrl": "https://lh3.googleusercontent.com/a-/AOh14GgWF_AXb3JKzRG4HcMuK2aUrD6NWk93uKBqZpZdvQ=s64",
      "userId": "05792510571347937678"
     },
     "user_tz": -330
    },
    "id": "9lmkb7IAy5t0"
   },
   "outputs": [],
   "source": [
    "scaled_data = pd.DataFrame(scaler.transform(df[feature_scale]),columns=feature_scale)"
   ]
  },
  {
   "cell_type": "code",
   "execution_count": 10,
   "metadata": {
    "executionInfo": {
     "elapsed": 3,
     "status": "ok",
     "timestamp": 1629267698085,
     "user": {
      "displayName": "SUMIT YENUGWAR",
      "photoUrl": "https://lh3.googleusercontent.com/a-/AOh14GgWF_AXb3JKzRG4HcMuK2aUrD6NWk93uKBqZpZdvQ=s64",
      "userId": "05792510571347937678"
     },
     "user_tz": -330
    },
    "id": "3kEmfqFXy5t1"
   },
   "outputs": [],
   "source": [
    "# Adding output variable to scaled data"
   ]
  },
  {
   "cell_type": "code",
   "execution_count": 11,
   "metadata": {
    "executionInfo": {
     "elapsed": 6,
     "status": "ok",
     "timestamp": 1629267699134,
     "user": {
      "displayName": "SUMIT YENUGWAR",
      "photoUrl": "https://lh3.googleusercontent.com/a-/AOh14GgWF_AXb3JKzRG4HcMuK2aUrD6NWk93uKBqZpZdvQ=s64",
      "userId": "05792510571347937678"
     },
     "user_tz": -330
    },
    "id": "0uFk5gFty5t1"
   },
   "outputs": [],
   "source": [
    "scaled_data[\"total revol_bal\"] = df[\"total revol_bal\"]"
   ]
  },
  {
   "cell_type": "code",
   "execution_count": 12,
   "metadata": {
    "colab": {
     "base_uri": "https://localhost:8080/",
     "height": 241
    },
    "executionInfo": {
     "elapsed": 9,
     "status": "ok",
     "timestamp": 1629267699490,
     "user": {
      "displayName": "SUMIT YENUGWAR",
      "photoUrl": "https://lh3.googleusercontent.com/a-/AOh14GgWF_AXb3JKzRG4HcMuK2aUrD6NWk93uKBqZpZdvQ=s64",
      "userId": "05792510571347937678"
     },
     "user_tz": -330
    },
    "id": "GeQ6kJDey5t1",
    "outputId": "2cd4b2bd-ab68-44bb-ab8f-8e1782f3f13a",
    "scrolled": false
   },
   "outputs": [
    {
     "data": {
      "text/html": [
       "<div>\n",
       "<style scoped>\n",
       "    .dataframe tbody tr th:only-of-type {\n",
       "        vertical-align: middle;\n",
       "    }\n",
       "\n",
       "    .dataframe tbody tr th {\n",
       "        vertical-align: top;\n",
       "    }\n",
       "\n",
       "    .dataframe thead th {\n",
       "        text-align: right;\n",
       "    }\n",
       "</style>\n",
       "<table border=\"1\" class=\"dataframe\">\n",
       "  <thead>\n",
       "    <tr style=\"text-align: right;\">\n",
       "      <th></th>\n",
       "      <th>loan_amnt</th>\n",
       "      <th>Rate_of_intrst</th>\n",
       "      <th>Experience</th>\n",
       "      <th>annual_inc</th>\n",
       "      <th>mths_since_last_delinq</th>\n",
       "      <th>debt_income_ratio</th>\n",
       "      <th>delinq_2yrs</th>\n",
       "      <th>last_week_pay</th>\n",
       "      <th>inq_last_6mths</th>\n",
       "      <th>numb_credit</th>\n",
       "      <th>pub_rec</th>\n",
       "      <th>total_rec_int</th>\n",
       "      <th>total_rec_late_fee</th>\n",
       "      <th>recoveries</th>\n",
       "      <th>collections_12_mths_ex_med</th>\n",
       "      <th>acc_now_delinq</th>\n",
       "      <th>tot_colle_amt</th>\n",
       "      <th>tot_curr_bal</th>\n",
       "      <th>terms_60 months</th>\n",
       "      <th>home_ownership_MORTGAGE</th>\n",
       "      <th>home_ownership_NONE</th>\n",
       "      <th>home_ownership_OTHER</th>\n",
       "      <th>home_ownership_OWN</th>\n",
       "      <th>home_ownership_RENT</th>\n",
       "      <th>verification_status_Source Verified</th>\n",
       "      <th>verification_status_Verified</th>\n",
       "      <th>purpose_credit_card</th>\n",
       "      <th>purpose_debt_consolidation</th>\n",
       "      <th>purpose_educational</th>\n",
       "      <th>purpose_home_improvement</th>\n",
       "      <th>purpose_house</th>\n",
       "      <th>purpose_major_purchase</th>\n",
       "      <th>purpose_medical</th>\n",
       "      <th>purpose_moving</th>\n",
       "      <th>purpose_other</th>\n",
       "      <th>purpose_renewable_energy</th>\n",
       "      <th>purpose_small_business</th>\n",
       "      <th>purpose_vacation</th>\n",
       "      <th>purpose_wedding</th>\n",
       "      <th>initial_list_status_w</th>\n",
       "      <th>application_type_JOINT</th>\n",
       "      <th>total revol_bal</th>\n",
       "    </tr>\n",
       "  </thead>\n",
       "  <tbody>\n",
       "    <tr>\n",
       "      <th>0</th>\n",
       "      <td>0.401449</td>\n",
       "      <td>0.585974</td>\n",
       "      <td>0.9</td>\n",
       "      <td>0.127556</td>\n",
       "      <td>0.265957</td>\n",
       "      <td>0.564009</td>\n",
       "      <td>0.0</td>\n",
       "      <td>0.085526</td>\n",
       "      <td>0.25</td>\n",
       "      <td>0.43750</td>\n",
       "      <td>0.011628</td>\n",
       "      <td>0.153872</td>\n",
       "      <td>0.0</td>\n",
       "      <td>0.0</td>\n",
       "      <td>0.0</td>\n",
       "      <td>0.0</td>\n",
       "      <td>0.000000</td>\n",
       "      <td>0.041809</td>\n",
       "      <td>0.0</td>\n",
       "      <td>0.0</td>\n",
       "      <td>0.0</td>\n",
       "      <td>0.0</td>\n",
       "      <td>1.0</td>\n",
       "      <td>0.0</td>\n",
       "      <td>1.0</td>\n",
       "      <td>0.0</td>\n",
       "      <td>0.0</td>\n",
       "      <td>1.0</td>\n",
       "      <td>0.0</td>\n",
       "      <td>0.0</td>\n",
       "      <td>0.0</td>\n",
       "      <td>0.0</td>\n",
       "      <td>0.0</td>\n",
       "      <td>0.0</td>\n",
       "      <td>0.0</td>\n",
       "      <td>0.0</td>\n",
       "      <td>0.0</td>\n",
       "      <td>0.0</td>\n",
       "      <td>0.0</td>\n",
       "      <td>0.0</td>\n",
       "      <td>0.0</td>\n",
       "      <td>22515.0</td>\n",
       "    </tr>\n",
       "    <tr>\n",
       "      <th>1</th>\n",
       "      <td>0.124638</td>\n",
       "      <td>0.239544</td>\n",
       "      <td>0.1</td>\n",
       "      <td>0.288889</td>\n",
       "      <td>0.164894</td>\n",
       "      <td>0.060596</td>\n",
       "      <td>0.0</td>\n",
       "      <td>0.029605</td>\n",
       "      <td>0.25</td>\n",
       "      <td>0.18750</td>\n",
       "      <td>0.000000</td>\n",
       "      <td>0.011005</td>\n",
       "      <td>0.0</td>\n",
       "      <td>0.0</td>\n",
       "      <td>0.0</td>\n",
       "      <td>0.0</td>\n",
       "      <td>0.000000</td>\n",
       "      <td>0.014530</td>\n",
       "      <td>0.0</td>\n",
       "      <td>1.0</td>\n",
       "      <td>0.0</td>\n",
       "      <td>0.0</td>\n",
       "      <td>0.0</td>\n",
       "      <td>0.0</td>\n",
       "      <td>1.0</td>\n",
       "      <td>0.0</td>\n",
       "      <td>0.0</td>\n",
       "      <td>0.0</td>\n",
       "      <td>0.0</td>\n",
       "      <td>1.0</td>\n",
       "      <td>0.0</td>\n",
       "      <td>0.0</td>\n",
       "      <td>0.0</td>\n",
       "      <td>0.0</td>\n",
       "      <td>0.0</td>\n",
       "      <td>0.0</td>\n",
       "      <td>0.0</td>\n",
       "      <td>0.0</td>\n",
       "      <td>0.0</td>\n",
       "      <td>1.0</td>\n",
       "      <td>0.0</td>\n",
       "      <td>7624.0</td>\n",
       "    </tr>\n",
       "    <tr>\n",
       "      <th>2</th>\n",
       "      <td>0.275362</td>\n",
       "      <td>0.081960</td>\n",
       "      <td>0.2</td>\n",
       "      <td>0.200000</td>\n",
       "      <td>0.164894</td>\n",
       "      <td>0.306642</td>\n",
       "      <td>0.0</td>\n",
       "      <td>0.029605</td>\n",
       "      <td>0.00</td>\n",
       "      <td>0.15625</td>\n",
       "      <td>0.000000</td>\n",
       "      <td>0.007402</td>\n",
       "      <td>0.0</td>\n",
       "      <td>0.0</td>\n",
       "      <td>0.0</td>\n",
       "      <td>0.0</td>\n",
       "      <td>0.000007</td>\n",
       "      <td>0.055788</td>\n",
       "      <td>0.0</td>\n",
       "      <td>0.0</td>\n",
       "      <td>0.0</td>\n",
       "      <td>0.0</td>\n",
       "      <td>1.0</td>\n",
       "      <td>0.0</td>\n",
       "      <td>0.0</td>\n",
       "      <td>0.0</td>\n",
       "      <td>0.0</td>\n",
       "      <td>1.0</td>\n",
       "      <td>0.0</td>\n",
       "      <td>0.0</td>\n",
       "      <td>0.0</td>\n",
       "      <td>0.0</td>\n",
       "      <td>0.0</td>\n",
       "      <td>0.0</td>\n",
       "      <td>0.0</td>\n",
       "      <td>0.0</td>\n",
       "      <td>0.0</td>\n",
       "      <td>0.0</td>\n",
       "      <td>0.0</td>\n",
       "      <td>1.0</td>\n",
       "      <td>0.0</td>\n",
       "      <td>10877.0</td>\n",
       "    </tr>\n",
       "    <tr>\n",
       "      <th>3</th>\n",
       "      <td>0.420290</td>\n",
       "      <td>0.608365</td>\n",
       "      <td>1.0</td>\n",
       "      <td>0.466667</td>\n",
       "      <td>0.244681</td>\n",
       "      <td>0.249209</td>\n",
       "      <td>0.0</td>\n",
       "      <td>0.444079</td>\n",
       "      <td>0.50</td>\n",
       "      <td>0.31250</td>\n",
       "      <td>0.000000</td>\n",
       "      <td>0.636889</td>\n",
       "      <td>0.0</td>\n",
       "      <td>0.0</td>\n",
       "      <td>0.0</td>\n",
       "      <td>0.0</td>\n",
       "      <td>0.000000</td>\n",
       "      <td>0.080945</td>\n",
       "      <td>0.0</td>\n",
       "      <td>0.0</td>\n",
       "      <td>0.0</td>\n",
       "      <td>0.0</td>\n",
       "      <td>0.0</td>\n",
       "      <td>1.0</td>\n",
       "      <td>0.0</td>\n",
       "      <td>0.0</td>\n",
       "      <td>0.0</td>\n",
       "      <td>1.0</td>\n",
       "      <td>0.0</td>\n",
       "      <td>0.0</td>\n",
       "      <td>0.0</td>\n",
       "      <td>0.0</td>\n",
       "      <td>0.0</td>\n",
       "      <td>0.0</td>\n",
       "      <td>0.0</td>\n",
       "      <td>0.0</td>\n",
       "      <td>0.0</td>\n",
       "      <td>0.0</td>\n",
       "      <td>0.0</td>\n",
       "      <td>0.0</td>\n",
       "      <td>0.0</td>\n",
       "      <td>13712.0</td>\n",
       "    </tr>\n",
       "    <tr>\n",
       "      <th>4</th>\n",
       "      <td>0.449275</td>\n",
       "      <td>0.224757</td>\n",
       "      <td>1.0</td>\n",
       "      <td>0.231111</td>\n",
       "      <td>0.164894</td>\n",
       "      <td>0.335608</td>\n",
       "      <td>0.0</td>\n",
       "      <td>0.315789</td>\n",
       "      <td>0.00</td>\n",
       "      <td>0.34375</td>\n",
       "      <td>0.000000</td>\n",
       "      <td>0.301023</td>\n",
       "      <td>0.0</td>\n",
       "      <td>0.0</td>\n",
       "      <td>0.0</td>\n",
       "      <td>0.0</td>\n",
       "      <td>0.000000</td>\n",
       "      <td>0.068701</td>\n",
       "      <td>0.0</td>\n",
       "      <td>0.0</td>\n",
       "      <td>0.0</td>\n",
       "      <td>0.0</td>\n",
       "      <td>0.0</td>\n",
       "      <td>1.0</td>\n",
       "      <td>0.0</td>\n",
       "      <td>1.0</td>\n",
       "      <td>1.0</td>\n",
       "      <td>0.0</td>\n",
       "      <td>0.0</td>\n",
       "      <td>0.0</td>\n",
       "      <td>0.0</td>\n",
       "      <td>0.0</td>\n",
       "      <td>0.0</td>\n",
       "      <td>0.0</td>\n",
       "      <td>0.0</td>\n",
       "      <td>0.0</td>\n",
       "      <td>0.0</td>\n",
       "      <td>0.0</td>\n",
       "      <td>0.0</td>\n",
       "      <td>1.0</td>\n",
       "      <td>0.0</td>\n",
       "      <td>35835.0</td>\n",
       "    </tr>\n",
       "  </tbody>\n",
       "</table>\n",
       "</div>"
      ],
      "text/plain": [
       "   loan_amnt   Rate_of_intrst  ...  application_type_JOINT  total revol_bal\n",
       "0    0.401449        0.585974  ...                     0.0          22515.0\n",
       "1    0.124638        0.239544  ...                     0.0           7624.0\n",
       "2    0.275362        0.081960  ...                     0.0          10877.0\n",
       "3    0.420290        0.608365  ...                     0.0          13712.0\n",
       "4    0.449275        0.224757  ...                     0.0          35835.0\n",
       "\n",
       "[5 rows x 42 columns]"
      ]
     },
     "execution_count": 12,
     "metadata": {
      "tags": []
     },
     "output_type": "execute_result"
    }
   ],
   "source": [
    "scaled_data.head()"
   ]
  },
  {
   "cell_type": "markdown",
   "metadata": {
    "id": "nzw_USCKy5t2"
   },
   "source": [
    "### Seperating input and output variables"
   ]
  },
  {
   "cell_type": "code",
   "execution_count": 13,
   "metadata": {
    "executionInfo": {
     "elapsed": 618,
     "status": "ok",
     "timestamp": 1629267703184,
     "user": {
      "displayName": "SUMIT YENUGWAR",
      "photoUrl": "https://lh3.googleusercontent.com/a-/AOh14GgWF_AXb3JKzRG4HcMuK2aUrD6NWk93uKBqZpZdvQ=s64",
      "userId": "05792510571347937678"
     },
     "user_tz": -330
    },
    "id": "GG179gkGy5t2"
   },
   "outputs": [],
   "source": [
    "X = scaled_data.drop(columns=[\"total revol_bal\"],axis=1)\n",
    "y = scaled_data[\"total revol_bal\"]"
   ]
  },
  {
   "cell_type": "code",
   "execution_count": 14,
   "metadata": {
    "colab": {
     "base_uri": "https://localhost:8080/",
     "height": 241
    },
    "executionInfo": {
     "elapsed": 10,
     "status": "ok",
     "timestamp": 1629267704169,
     "user": {
      "displayName": "SUMIT YENUGWAR",
      "photoUrl": "https://lh3.googleusercontent.com/a-/AOh14GgWF_AXb3JKzRG4HcMuK2aUrD6NWk93uKBqZpZdvQ=s64",
      "userId": "05792510571347937678"
     },
     "user_tz": -330
    },
    "id": "ira0YNBky5t2",
    "outputId": "34a4be3f-0d19-4251-9f85-b82a74f866a0"
   },
   "outputs": [
    {
     "data": {
      "text/html": [
       "<div>\n",
       "<style scoped>\n",
       "    .dataframe tbody tr th:only-of-type {\n",
       "        vertical-align: middle;\n",
       "    }\n",
       "\n",
       "    .dataframe tbody tr th {\n",
       "        vertical-align: top;\n",
       "    }\n",
       "\n",
       "    .dataframe thead th {\n",
       "        text-align: right;\n",
       "    }\n",
       "</style>\n",
       "<table border=\"1\" class=\"dataframe\">\n",
       "  <thead>\n",
       "    <tr style=\"text-align: right;\">\n",
       "      <th></th>\n",
       "      <th>loan_amnt</th>\n",
       "      <th>Rate_of_intrst</th>\n",
       "      <th>Experience</th>\n",
       "      <th>annual_inc</th>\n",
       "      <th>mths_since_last_delinq</th>\n",
       "      <th>debt_income_ratio</th>\n",
       "      <th>delinq_2yrs</th>\n",
       "      <th>last_week_pay</th>\n",
       "      <th>inq_last_6mths</th>\n",
       "      <th>numb_credit</th>\n",
       "      <th>pub_rec</th>\n",
       "      <th>total_rec_int</th>\n",
       "      <th>total_rec_late_fee</th>\n",
       "      <th>recoveries</th>\n",
       "      <th>collections_12_mths_ex_med</th>\n",
       "      <th>acc_now_delinq</th>\n",
       "      <th>tot_colle_amt</th>\n",
       "      <th>tot_curr_bal</th>\n",
       "      <th>terms_60 months</th>\n",
       "      <th>home_ownership_MORTGAGE</th>\n",
       "      <th>home_ownership_NONE</th>\n",
       "      <th>home_ownership_OTHER</th>\n",
       "      <th>home_ownership_OWN</th>\n",
       "      <th>home_ownership_RENT</th>\n",
       "      <th>verification_status_Source Verified</th>\n",
       "      <th>verification_status_Verified</th>\n",
       "      <th>purpose_credit_card</th>\n",
       "      <th>purpose_debt_consolidation</th>\n",
       "      <th>purpose_educational</th>\n",
       "      <th>purpose_home_improvement</th>\n",
       "      <th>purpose_house</th>\n",
       "      <th>purpose_major_purchase</th>\n",
       "      <th>purpose_medical</th>\n",
       "      <th>purpose_moving</th>\n",
       "      <th>purpose_other</th>\n",
       "      <th>purpose_renewable_energy</th>\n",
       "      <th>purpose_small_business</th>\n",
       "      <th>purpose_vacation</th>\n",
       "      <th>purpose_wedding</th>\n",
       "      <th>initial_list_status_w</th>\n",
       "      <th>application_type_JOINT</th>\n",
       "    </tr>\n",
       "  </thead>\n",
       "  <tbody>\n",
       "    <tr>\n",
       "      <th>0</th>\n",
       "      <td>0.401449</td>\n",
       "      <td>0.585974</td>\n",
       "      <td>0.9</td>\n",
       "      <td>0.127556</td>\n",
       "      <td>0.265957</td>\n",
       "      <td>0.564009</td>\n",
       "      <td>0.0</td>\n",
       "      <td>0.085526</td>\n",
       "      <td>0.25</td>\n",
       "      <td>0.43750</td>\n",
       "      <td>0.011628</td>\n",
       "      <td>0.153872</td>\n",
       "      <td>0.0</td>\n",
       "      <td>0.0</td>\n",
       "      <td>0.0</td>\n",
       "      <td>0.0</td>\n",
       "      <td>0.000000</td>\n",
       "      <td>0.041809</td>\n",
       "      <td>0.0</td>\n",
       "      <td>0.0</td>\n",
       "      <td>0.0</td>\n",
       "      <td>0.0</td>\n",
       "      <td>1.0</td>\n",
       "      <td>0.0</td>\n",
       "      <td>1.0</td>\n",
       "      <td>0.0</td>\n",
       "      <td>0.0</td>\n",
       "      <td>1.0</td>\n",
       "      <td>0.0</td>\n",
       "      <td>0.0</td>\n",
       "      <td>0.0</td>\n",
       "      <td>0.0</td>\n",
       "      <td>0.0</td>\n",
       "      <td>0.0</td>\n",
       "      <td>0.0</td>\n",
       "      <td>0.0</td>\n",
       "      <td>0.0</td>\n",
       "      <td>0.0</td>\n",
       "      <td>0.0</td>\n",
       "      <td>0.0</td>\n",
       "      <td>0.0</td>\n",
       "    </tr>\n",
       "    <tr>\n",
       "      <th>1</th>\n",
       "      <td>0.124638</td>\n",
       "      <td>0.239544</td>\n",
       "      <td>0.1</td>\n",
       "      <td>0.288889</td>\n",
       "      <td>0.164894</td>\n",
       "      <td>0.060596</td>\n",
       "      <td>0.0</td>\n",
       "      <td>0.029605</td>\n",
       "      <td>0.25</td>\n",
       "      <td>0.18750</td>\n",
       "      <td>0.000000</td>\n",
       "      <td>0.011005</td>\n",
       "      <td>0.0</td>\n",
       "      <td>0.0</td>\n",
       "      <td>0.0</td>\n",
       "      <td>0.0</td>\n",
       "      <td>0.000000</td>\n",
       "      <td>0.014530</td>\n",
       "      <td>0.0</td>\n",
       "      <td>1.0</td>\n",
       "      <td>0.0</td>\n",
       "      <td>0.0</td>\n",
       "      <td>0.0</td>\n",
       "      <td>0.0</td>\n",
       "      <td>1.0</td>\n",
       "      <td>0.0</td>\n",
       "      <td>0.0</td>\n",
       "      <td>0.0</td>\n",
       "      <td>0.0</td>\n",
       "      <td>1.0</td>\n",
       "      <td>0.0</td>\n",
       "      <td>0.0</td>\n",
       "      <td>0.0</td>\n",
       "      <td>0.0</td>\n",
       "      <td>0.0</td>\n",
       "      <td>0.0</td>\n",
       "      <td>0.0</td>\n",
       "      <td>0.0</td>\n",
       "      <td>0.0</td>\n",
       "      <td>1.0</td>\n",
       "      <td>0.0</td>\n",
       "    </tr>\n",
       "    <tr>\n",
       "      <th>2</th>\n",
       "      <td>0.275362</td>\n",
       "      <td>0.081960</td>\n",
       "      <td>0.2</td>\n",
       "      <td>0.200000</td>\n",
       "      <td>0.164894</td>\n",
       "      <td>0.306642</td>\n",
       "      <td>0.0</td>\n",
       "      <td>0.029605</td>\n",
       "      <td>0.00</td>\n",
       "      <td>0.15625</td>\n",
       "      <td>0.000000</td>\n",
       "      <td>0.007402</td>\n",
       "      <td>0.0</td>\n",
       "      <td>0.0</td>\n",
       "      <td>0.0</td>\n",
       "      <td>0.0</td>\n",
       "      <td>0.000007</td>\n",
       "      <td>0.055788</td>\n",
       "      <td>0.0</td>\n",
       "      <td>0.0</td>\n",
       "      <td>0.0</td>\n",
       "      <td>0.0</td>\n",
       "      <td>1.0</td>\n",
       "      <td>0.0</td>\n",
       "      <td>0.0</td>\n",
       "      <td>0.0</td>\n",
       "      <td>0.0</td>\n",
       "      <td>1.0</td>\n",
       "      <td>0.0</td>\n",
       "      <td>0.0</td>\n",
       "      <td>0.0</td>\n",
       "      <td>0.0</td>\n",
       "      <td>0.0</td>\n",
       "      <td>0.0</td>\n",
       "      <td>0.0</td>\n",
       "      <td>0.0</td>\n",
       "      <td>0.0</td>\n",
       "      <td>0.0</td>\n",
       "      <td>0.0</td>\n",
       "      <td>1.0</td>\n",
       "      <td>0.0</td>\n",
       "    </tr>\n",
       "    <tr>\n",
       "      <th>3</th>\n",
       "      <td>0.420290</td>\n",
       "      <td>0.608365</td>\n",
       "      <td>1.0</td>\n",
       "      <td>0.466667</td>\n",
       "      <td>0.244681</td>\n",
       "      <td>0.249209</td>\n",
       "      <td>0.0</td>\n",
       "      <td>0.444079</td>\n",
       "      <td>0.50</td>\n",
       "      <td>0.31250</td>\n",
       "      <td>0.000000</td>\n",
       "      <td>0.636889</td>\n",
       "      <td>0.0</td>\n",
       "      <td>0.0</td>\n",
       "      <td>0.0</td>\n",
       "      <td>0.0</td>\n",
       "      <td>0.000000</td>\n",
       "      <td>0.080945</td>\n",
       "      <td>0.0</td>\n",
       "      <td>0.0</td>\n",
       "      <td>0.0</td>\n",
       "      <td>0.0</td>\n",
       "      <td>0.0</td>\n",
       "      <td>1.0</td>\n",
       "      <td>0.0</td>\n",
       "      <td>0.0</td>\n",
       "      <td>0.0</td>\n",
       "      <td>1.0</td>\n",
       "      <td>0.0</td>\n",
       "      <td>0.0</td>\n",
       "      <td>0.0</td>\n",
       "      <td>0.0</td>\n",
       "      <td>0.0</td>\n",
       "      <td>0.0</td>\n",
       "      <td>0.0</td>\n",
       "      <td>0.0</td>\n",
       "      <td>0.0</td>\n",
       "      <td>0.0</td>\n",
       "      <td>0.0</td>\n",
       "      <td>0.0</td>\n",
       "      <td>0.0</td>\n",
       "    </tr>\n",
       "    <tr>\n",
       "      <th>4</th>\n",
       "      <td>0.449275</td>\n",
       "      <td>0.224757</td>\n",
       "      <td>1.0</td>\n",
       "      <td>0.231111</td>\n",
       "      <td>0.164894</td>\n",
       "      <td>0.335608</td>\n",
       "      <td>0.0</td>\n",
       "      <td>0.315789</td>\n",
       "      <td>0.00</td>\n",
       "      <td>0.34375</td>\n",
       "      <td>0.000000</td>\n",
       "      <td>0.301023</td>\n",
       "      <td>0.0</td>\n",
       "      <td>0.0</td>\n",
       "      <td>0.0</td>\n",
       "      <td>0.0</td>\n",
       "      <td>0.000000</td>\n",
       "      <td>0.068701</td>\n",
       "      <td>0.0</td>\n",
       "      <td>0.0</td>\n",
       "      <td>0.0</td>\n",
       "      <td>0.0</td>\n",
       "      <td>0.0</td>\n",
       "      <td>1.0</td>\n",
       "      <td>0.0</td>\n",
       "      <td>1.0</td>\n",
       "      <td>1.0</td>\n",
       "      <td>0.0</td>\n",
       "      <td>0.0</td>\n",
       "      <td>0.0</td>\n",
       "      <td>0.0</td>\n",
       "      <td>0.0</td>\n",
       "      <td>0.0</td>\n",
       "      <td>0.0</td>\n",
       "      <td>0.0</td>\n",
       "      <td>0.0</td>\n",
       "      <td>0.0</td>\n",
       "      <td>0.0</td>\n",
       "      <td>0.0</td>\n",
       "      <td>1.0</td>\n",
       "      <td>0.0</td>\n",
       "    </tr>\n",
       "  </tbody>\n",
       "</table>\n",
       "</div>"
      ],
      "text/plain": [
       "   loan_amnt   Rate_of_intrst  ...  initial_list_status_w  application_type_JOINT\n",
       "0    0.401449        0.585974  ...                    0.0                     0.0\n",
       "1    0.124638        0.239544  ...                    1.0                     0.0\n",
       "2    0.275362        0.081960  ...                    1.0                     0.0\n",
       "3    0.420290        0.608365  ...                    0.0                     0.0\n",
       "4    0.449275        0.224757  ...                    1.0                     0.0\n",
       "\n",
       "[5 rows x 41 columns]"
      ]
     },
     "execution_count": 14,
     "metadata": {
      "tags": []
     },
     "output_type": "execute_result"
    }
   ],
   "source": [
    "X.head()"
   ]
  },
  {
   "cell_type": "code",
   "execution_count": 15,
   "metadata": {
    "colab": {
     "base_uri": "https://localhost:8080/"
    },
    "executionInfo": {
     "elapsed": 5,
     "status": "ok",
     "timestamp": 1629267704499,
     "user": {
      "displayName": "SUMIT YENUGWAR",
      "photoUrl": "https://lh3.googleusercontent.com/a-/AOh14GgWF_AXb3JKzRG4HcMuK2aUrD6NWk93uKBqZpZdvQ=s64",
      "userId": "05792510571347937678"
     },
     "user_tz": -330
    },
    "id": "4wEhDVn0y5t2",
    "outputId": "f0dbf06e-718d-433e-9133-c07e7ac1d16e"
   },
   "outputs": [
    {
     "data": {
      "text/plain": [
       "0    22515.0\n",
       "1     7624.0\n",
       "2    10877.0\n",
       "3    13712.0\n",
       "4    35835.0\n",
       "Name: total revol_bal, dtype: float64"
      ]
     },
     "execution_count": 15,
     "metadata": {
      "tags": []
     },
     "output_type": "execute_result"
    }
   ],
   "source": [
    "y.head()"
   ]
  },
  {
   "cell_type": "markdown",
   "metadata": {
    "id": "YsO1LoTwy5t2"
   },
   "source": [
    "### Using OLS model to check p-values"
   ]
  },
  {
   "cell_type": "code",
   "execution_count": 42,
   "metadata": {
    "executionInfo": {
     "elapsed": 359,
     "status": "ok",
     "timestamp": 1629268037638,
     "user": {
      "displayName": "SUMIT YENUGWAR",
      "photoUrl": "https://lh3.googleusercontent.com/a-/AOh14GgWF_AXb3JKzRG4HcMuK2aUrD6NWk93uKBqZpZdvQ=s64",
      "userId": "05792510571347937678"
     },
     "user_tz": -330
    },
    "id": "n03AWTYzy5t2"
   },
   "outputs": [],
   "source": [
    "import statsmodels.api as sm\n",
    "from statsmodels.api import OLS"
   ]
  },
  {
   "cell_type": "code",
   "execution_count": 43,
   "metadata": {
    "executionInfo": {
     "elapsed": 7061,
     "status": "ok",
     "timestamp": 1629268045098,
     "user": {
      "displayName": "SUMIT YENUGWAR",
      "photoUrl": "https://lh3.googleusercontent.com/a-/AOh14GgWF_AXb3JKzRG4HcMuK2aUrD6NWk93uKBqZpZdvQ=s64",
      "userId": "05792510571347937678"
     },
     "user_tz": -330
    },
    "id": "2VgQFTJoy5t3"
   },
   "outputs": [],
   "source": [
    "est = sm.OLS(y, X).fit()"
   ]
  },
  {
   "cell_type": "code",
   "execution_count": 44,
   "metadata": {
    "colab": {
     "base_uri": "https://localhost:8080/",
     "height": 1000
    },
    "executionInfo": {
     "elapsed": 644,
     "status": "ok",
     "timestamp": 1629268045726,
     "user": {
      "displayName": "SUMIT YENUGWAR",
      "photoUrl": "https://lh3.googleusercontent.com/a-/AOh14GgWF_AXb3JKzRG4HcMuK2aUrD6NWk93uKBqZpZdvQ=s64",
      "userId": "05792510571347937678"
     },
     "user_tz": -330
    },
    "id": "xDtcKoZ1y5t3",
    "outputId": "eb9883a7-eccb-4c5e-9423-a6794fb0c1c9"
   },
   "outputs": [
    {
     "data": {
      "text/html": [
       "<table class=\"simpletable\">\n",
       "<caption>OLS Regression Results</caption>\n",
       "<tr>\n",
       "  <th>Dep. Variable:</th>     <td>total revol_bal</td> <th>  R-squared (uncentered):</th>       <td>   0.527</td>  \n",
       "</tr>\n",
       "<tr>\n",
       "  <th>Model:</th>                   <td>OLS</td>       <th>  Adj. R-squared (uncentered):</th>  <td>   0.527</td>  \n",
       "</tr>\n",
       "<tr>\n",
       "  <th>Method:</th>             <td>Least Squares</td>  <th>  F-statistic:       </th>           <td>2.409e+04</td> \n",
       "</tr>\n",
       "<tr>\n",
       "  <th>Date:</th>             <td>Wed, 18 Aug 2021</td> <th>  Prob (F-statistic):</th>            <td>  0.00</td>   \n",
       "</tr>\n",
       "<tr>\n",
       "  <th>Time:</th>                 <td>06:27:24</td>     <th>  Log-Likelihood:    </th>          <td>-1.0017e+07</td>\n",
       "</tr>\n",
       "<tr>\n",
       "  <th>No. Observations:</th>      <td>887379</td>      <th>  AIC:               </th>           <td>2.003e+07</td> \n",
       "</tr>\n",
       "<tr>\n",
       "  <th>Df Residuals:</th>          <td>887338</td>      <th>  BIC:               </th>           <td>2.003e+07</td> \n",
       "</tr>\n",
       "<tr>\n",
       "  <th>Df Model:</th>              <td>    41</td>      <th>                     </th>               <td> </td>     \n",
       "</tr>\n",
       "<tr>\n",
       "  <th>Covariance Type:</th>      <td>nonrobust</td>    <th>                     </th>               <td> </td>     \n",
       "</tr>\n",
       "</table>\n",
       "<table class=\"simpletable\">\n",
       "<tr>\n",
       "                   <td></td>                      <th>coef</th>     <th>std err</th>      <th>t</th>      <th>P>|t|</th>  <th>[0.025</th>    <th>0.975]</th>  \n",
       "</tr>\n",
       "<tr>\n",
       "  <th>loan_amnt </th>                          <td> 1.443e+04</td> <td>  140.817</td> <td>  102.503</td> <td> 0.000</td> <td> 1.42e+04</td> <td> 1.47e+04</td>\n",
       "</tr>\n",
       "<tr>\n",
       "  <th>Rate_of_intrst</th>                      <td> -297.9759</td> <td>  156.932</td> <td>   -1.899</td> <td> 0.058</td> <td> -605.557</td> <td>    9.605</td>\n",
       "</tr>\n",
       "<tr>\n",
       "  <th>Experience</th>                          <td> 1373.8613</td> <td>   57.166</td> <td>   24.033</td> <td> 0.000</td> <td> 1261.817</td> <td> 1485.905</td>\n",
       "</tr>\n",
       "<tr>\n",
       "  <th>annual_inc</th>                          <td> 2.909e+04</td> <td>  163.382</td> <td>  178.062</td> <td> 0.000</td> <td> 2.88e+04</td> <td> 2.94e+04</td>\n",
       "</tr>\n",
       "<tr>\n",
       "  <th>mths_since_last_delinq</th>              <td>-7797.0069</td> <td>  287.833</td> <td>  -27.089</td> <td> 0.000</td> <td>-8361.151</td> <td>-7232.863</td>\n",
       "</tr>\n",
       "<tr>\n",
       "  <th>debt_income_ratio</th>                   <td> 2.708e+04</td> <td>  171.250</td> <td>  158.157</td> <td> 0.000</td> <td> 2.67e+04</td> <td> 2.74e+04</td>\n",
       "</tr>\n",
       "<tr>\n",
       "  <th>delinq_2yrs</th>                         <td>-7.304e+04</td> <td> 1070.379</td> <td>  -68.240</td> <td> 0.000</td> <td>-7.51e+04</td> <td>-7.09e+04</td>\n",
       "</tr>\n",
       "<tr>\n",
       "  <th>last_week_pay</th>                       <td> 6204.4252</td> <td>  219.910</td> <td>   28.213</td> <td> 0.000</td> <td> 5773.409</td> <td> 6635.441</td>\n",
       "</tr>\n",
       "<tr>\n",
       "  <th>inq_last_6mths</th>                      <td>-2170.8703</td> <td>   91.724</td> <td>  -23.667</td> <td> 0.000</td> <td>-2350.646</td> <td>-1991.094</td>\n",
       "</tr>\n",
       "<tr>\n",
       "  <th>numb_credit</th>                         <td> 7388.8032</td> <td>  141.863</td> <td>   52.084</td> <td> 0.000</td> <td> 7110.756</td> <td> 7666.850</td>\n",
       "</tr>\n",
       "<tr>\n",
       "  <th>pub_rec</th>                             <td>-1.825e+05</td> <td> 3097.112</td> <td>  -58.936</td> <td> 0.000</td> <td>-1.89e+05</td> <td>-1.76e+05</td>\n",
       "</tr>\n",
       "<tr>\n",
       "  <th>total_rec_int</th>                       <td>-3434.0183</td> <td>  178.114</td> <td>  -19.280</td> <td> 0.000</td> <td>-3783.116</td> <td>-3084.921</td>\n",
       "</tr>\n",
       "<tr>\n",
       "  <th>total_rec_late_fee</th>                  <td>-6477.7429</td> <td> 1815.474</td> <td>   -3.568</td> <td> 0.000</td> <td>   -1e+04</td> <td>-2919.475</td>\n",
       "</tr>\n",
       "<tr>\n",
       "  <th>recoveries</th>                          <td> 2238.1322</td> <td> 1701.401</td> <td>    1.315</td> <td> 0.188</td> <td>-1096.557</td> <td> 5572.822</td>\n",
       "</tr>\n",
       "<tr>\n",
       "  <th>collections_12_mths_ex_med</th>          <td>-3.838e+04</td> <td> 3071.201</td> <td>  -12.496</td> <td> 0.000</td> <td>-4.44e+04</td> <td>-3.24e+04</td>\n",
       "</tr>\n",
       "<tr>\n",
       "  <th>acc_now_delinq</th>                      <td>-2.421e+04</td> <td> 3748.987</td> <td>   -6.458</td> <td> 0.000</td> <td>-3.16e+04</td> <td>-1.69e+04</td>\n",
       "</tr>\n",
       "<tr>\n",
       "  <th>tot_colle_amt</th>                       <td>-8.691e+04</td> <td>  1.9e+04</td> <td>   -4.579</td> <td> 0.000</td> <td>-1.24e+05</td> <td>-4.97e+04</td>\n",
       "</tr>\n",
       "<tr>\n",
       "  <th>tot_curr_bal</th>                        <td> 2.361e+04</td> <td>  142.552</td> <td>  165.611</td> <td> 0.000</td> <td> 2.33e+04</td> <td> 2.39e+04</td>\n",
       "</tr>\n",
       "<tr>\n",
       "  <th>terms_60 months</th>                     <td>-1286.6573</td> <td>   56.049</td> <td>  -22.956</td> <td> 0.000</td> <td>-1396.510</td> <td>-1176.804</td>\n",
       "</tr>\n",
       "<tr>\n",
       "  <th>home_ownership_MORTGAGE</th>             <td>-1.279e+04</td> <td>  239.226</td> <td>  -53.468</td> <td> 0.000</td> <td>-1.33e+04</td> <td>-1.23e+04</td>\n",
       "</tr>\n",
       "<tr>\n",
       "  <th>home_ownership_NONE</th>                 <td>-1.348e+04</td> <td> 2744.369</td> <td>   -4.912</td> <td> 0.000</td> <td>-1.89e+04</td> <td>-8102.687</td>\n",
       "</tr>\n",
       "<tr>\n",
       "  <th>home_ownership_OTHER</th>                <td>-1.028e+04</td> <td> 1453.033</td> <td>   -7.075</td> <td> 0.000</td> <td>-1.31e+04</td> <td>-7432.213</td>\n",
       "</tr>\n",
       "<tr>\n",
       "  <th>home_ownership_OWN</th>                  <td>-9766.5276</td> <td>  244.116</td> <td>  -40.008</td> <td> 0.000</td> <td>-1.02e+04</td> <td>-9288.069</td>\n",
       "</tr>\n",
       "<tr>\n",
       "  <th>home_ownership_RENT</th>                 <td>-1.157e+04</td> <td>  237.202</td> <td>  -48.775</td> <td> 0.000</td> <td> -1.2e+04</td> <td>-1.11e+04</td>\n",
       "</tr>\n",
       "<tr>\n",
       "  <th>verification_status_Source Verified</th> <td>   95.4596</td> <td>   52.480</td> <td>    1.819</td> <td> 0.069</td> <td>   -7.400</td> <td>  198.319</td>\n",
       "</tr>\n",
       "<tr>\n",
       "  <th>verification_status_Verified</th>        <td>  769.5145</td> <td>   55.962</td> <td>   13.751</td> <td> 0.000</td> <td>  659.830</td> <td>  879.199</td>\n",
       "</tr>\n",
       "<tr>\n",
       "  <th>purpose_credit_card</th>                 <td> 2274.7437</td> <td>  210.772</td> <td>   10.792</td> <td> 0.000</td> <td> 1861.638</td> <td> 2687.849</td>\n",
       "</tr>\n",
       "<tr>\n",
       "  <th>purpose_debt_consolidation</th>          <td> -598.2500</td> <td>  208.209</td> <td>   -2.873</td> <td> 0.004</td> <td>-1006.332</td> <td> -190.168</td>\n",
       "</tr>\n",
       "<tr>\n",
       "  <th>purpose_educational</th>                 <td> 3264.0334</td> <td>  962.834</td> <td>    3.390</td> <td> 0.001</td> <td> 1376.911</td> <td> 5151.156</td>\n",
       "</tr>\n",
       "<tr>\n",
       "  <th>purpose_home_improvement</th>            <td>-3069.6487</td> <td>  223.291</td> <td>  -13.747</td> <td> 0.000</td> <td>-3507.292</td> <td>-2632.006</td>\n",
       "</tr>\n",
       "<tr>\n",
       "  <th>purpose_house</th>                       <td>-3172.6682</td> <td>  378.941</td> <td>   -8.372</td> <td> 0.000</td> <td>-3915.379</td> <td>-2429.957</td>\n",
       "</tr>\n",
       "<tr>\n",
       "  <th>purpose_major_purchase</th>              <td>-1878.3912</td> <td>  252.654</td> <td>   -7.435</td> <td> 0.000</td> <td>-2373.585</td> <td>-1383.197</td>\n",
       "</tr>\n",
       "<tr>\n",
       "  <th>purpose_medical</th>                     <td>  106.6772</td> <td>  293.687</td> <td>    0.363</td> <td> 0.716</td> <td> -468.939</td> <td>  682.294</td>\n",
       "</tr>\n",
       "<tr>\n",
       "  <th>purpose_moving</th>                      <td> -145.7436</td> <td>  334.551</td> <td>   -0.436</td> <td> 0.663</td> <td> -801.452</td> <td>  509.965</td>\n",
       "</tr>\n",
       "<tr>\n",
       "  <th>purpose_other</th>                       <td> -148.9635</td> <td>  226.338</td> <td>   -0.658</td> <td> 0.510</td> <td> -592.578</td> <td>  294.651</td>\n",
       "</tr>\n",
       "<tr>\n",
       "  <th>purpose_renewable_energy</th>            <td>  877.1109</td> <td>  832.053</td> <td>    1.054</td> <td> 0.292</td> <td> -753.685</td> <td> 2507.907</td>\n",
       "</tr>\n",
       "<tr>\n",
       "  <th>purpose_small_business</th>              <td> -734.7872</td> <td>  281.067</td> <td>   -2.614</td> <td> 0.009</td> <td>-1285.668</td> <td> -183.906</td>\n",
       "</tr>\n",
       "<tr>\n",
       "  <th>purpose_vacation</th>                    <td> -297.5038</td> <td>  348.605</td> <td>   -0.853</td> <td> 0.393</td> <td> -980.758</td> <td>  385.750</td>\n",
       "</tr>\n",
       "<tr>\n",
       "  <th>purpose_wedding</th>                     <td>-1554.6118</td> <td>  449.467</td> <td>   -3.459</td> <td> 0.001</td> <td>-2435.552</td> <td> -673.671</td>\n",
       "</tr>\n",
       "<tr>\n",
       "  <th>initial_list_status_w</th>               <td> -212.8987</td> <td>   44.481</td> <td>   -4.786</td> <td> 0.000</td> <td> -300.080</td> <td> -125.718</td>\n",
       "</tr>\n",
       "<tr>\n",
       "  <th>application_type_JOINT</th>              <td>-5825.4953</td> <td>  856.620</td> <td>   -6.801</td> <td> 0.000</td> <td>-7504.442</td> <td>-4146.549</td>\n",
       "</tr>\n",
       "</table>\n",
       "<table class=\"simpletable\">\n",
       "<tr>\n",
       "  <th>Omnibus:</th>       <td>1995408.604</td> <th>  Durbin-Watson:     </th>    <td>   1.999</td>    \n",
       "</tr>\n",
       "<tr>\n",
       "  <th>Prob(Omnibus):</th>   <td> 0.000</td>    <th>  Jarque-Bera (JB):  </th> <td>94152832171.283</td>\n",
       "</tr>\n",
       "<tr>\n",
       "  <th>Skew:</th>            <td>20.430</td>    <th>  Prob(JB):          </th>    <td>    0.00</td>    \n",
       "</tr>\n",
       "<tr>\n",
       "  <th>Kurtosis:</th>       <td>1598.237</td>   <th>  Cond. No.          </th>    <td>1.52e+03</td>    \n",
       "</tr>\n",
       "</table><br/><br/>Warnings:<br/>[1] Standard Errors assume that the covariance matrix of the errors is correctly specified.<br/>[2] The condition number is large, 1.52e+03. This might indicate that there are<br/>strong multicollinearity or other numerical problems."
      ],
      "text/plain": [
       "<class 'statsmodels.iolib.summary.Summary'>\n",
       "\"\"\"\n",
       "                                 OLS Regression Results                                \n",
       "=======================================================================================\n",
       "Dep. Variable:        total revol_bal   R-squared (uncentered):                   0.527\n",
       "Model:                            OLS   Adj. R-squared (uncentered):              0.527\n",
       "Method:                 Least Squares   F-statistic:                          2.409e+04\n",
       "Date:                Wed, 18 Aug 2021   Prob (F-statistic):                        0.00\n",
       "Time:                        06:27:24   Log-Likelihood:                     -1.0017e+07\n",
       "No. Observations:              887379   AIC:                                  2.003e+07\n",
       "Df Residuals:                  887338   BIC:                                  2.003e+07\n",
       "Df Model:                          41                                                  \n",
       "Covariance Type:            nonrobust                                                  \n",
       "=======================================================================================================\n",
       "                                          coef    std err          t      P>|t|      [0.025      0.975]\n",
       "-------------------------------------------------------------------------------------------------------\n",
       "loan_amnt                            1.443e+04    140.817    102.503      0.000    1.42e+04    1.47e+04\n",
       "Rate_of_intrst                       -297.9759    156.932     -1.899      0.058    -605.557       9.605\n",
       "Experience                           1373.8613     57.166     24.033      0.000    1261.817    1485.905\n",
       "annual_inc                           2.909e+04    163.382    178.062      0.000    2.88e+04    2.94e+04\n",
       "mths_since_last_delinq              -7797.0069    287.833    -27.089      0.000   -8361.151   -7232.863\n",
       "debt_income_ratio                    2.708e+04    171.250    158.157      0.000    2.67e+04    2.74e+04\n",
       "delinq_2yrs                         -7.304e+04   1070.379    -68.240      0.000   -7.51e+04   -7.09e+04\n",
       "last_week_pay                        6204.4252    219.910     28.213      0.000    5773.409    6635.441\n",
       "inq_last_6mths                      -2170.8703     91.724    -23.667      0.000   -2350.646   -1991.094\n",
       "numb_credit                          7388.8032    141.863     52.084      0.000    7110.756    7666.850\n",
       "pub_rec                             -1.825e+05   3097.112    -58.936      0.000   -1.89e+05   -1.76e+05\n",
       "total_rec_int                       -3434.0183    178.114    -19.280      0.000   -3783.116   -3084.921\n",
       "total_rec_late_fee                  -6477.7429   1815.474     -3.568      0.000      -1e+04   -2919.475\n",
       "recoveries                           2238.1322   1701.401      1.315      0.188   -1096.557    5572.822\n",
       "collections_12_mths_ex_med          -3.838e+04   3071.201    -12.496      0.000   -4.44e+04   -3.24e+04\n",
       "acc_now_delinq                      -2.421e+04   3748.987     -6.458      0.000   -3.16e+04   -1.69e+04\n",
       "tot_colle_amt                       -8.691e+04    1.9e+04     -4.579      0.000   -1.24e+05   -4.97e+04\n",
       "tot_curr_bal                         2.361e+04    142.552    165.611      0.000    2.33e+04    2.39e+04\n",
       "terms_60 months                     -1286.6573     56.049    -22.956      0.000   -1396.510   -1176.804\n",
       "home_ownership_MORTGAGE             -1.279e+04    239.226    -53.468      0.000   -1.33e+04   -1.23e+04\n",
       "home_ownership_NONE                 -1.348e+04   2744.369     -4.912      0.000   -1.89e+04   -8102.687\n",
       "home_ownership_OTHER                -1.028e+04   1453.033     -7.075      0.000   -1.31e+04   -7432.213\n",
       "home_ownership_OWN                  -9766.5276    244.116    -40.008      0.000   -1.02e+04   -9288.069\n",
       "home_ownership_RENT                 -1.157e+04    237.202    -48.775      0.000    -1.2e+04   -1.11e+04\n",
       "verification_status_Source Verified    95.4596     52.480      1.819      0.069      -7.400     198.319\n",
       "verification_status_Verified          769.5145     55.962     13.751      0.000     659.830     879.199\n",
       "purpose_credit_card                  2274.7437    210.772     10.792      0.000    1861.638    2687.849\n",
       "purpose_debt_consolidation           -598.2500    208.209     -2.873      0.004   -1006.332    -190.168\n",
       "purpose_educational                  3264.0334    962.834      3.390      0.001    1376.911    5151.156\n",
       "purpose_home_improvement            -3069.6487    223.291    -13.747      0.000   -3507.292   -2632.006\n",
       "purpose_house                       -3172.6682    378.941     -8.372      0.000   -3915.379   -2429.957\n",
       "purpose_major_purchase              -1878.3912    252.654     -7.435      0.000   -2373.585   -1383.197\n",
       "purpose_medical                       106.6772    293.687      0.363      0.716    -468.939     682.294\n",
       "purpose_moving                       -145.7436    334.551     -0.436      0.663    -801.452     509.965\n",
       "purpose_other                        -148.9635    226.338     -0.658      0.510    -592.578     294.651\n",
       "purpose_renewable_energy              877.1109    832.053      1.054      0.292    -753.685    2507.907\n",
       "purpose_small_business               -734.7872    281.067     -2.614      0.009   -1285.668    -183.906\n",
       "purpose_vacation                     -297.5038    348.605     -0.853      0.393    -980.758     385.750\n",
       "purpose_wedding                     -1554.6118    449.467     -3.459      0.001   -2435.552    -673.671\n",
       "initial_list_status_w                -212.8987     44.481     -4.786      0.000    -300.080    -125.718\n",
       "application_type_JOINT              -5825.4953    856.620     -6.801      0.000   -7504.442   -4146.549\n",
       "==============================================================================\n",
       "Omnibus:                  1995408.604   Durbin-Watson:                   1.999\n",
       "Prob(Omnibus):                  0.000   Jarque-Bera (JB):      94152832171.283\n",
       "Skew:                          20.430   Prob(JB):                         0.00\n",
       "Kurtosis:                    1598.237   Cond. No.                     1.52e+03\n",
       "==============================================================================\n",
       "\n",
       "Warnings:\n",
       "[1] Standard Errors assume that the covariance matrix of the errors is correctly specified.\n",
       "[2] The condition number is large, 1.52e+03. This might indicate that there are\n",
       "strong multicollinearity or other numerical problems.\n",
       "\"\"\""
      ]
     },
     "execution_count": 44,
     "metadata": {
      "tags": []
     },
     "output_type": "execute_result"
    }
   ],
   "source": [
    "est.summary()"
   ]
  },
  {
   "cell_type": "markdown",
   "metadata": {
    "id": "DyTTmdCRy5t3"
   },
   "source": [
    "#### recoveries, verification_status_Source Verified, purpose_medical,purpose_other, purpose_renewable_energy,purpose_moving,purpose_vacation have p_values more than 0.05, hence they are insignificant"
   ]
  },
  {
   "cell_type": "markdown",
   "metadata": {
    "id": "TXE5LPz0y5t3"
   },
   "source": [
    "### Backward Elimination"
   ]
  },
  {
   "cell_type": "code",
   "execution_count": 19,
   "metadata": {
    "executionInfo": {
     "elapsed": 45800,
     "status": "ok",
     "timestamp": 1629267785864,
     "user": {
      "displayName": "SUMIT YENUGWAR",
      "photoUrl": "https://lh3.googleusercontent.com/a-/AOh14GgWF_AXb3JKzRG4HcMuK2aUrD6NWk93uKBqZpZdvQ=s64",
      "userId": "05792510571347937678"
     },
     "user_tz": -330
    },
    "id": "un7Jqahyy5t3"
   },
   "outputs": [],
   "source": [
    "cols = list(X.columns)\n",
    "pmax = 1\n",
    "while (len(cols)>0):\n",
    "    p= []\n",
    "    X_1 = X[cols]\n",
    "    X_1 = sm.add_constant(X_1)\n",
    "    model = sm.OLS(y,X_1).fit()\n",
    "    p = pd.Series(model.pvalues.values[1:],index = cols)      \n",
    "    pmax = max(p)\n",
    "    feature_with_p_max = p.idxmax()\n",
    "    if(pmax>0.05):\n",
    "        cols.remove(feature_with_p_max)\n",
    "    else:\n",
    "        break\n",
    "selected_features_BE = cols"
   ]
  },
  {
   "cell_type": "code",
   "execution_count": 20,
   "metadata": {
    "colab": {
     "base_uri": "https://localhost:8080/"
    },
    "executionInfo": {
     "elapsed": 22,
     "status": "ok",
     "timestamp": 1629267785865,
     "user": {
      "displayName": "SUMIT YENUGWAR",
      "photoUrl": "https://lh3.googleusercontent.com/a-/AOh14GgWF_AXb3JKzRG4HcMuK2aUrD6NWk93uKBqZpZdvQ=s64",
      "userId": "05792510571347937678"
     },
     "user_tz": -330
    },
    "id": "Ndi1Mf4ay5t4",
    "outputId": "5307ab23-b5ba-41db-8cd4-7cec8d27a808"
   },
   "outputs": [
    {
     "name": "stdout",
     "output_type": "stream",
     "text": [
      "['loan_amnt ', 'Experience', 'annual_inc', 'mths_since_last_delinq', 'debt_income_ratio', 'delinq_2yrs', 'last_week_pay', 'inq_last_6mths', 'numb_credit', 'pub_rec', 'total_rec_int', 'total_rec_late_fee', 'collections_12_mths_ex_med', 'acc_now_delinq', 'tot_colle_amt', 'tot_curr_bal', 'terms_60 months', 'home_ownership_OWN', 'home_ownership_RENT', 'verification_status_Verified', 'purpose_credit_card', 'purpose_debt_consolidation', 'purpose_educational', 'purpose_home_improvement', 'purpose_house', 'purpose_major_purchase', 'purpose_small_business', 'purpose_wedding', 'initial_list_status_w', 'application_type_JOINT']\n"
     ]
    }
   ],
   "source": [
    "print(selected_features_BE)"
   ]
  },
  {
   "cell_type": "code",
   "execution_count": 21,
   "metadata": {
    "colab": {
     "base_uri": "https://localhost:8080/"
    },
    "executionInfo": {
     "elapsed": 590,
     "status": "ok",
     "timestamp": 1629267786441,
     "user": {
      "displayName": "SUMIT YENUGWAR",
      "photoUrl": "https://lh3.googleusercontent.com/a-/AOh14GgWF_AXb3JKzRG4HcMuK2aUrD6NWk93uKBqZpZdvQ=s64",
      "userId": "05792510571347937678"
     },
     "user_tz": -330
    },
    "id": "O_43cp3wy5t4",
    "outputId": "4d33c49f-184f-49cc-c69e-3541eacb5820"
   },
   "outputs": [
    {
     "data": {
      "text/plain": [
       "30"
      ]
     },
     "execution_count": 21,
     "metadata": {
      "tags": []
     },
     "output_type": "execute_result"
    }
   ],
   "source": [
    "len(selected_features_BE)"
   ]
  },
  {
   "cell_type": "markdown",
   "metadata": {
    "id": "FLbB-I8ty5t4"
   },
   "source": [
    "### Lasso regression"
   ]
  },
  {
   "cell_type": "code",
   "execution_count": 32,
   "metadata": {
    "executionInfo": {
     "elapsed": 318,
     "status": "ok",
     "timestamp": 1629267843622,
     "user": {
      "displayName": "SUMIT YENUGWAR",
      "photoUrl": "https://lh3.googleusercontent.com/a-/AOh14GgWF_AXb3JKzRG4HcMuK2aUrD6NWk93uKBqZpZdvQ=s64",
      "userId": "05792510571347937678"
     },
     "user_tz": -330
    },
    "id": "FHfSCodhy5t4"
   },
   "outputs": [],
   "source": [
    "from sklearn.linear_model import Lasso\n",
    "from sklearn.feature_selection import SelectFromModel"
   ]
  },
  {
   "cell_type": "code",
   "execution_count": 33,
   "metadata": {
    "colab": {
     "base_uri": "https://localhost:8080/"
    },
    "executionInfo": {
     "elapsed": 10971,
     "status": "ok",
     "timestamp": 1629267854931,
     "user": {
      "displayName": "SUMIT YENUGWAR",
      "photoUrl": "https://lh3.googleusercontent.com/a-/AOh14GgWF_AXb3JKzRG4HcMuK2aUrD6NWk93uKBqZpZdvQ=s64",
      "userId": "05792510571347937678"
     },
     "user_tz": -330
    },
    "id": "E49PUHxvy5t4",
    "outputId": "228ae86c-7730-41fc-d450-7759d7769254"
   },
   "outputs": [
    {
     "data": {
      "text/plain": [
       "SelectFromModel(estimator=Lasso(alpha=1, copy_X=True, fit_intercept=True,\n",
       "                                max_iter=1000, normalize=False, positive=False,\n",
       "                                precompute=False, random_state=0,\n",
       "                                selection='cyclic', tol=0.0001,\n",
       "                                warm_start=False),\n",
       "                max_features=None, norm_order=1, prefit=False, threshold=None)"
      ]
     },
     "execution_count": 33,
     "metadata": {
      "tags": []
     },
     "output_type": "execute_result"
    }
   ],
   "source": [
    "feature_sel_model = SelectFromModel(Lasso(alpha=1, random_state=0)) \n",
    "feature_sel_model.fit(X,y)"
   ]
  },
  {
   "cell_type": "code",
   "execution_count": 34,
   "metadata": {
    "executionInfo": {
     "elapsed": 49,
     "status": "ok",
     "timestamp": 1629267854933,
     "user": {
      "displayName": "SUMIT YENUGWAR",
      "photoUrl": "https://lh3.googleusercontent.com/a-/AOh14GgWF_AXb3JKzRG4HcMuK2aUrD6NWk93uKBqZpZdvQ=s64",
      "userId": "05792510571347937678"
     },
     "user_tz": -330
    },
    "id": "yYUQRgk2y5t4"
   },
   "outputs": [],
   "source": [
    "selected_feat = X.columns[(feature_sel_model.get_support())]"
   ]
  },
  {
   "cell_type": "code",
   "execution_count": 55,
   "metadata": {
    "colab": {
     "base_uri": "https://localhost:8080/"
    },
    "executionInfo": {
     "elapsed": 337,
     "status": "ok",
     "timestamp": 1629281343126,
     "user": {
      "displayName": "SUMIT YENUGWAR",
      "photoUrl": "https://lh3.googleusercontent.com/a-/AOh14GgWF_AXb3JKzRG4HcMuK2aUrD6NWk93uKBqZpZdvQ=s64",
      "userId": "05792510571347937678"
     },
     "user_tz": -330
    },
    "id": "OTw1-tAOy5t5",
    "outputId": "56de5c4b-2aa9-42b4-98eb-bcdfbaf82ba0"
   },
   "outputs": [
    {
     "name": "stdout",
     "output_type": "stream",
     "text": [
      "total features: 41\n",
      "selected features: 31\n",
      "features with coefficients shrank to zero: 10\n"
     ]
    }
   ],
   "source": [
    "print('total features: {}'.format((X.shape[1])))\n",
    "print('selected features: {}'.format(len(selected_feat)))\n",
    "print('features with coefficients shrank to zero: {}'.format(\n",
    "    np.sum(feature_sel_model.estimator_.coef_ == 0)))"
   ]
  },
  {
   "cell_type": "code",
   "execution_count": 36,
   "metadata": {
    "colab": {
     "base_uri": "https://localhost:8080/"
    },
    "executionInfo": {
     "elapsed": 46,
     "status": "ok",
     "timestamp": 1629267854935,
     "user": {
      "displayName": "SUMIT YENUGWAR",
      "photoUrl": "https://lh3.googleusercontent.com/a-/AOh14GgWF_AXb3JKzRG4HcMuK2aUrD6NWk93uKBqZpZdvQ=s64",
      "userId": "05792510571347937678"
     },
     "user_tz": -330
    },
    "id": "y5Fk4Yxly5t5",
    "outputId": "d6681679-a400-41bf-b3cf-65260e0ff8c8"
   },
   "outputs": [
    {
     "data": {
      "text/plain": [
       "Index(['loan_amnt ', 'Rate_of_intrst', 'Experience', 'annual_inc',\n",
       "       'mths_since_last_delinq', 'debt_income_ratio', 'delinq_2yrs',\n",
       "       'last_week_pay', 'inq_last_6mths', 'numb_credit', 'pub_rec',\n",
       "       'total_rec_int', 'collections_12_mths_ex_med', 'tot_curr_bal',\n",
       "       'terms_60 months', 'home_ownership_MORTGAGE', 'home_ownership_OWN',\n",
       "       'verification_status_Source Verified', 'verification_status_Verified',\n",
       "       'purpose_credit_card', 'purpose_debt_consolidation',\n",
       "       'purpose_educational', 'purpose_home_improvement', 'purpose_house',\n",
       "       'purpose_major_purchase', 'purpose_medical', 'purpose_other',\n",
       "       'purpose_small_business', 'purpose_wedding', 'initial_list_status_w',\n",
       "       'application_type_JOINT'],\n",
       "      dtype='object')"
      ]
     },
     "execution_count": 36,
     "metadata": {
      "tags": []
     },
     "output_type": "execute_result"
    }
   ],
   "source": [
    "selected_feat"
   ]
  },
  {
   "cell_type": "code",
   "execution_count": 37,
   "metadata": {
    "executionInfo": {
     "elapsed": 43,
     "status": "ok",
     "timestamp": 1629267854936,
     "user": {
      "displayName": "SUMIT YENUGWAR",
      "photoUrl": "https://lh3.googleusercontent.com/a-/AOh14GgWF_AXb3JKzRG4HcMuK2aUrD6NWk93uKBqZpZdvQ=s64",
      "userId": "05792510571347937678"
     },
     "user_tz": -330
    },
    "id": "_-v70p48y5t5"
   },
   "outputs": [],
   "source": [
    "# Columns which can be dropped"
   ]
  },
  {
   "cell_type": "code",
   "execution_count": 38,
   "metadata": {
    "colab": {
     "base_uri": "https://localhost:8080/"
    },
    "executionInfo": {
     "elapsed": 43,
     "status": "ok",
     "timestamp": 1629267854937,
     "user": {
      "displayName": "SUMIT YENUGWAR",
      "photoUrl": "https://lh3.googleusercontent.com/a-/AOh14GgWF_AXb3JKzRG4HcMuK2aUrD6NWk93uKBqZpZdvQ=s64",
      "userId": "05792510571347937678"
     },
     "user_tz": -330
    },
    "id": "mc6eeAWEy5t5",
    "outputId": "c48306e7-3e0d-4166-8d3c-48fb938932c7"
   },
   "outputs": [
    {
     "data": {
      "text/plain": [
       "Index(['total_rec_late_fee', 'recoveries', 'acc_now_delinq', 'tot_colle_amt',\n",
       "       'home_ownership_NONE', 'home_ownership_OTHER', 'home_ownership_RENT',\n",
       "       'purpose_moving', 'purpose_renewable_energy', 'purpose_vacation'],\n",
       "      dtype='object')"
      ]
     },
     "execution_count": 38,
     "metadata": {
      "tags": []
     },
     "output_type": "execute_result"
    }
   ],
   "source": [
    "X.columns[feature_sel_model.estimator_.coef_ == 0]"
   ]
  },
  {
   "cell_type": "markdown",
   "metadata": {
    "id": "9X-423i_y5t6"
   },
   "source": [
    "#### From all the feature selection techniques it is difficult to tell which feature to be eliminated"
   ]
  },
  {
   "cell_type": "code",
   "execution_count": 45,
   "metadata": {
    "executionInfo": {
     "elapsed": 355,
     "status": "ok",
     "timestamp": 1629274939877,
     "user": {
      "displayName": "SUMIT YENUGWAR",
      "photoUrl": "https://lh3.googleusercontent.com/a-/AOh14GgWF_AXb3JKzRG4HcMuK2aUrD6NWk93uKBqZpZdvQ=s64",
      "userId": "05792510571347937678"
     },
     "user_tz": -330
    },
    "id": "8GpyQQYdy5t6"
   },
   "outputs": [],
   "source": [
    "final_df= scaled_data"
   ]
  },
  {
   "cell_type": "code",
   "execution_count": 46,
   "metadata": {
    "colab": {
     "base_uri": "https://localhost:8080/",
     "height": 241
    },
    "executionInfo": {
     "elapsed": 17,
     "status": "ok",
     "timestamp": 1629274940501,
     "user": {
      "displayName": "SUMIT YENUGWAR",
      "photoUrl": "https://lh3.googleusercontent.com/a-/AOh14GgWF_AXb3JKzRG4HcMuK2aUrD6NWk93uKBqZpZdvQ=s64",
      "userId": "05792510571347937678"
     },
     "user_tz": -330
    },
    "id": "YFXviHx-y5t6",
    "outputId": "e562013a-dbe7-48d9-c6b8-de32ee3bba09"
   },
   "outputs": [
    {
     "data": {
      "text/html": [
       "<div>\n",
       "<style scoped>\n",
       "    .dataframe tbody tr th:only-of-type {\n",
       "        vertical-align: middle;\n",
       "    }\n",
       "\n",
       "    .dataframe tbody tr th {\n",
       "        vertical-align: top;\n",
       "    }\n",
       "\n",
       "    .dataframe thead th {\n",
       "        text-align: right;\n",
       "    }\n",
       "</style>\n",
       "<table border=\"1\" class=\"dataframe\">\n",
       "  <thead>\n",
       "    <tr style=\"text-align: right;\">\n",
       "      <th></th>\n",
       "      <th>loan_amnt</th>\n",
       "      <th>Rate_of_intrst</th>\n",
       "      <th>Experience</th>\n",
       "      <th>annual_inc</th>\n",
       "      <th>mths_since_last_delinq</th>\n",
       "      <th>debt_income_ratio</th>\n",
       "      <th>delinq_2yrs</th>\n",
       "      <th>last_week_pay</th>\n",
       "      <th>inq_last_6mths</th>\n",
       "      <th>numb_credit</th>\n",
       "      <th>pub_rec</th>\n",
       "      <th>total_rec_int</th>\n",
       "      <th>total_rec_late_fee</th>\n",
       "      <th>recoveries</th>\n",
       "      <th>collections_12_mths_ex_med</th>\n",
       "      <th>acc_now_delinq</th>\n",
       "      <th>tot_colle_amt</th>\n",
       "      <th>tot_curr_bal</th>\n",
       "      <th>terms_60 months</th>\n",
       "      <th>home_ownership_MORTGAGE</th>\n",
       "      <th>home_ownership_NONE</th>\n",
       "      <th>home_ownership_OTHER</th>\n",
       "      <th>home_ownership_OWN</th>\n",
       "      <th>home_ownership_RENT</th>\n",
       "      <th>verification_status_Source Verified</th>\n",
       "      <th>verification_status_Verified</th>\n",
       "      <th>purpose_credit_card</th>\n",
       "      <th>purpose_debt_consolidation</th>\n",
       "      <th>purpose_educational</th>\n",
       "      <th>purpose_home_improvement</th>\n",
       "      <th>purpose_house</th>\n",
       "      <th>purpose_major_purchase</th>\n",
       "      <th>purpose_medical</th>\n",
       "      <th>purpose_moving</th>\n",
       "      <th>purpose_other</th>\n",
       "      <th>purpose_renewable_energy</th>\n",
       "      <th>purpose_small_business</th>\n",
       "      <th>purpose_vacation</th>\n",
       "      <th>purpose_wedding</th>\n",
       "      <th>initial_list_status_w</th>\n",
       "      <th>application_type_JOINT</th>\n",
       "      <th>total revol_bal</th>\n",
       "    </tr>\n",
       "  </thead>\n",
       "  <tbody>\n",
       "    <tr>\n",
       "      <th>0</th>\n",
       "      <td>0.401449</td>\n",
       "      <td>0.585974</td>\n",
       "      <td>0.9</td>\n",
       "      <td>0.127556</td>\n",
       "      <td>0.265957</td>\n",
       "      <td>0.564009</td>\n",
       "      <td>0.0</td>\n",
       "      <td>0.085526</td>\n",
       "      <td>0.25</td>\n",
       "      <td>0.43750</td>\n",
       "      <td>0.011628</td>\n",
       "      <td>0.153872</td>\n",
       "      <td>0.0</td>\n",
       "      <td>0.0</td>\n",
       "      <td>0.0</td>\n",
       "      <td>0.0</td>\n",
       "      <td>0.000000</td>\n",
       "      <td>0.041809</td>\n",
       "      <td>0.0</td>\n",
       "      <td>0.0</td>\n",
       "      <td>0.0</td>\n",
       "      <td>0.0</td>\n",
       "      <td>1.0</td>\n",
       "      <td>0.0</td>\n",
       "      <td>1.0</td>\n",
       "      <td>0.0</td>\n",
       "      <td>0.0</td>\n",
       "      <td>1.0</td>\n",
       "      <td>0.0</td>\n",
       "      <td>0.0</td>\n",
       "      <td>0.0</td>\n",
       "      <td>0.0</td>\n",
       "      <td>0.0</td>\n",
       "      <td>0.0</td>\n",
       "      <td>0.0</td>\n",
       "      <td>0.0</td>\n",
       "      <td>0.0</td>\n",
       "      <td>0.0</td>\n",
       "      <td>0.0</td>\n",
       "      <td>0.0</td>\n",
       "      <td>0.0</td>\n",
       "      <td>22515.0</td>\n",
       "    </tr>\n",
       "    <tr>\n",
       "      <th>1</th>\n",
       "      <td>0.124638</td>\n",
       "      <td>0.239544</td>\n",
       "      <td>0.1</td>\n",
       "      <td>0.288889</td>\n",
       "      <td>0.164894</td>\n",
       "      <td>0.060596</td>\n",
       "      <td>0.0</td>\n",
       "      <td>0.029605</td>\n",
       "      <td>0.25</td>\n",
       "      <td>0.18750</td>\n",
       "      <td>0.000000</td>\n",
       "      <td>0.011005</td>\n",
       "      <td>0.0</td>\n",
       "      <td>0.0</td>\n",
       "      <td>0.0</td>\n",
       "      <td>0.0</td>\n",
       "      <td>0.000000</td>\n",
       "      <td>0.014530</td>\n",
       "      <td>0.0</td>\n",
       "      <td>1.0</td>\n",
       "      <td>0.0</td>\n",
       "      <td>0.0</td>\n",
       "      <td>0.0</td>\n",
       "      <td>0.0</td>\n",
       "      <td>1.0</td>\n",
       "      <td>0.0</td>\n",
       "      <td>0.0</td>\n",
       "      <td>0.0</td>\n",
       "      <td>0.0</td>\n",
       "      <td>1.0</td>\n",
       "      <td>0.0</td>\n",
       "      <td>0.0</td>\n",
       "      <td>0.0</td>\n",
       "      <td>0.0</td>\n",
       "      <td>0.0</td>\n",
       "      <td>0.0</td>\n",
       "      <td>0.0</td>\n",
       "      <td>0.0</td>\n",
       "      <td>0.0</td>\n",
       "      <td>1.0</td>\n",
       "      <td>0.0</td>\n",
       "      <td>7624.0</td>\n",
       "    </tr>\n",
       "    <tr>\n",
       "      <th>2</th>\n",
       "      <td>0.275362</td>\n",
       "      <td>0.081960</td>\n",
       "      <td>0.2</td>\n",
       "      <td>0.200000</td>\n",
       "      <td>0.164894</td>\n",
       "      <td>0.306642</td>\n",
       "      <td>0.0</td>\n",
       "      <td>0.029605</td>\n",
       "      <td>0.00</td>\n",
       "      <td>0.15625</td>\n",
       "      <td>0.000000</td>\n",
       "      <td>0.007402</td>\n",
       "      <td>0.0</td>\n",
       "      <td>0.0</td>\n",
       "      <td>0.0</td>\n",
       "      <td>0.0</td>\n",
       "      <td>0.000007</td>\n",
       "      <td>0.055788</td>\n",
       "      <td>0.0</td>\n",
       "      <td>0.0</td>\n",
       "      <td>0.0</td>\n",
       "      <td>0.0</td>\n",
       "      <td>1.0</td>\n",
       "      <td>0.0</td>\n",
       "      <td>0.0</td>\n",
       "      <td>0.0</td>\n",
       "      <td>0.0</td>\n",
       "      <td>1.0</td>\n",
       "      <td>0.0</td>\n",
       "      <td>0.0</td>\n",
       "      <td>0.0</td>\n",
       "      <td>0.0</td>\n",
       "      <td>0.0</td>\n",
       "      <td>0.0</td>\n",
       "      <td>0.0</td>\n",
       "      <td>0.0</td>\n",
       "      <td>0.0</td>\n",
       "      <td>0.0</td>\n",
       "      <td>0.0</td>\n",
       "      <td>1.0</td>\n",
       "      <td>0.0</td>\n",
       "      <td>10877.0</td>\n",
       "    </tr>\n",
       "    <tr>\n",
       "      <th>3</th>\n",
       "      <td>0.420290</td>\n",
       "      <td>0.608365</td>\n",
       "      <td>1.0</td>\n",
       "      <td>0.466667</td>\n",
       "      <td>0.244681</td>\n",
       "      <td>0.249209</td>\n",
       "      <td>0.0</td>\n",
       "      <td>0.444079</td>\n",
       "      <td>0.50</td>\n",
       "      <td>0.31250</td>\n",
       "      <td>0.000000</td>\n",
       "      <td>0.636889</td>\n",
       "      <td>0.0</td>\n",
       "      <td>0.0</td>\n",
       "      <td>0.0</td>\n",
       "      <td>0.0</td>\n",
       "      <td>0.000000</td>\n",
       "      <td>0.080945</td>\n",
       "      <td>0.0</td>\n",
       "      <td>0.0</td>\n",
       "      <td>0.0</td>\n",
       "      <td>0.0</td>\n",
       "      <td>0.0</td>\n",
       "      <td>1.0</td>\n",
       "      <td>0.0</td>\n",
       "      <td>0.0</td>\n",
       "      <td>0.0</td>\n",
       "      <td>1.0</td>\n",
       "      <td>0.0</td>\n",
       "      <td>0.0</td>\n",
       "      <td>0.0</td>\n",
       "      <td>0.0</td>\n",
       "      <td>0.0</td>\n",
       "      <td>0.0</td>\n",
       "      <td>0.0</td>\n",
       "      <td>0.0</td>\n",
       "      <td>0.0</td>\n",
       "      <td>0.0</td>\n",
       "      <td>0.0</td>\n",
       "      <td>0.0</td>\n",
       "      <td>0.0</td>\n",
       "      <td>13712.0</td>\n",
       "    </tr>\n",
       "    <tr>\n",
       "      <th>4</th>\n",
       "      <td>0.449275</td>\n",
       "      <td>0.224757</td>\n",
       "      <td>1.0</td>\n",
       "      <td>0.231111</td>\n",
       "      <td>0.164894</td>\n",
       "      <td>0.335608</td>\n",
       "      <td>0.0</td>\n",
       "      <td>0.315789</td>\n",
       "      <td>0.00</td>\n",
       "      <td>0.34375</td>\n",
       "      <td>0.000000</td>\n",
       "      <td>0.301023</td>\n",
       "      <td>0.0</td>\n",
       "      <td>0.0</td>\n",
       "      <td>0.0</td>\n",
       "      <td>0.0</td>\n",
       "      <td>0.000000</td>\n",
       "      <td>0.068701</td>\n",
       "      <td>0.0</td>\n",
       "      <td>0.0</td>\n",
       "      <td>0.0</td>\n",
       "      <td>0.0</td>\n",
       "      <td>0.0</td>\n",
       "      <td>1.0</td>\n",
       "      <td>0.0</td>\n",
       "      <td>1.0</td>\n",
       "      <td>1.0</td>\n",
       "      <td>0.0</td>\n",
       "      <td>0.0</td>\n",
       "      <td>0.0</td>\n",
       "      <td>0.0</td>\n",
       "      <td>0.0</td>\n",
       "      <td>0.0</td>\n",
       "      <td>0.0</td>\n",
       "      <td>0.0</td>\n",
       "      <td>0.0</td>\n",
       "      <td>0.0</td>\n",
       "      <td>0.0</td>\n",
       "      <td>0.0</td>\n",
       "      <td>1.0</td>\n",
       "      <td>0.0</td>\n",
       "      <td>35835.0</td>\n",
       "    </tr>\n",
       "  </tbody>\n",
       "</table>\n",
       "</div>"
      ],
      "text/plain": [
       "   loan_amnt   Rate_of_intrst  ...  application_type_JOINT  total revol_bal\n",
       "0    0.401449        0.585974  ...                     0.0          22515.0\n",
       "1    0.124638        0.239544  ...                     0.0           7624.0\n",
       "2    0.275362        0.081960  ...                     0.0          10877.0\n",
       "3    0.420290        0.608365  ...                     0.0          13712.0\n",
       "4    0.449275        0.224757  ...                     0.0          35835.0\n",
       "\n",
       "[5 rows x 42 columns]"
      ]
     },
     "execution_count": 46,
     "metadata": {
      "tags": []
     },
     "output_type": "execute_result"
    }
   ],
   "source": [
    "final_df.head()"
   ]
  },
  {
   "cell_type": "code",
   "execution_count": 47,
   "metadata": {
    "colab": {
     "base_uri": "https://localhost:8080/"
    },
    "executionInfo": {
     "elapsed": 15,
     "status": "ok",
     "timestamp": 1629274940502,
     "user": {
      "displayName": "SUMIT YENUGWAR",
      "photoUrl": "https://lh3.googleusercontent.com/a-/AOh14GgWF_AXb3JKzRG4HcMuK2aUrD6NWk93uKBqZpZdvQ=s64",
      "userId": "05792510571347937678"
     },
     "user_tz": -330
    },
    "id": "bPUOytM3y5t6",
    "outputId": "fbe38e8a-e455-4a02-e083-6e036ebe18d7"
   },
   "outputs": [
    {
     "data": {
      "text/plain": [
       "(887379, 42)"
      ]
     },
     "execution_count": 47,
     "metadata": {
      "tags": []
     },
     "output_type": "execute_result"
    }
   ],
   "source": [
    "final_df.shape"
   ]
  },
  {
   "cell_type": "markdown",
   "metadata": {
    "id": "mFt1xJ_by5t6"
   },
   "source": [
    "### Using Random Forest regressor to find important features"
   ]
  },
  {
   "cell_type": "code",
   "execution_count": 48,
   "metadata": {
    "executionInfo": {
     "elapsed": 391,
     "status": "ok",
     "timestamp": 1629274960921,
     "user": {
      "displayName": "SUMIT YENUGWAR",
      "photoUrl": "https://lh3.googleusercontent.com/a-/AOh14GgWF_AXb3JKzRG4HcMuK2aUrD6NWk93uKBqZpZdvQ=s64",
      "userId": "05792510571347937678"
     },
     "user_tz": -330
    },
    "id": "DGVL2Mx4y5t6"
   },
   "outputs": [],
   "source": [
    "from sklearn.ensemble import RandomForestRegressor "
   ]
  },
  {
   "cell_type": "code",
   "execution_count": 49,
   "metadata": {
    "executionInfo": {
     "elapsed": 548,
     "status": "ok",
     "timestamp": 1629274962720,
     "user": {
      "displayName": "SUMIT YENUGWAR",
      "photoUrl": "https://lh3.googleusercontent.com/a-/AOh14GgWF_AXb3JKzRG4HcMuK2aUrD6NWk93uKBqZpZdvQ=s64",
      "userId": "05792510571347937678"
     },
     "user_tz": -330
    },
    "id": "YQXJ_O9Ay5t7"
   },
   "outputs": [],
   "source": [
    "regressor = RandomForestRegressor(n_estimators = 10, random_state = 0) "
   ]
  },
  {
   "cell_type": "code",
   "execution_count": 50,
   "metadata": {
    "colab": {
     "base_uri": "https://localhost:8080/"
    },
    "executionInfo": {
     "elapsed": 193531,
     "status": "ok",
     "timestamp": 1629275156698,
     "user": {
      "displayName": "SUMIT YENUGWAR",
      "photoUrl": "https://lh3.googleusercontent.com/a-/AOh14GgWF_AXb3JKzRG4HcMuK2aUrD6NWk93uKBqZpZdvQ=s64",
      "userId": "05792510571347937678"
     },
     "user_tz": -330
    },
    "id": "XnkC0zzry5t7",
    "outputId": "91b785ae-543d-44c7-8b83-436f5d3cc015"
   },
   "outputs": [
    {
     "data": {
      "text/plain": [
       "RandomForestRegressor(bootstrap=True, ccp_alpha=0.0, criterion='mse',\n",
       "                      max_depth=None, max_features='auto', max_leaf_nodes=None,\n",
       "                      max_samples=None, min_impurity_decrease=0.0,\n",
       "                      min_impurity_split=None, min_samples_leaf=1,\n",
       "                      min_samples_split=2, min_weight_fraction_leaf=0.0,\n",
       "                      n_estimators=10, n_jobs=None, oob_score=False,\n",
       "                      random_state=0, verbose=0, warm_start=False)"
      ]
     },
     "execution_count": 50,
     "metadata": {
      "tags": []
     },
     "output_type": "execute_result"
    }
   ],
   "source": [
    "regressor.fit(X, y) "
   ]
  },
  {
   "cell_type": "code",
   "execution_count": 51,
   "metadata": {
    "executionInfo": {
     "elapsed": 626,
     "status": "ok",
     "timestamp": 1629275158580,
     "user": {
      "displayName": "SUMIT YENUGWAR",
      "photoUrl": "https://lh3.googleusercontent.com/a-/AOh14GgWF_AXb3JKzRG4HcMuK2aUrD6NWk93uKBqZpZdvQ=s64",
      "userId": "05792510571347937678"
     },
     "user_tz": -330
    },
    "id": "6uEZQOICy5t7"
   },
   "outputs": [],
   "source": [
    "# Get numerical feature importances\n",
    "importances = list(regressor.feature_importances_)"
   ]
  },
  {
   "cell_type": "code",
   "execution_count": 52,
   "metadata": {
    "executionInfo": {
     "elapsed": 9,
     "status": "ok",
     "timestamp": 1629275158581,
     "user": {
      "displayName": "SUMIT YENUGWAR",
      "photoUrl": "https://lh3.googleusercontent.com/a-/AOh14GgWF_AXb3JKzRG4HcMuK2aUrD6NWk93uKBqZpZdvQ=s64",
      "userId": "05792510571347937678"
     },
     "user_tz": -330
    },
    "id": "bvQfyJicy5t7"
   },
   "outputs": [],
   "source": [
    "feature_importances = [(feature, round(importance, 2)) for feature, importance in zip(X, importances)]"
   ]
  },
  {
   "cell_type": "code",
   "execution_count": 53,
   "metadata": {
    "executionInfo": {
     "elapsed": 9,
     "status": "ok",
     "timestamp": 1629275158582,
     "user": {
      "displayName": "SUMIT YENUGWAR",
      "photoUrl": "https://lh3.googleusercontent.com/a-/AOh14GgWF_AXb3JKzRG4HcMuK2aUrD6NWk93uKBqZpZdvQ=s64",
      "userId": "05792510571347937678"
     },
     "user_tz": -330
    },
    "id": "voLx1Ll2y5t7"
   },
   "outputs": [],
   "source": [
    "feature_importances = sorted(feature_importances, key = lambda x: x[1], reverse = True)"
   ]
  },
  {
   "cell_type": "code",
   "execution_count": 54,
   "metadata": {
    "colab": {
     "base_uri": "https://localhost:8080/"
    },
    "executionInfo": {
     "elapsed": 10,
     "status": "ok",
     "timestamp": 1629275158583,
     "user": {
      "displayName": "SUMIT YENUGWAR",
      "photoUrl": "https://lh3.googleusercontent.com/a-/AOh14GgWF_AXb3JKzRG4HcMuK2aUrD6NWk93uKBqZpZdvQ=s64",
      "userId": "05792510571347937678"
     },
     "user_tz": -330
    },
    "id": "gzAvc0M5y5t7",
    "outputId": "ee016b20-f1cf-40c3-cbe6-b4ac3c764a1b"
   },
   "outputs": [
    {
     "name": "stdout",
     "output_type": "stream",
     "text": [
      "Variable: tot_curr_bal         Importance: 0.19\n",
      "Variable: debt_income_ratio    Importance: 0.14\n",
      "Variable: loan_amnt            Importance: 0.11\n",
      "Variable: annual_inc           Importance: 0.09\n",
      "Variable: Rate_of_intrst       Importance: 0.06\n",
      "Variable: numb_credit          Importance: 0.06\n",
      "Variable: total_rec_int        Importance: 0.06\n",
      "Variable: mths_since_last_delinq Importance: 0.05\n",
      "Variable: Experience           Importance: 0.04\n",
      "Variable: last_week_pay        Importance: 0.04\n",
      "Variable: inq_last_6mths       Importance: 0.02\n",
      "Variable: pub_rec              Importance: 0.02\n",
      "Variable: delinq_2yrs          Importance: 0.01\n",
      "Variable: tot_colle_amt        Importance: 0.01\n",
      "Variable: terms_60 months      Importance: 0.01\n",
      "Variable: home_ownership_MORTGAGE Importance: 0.01\n",
      "Variable: home_ownership_OWN   Importance: 0.01\n",
      "Variable: verification_status_Source Verified Importance: 0.01\n",
      "Variable: verification_status_Verified Importance: 0.01\n",
      "Variable: purpose_credit_card  Importance: 0.01\n",
      "Variable: purpose_debt_consolidation Importance: 0.01\n",
      "Variable: purpose_home_improvement Importance: 0.01\n",
      "Variable: purpose_moving       Importance: 0.01\n",
      "Variable: purpose_other        Importance: 0.01\n",
      "Variable: initial_list_status_w Importance: 0.01\n",
      "Variable: total_rec_late_fee   Importance: 0.0\n",
      "Variable: recoveries           Importance: 0.0\n",
      "Variable: collections_12_mths_ex_med Importance: 0.0\n",
      "Variable: acc_now_delinq       Importance: 0.0\n",
      "Variable: home_ownership_NONE  Importance: 0.0\n",
      "Variable: home_ownership_OTHER Importance: 0.0\n",
      "Variable: home_ownership_RENT  Importance: 0.0\n",
      "Variable: purpose_educational  Importance: 0.0\n",
      "Variable: purpose_house        Importance: 0.0\n",
      "Variable: purpose_major_purchase Importance: 0.0\n",
      "Variable: purpose_medical      Importance: 0.0\n",
      "Variable: purpose_renewable_energy Importance: 0.0\n",
      "Variable: purpose_small_business Importance: 0.0\n",
      "Variable: purpose_vacation     Importance: 0.0\n",
      "Variable: purpose_wedding      Importance: 0.0\n",
      "Variable: application_type_JOINT Importance: 0.0\n"
     ]
    }
   ],
   "source": [
    "# Print out the feature and importances \n",
    "[print('Variable: {:20} Importance: {}'.format(*pair)) for pair in feature_importances];"
   ]
  },
  {
   "cell_type": "markdown",
   "metadata": {
    "id": "RCYzx73Zy5t8"
   },
   "source": [
    "#### Removing the variables which are not selected in other techniques and also having zero significance in feature importance"
   ]
  },
  {
   "cell_type": "code",
   "execution_count": null,
   "metadata": {
    "executionInfo": {
     "elapsed": 96,
     "status": "aborted",
     "timestamp": 1629267452697,
     "user": {
      "displayName": "SUMIT YENUGWAR",
      "photoUrl": "https://lh3.googleusercontent.com/a-/AOh14GgWF_AXb3JKzRG4HcMuK2aUrD6NWk93uKBqZpZdvQ=s64",
      "userId": "05792510571347937678"
     },
     "user_tz": -330
    },
    "id": "0pKkSb2ey5t8"
   },
   "outputs": [],
   "source": [
    "final_df.drop(columns=['collections_12_mths_ex_med', 'acc_now_delinq', 'application_type_JOINT'],axis=1, inplace=True)"
   ]
  },
  {
   "cell_type": "code",
   "execution_count": null,
   "metadata": {
    "executionInfo": {
     "elapsed": 95,
     "status": "aborted",
     "timestamp": 1629267452698,
     "user": {
      "displayName": "SUMIT YENUGWAR",
      "photoUrl": "https://lh3.googleusercontent.com/a-/AOh14GgWF_AXb3JKzRG4HcMuK2aUrD6NWk93uKBqZpZdvQ=s64",
      "userId": "05792510571347937678"
     },
     "user_tz": -330
    },
    "id": "RxV-IVo9y5t8"
   },
   "outputs": [],
   "source": [
    "final_df.shape"
   ]
  },
  {
   "cell_type": "code",
   "execution_count": null,
   "metadata": {
    "executionInfo": {
     "elapsed": 95,
     "status": "aborted",
     "timestamp": 1629267452698,
     "user": {
      "displayName": "SUMIT YENUGWAR",
      "photoUrl": "https://lh3.googleusercontent.com/a-/AOh14GgWF_AXb3JKzRG4HcMuK2aUrD6NWk93uKBqZpZdvQ=s64",
      "userId": "05792510571347937678"
     },
     "user_tz": -330
    },
    "id": "qhwsqpRRy5t9"
   },
   "outputs": [],
   "source": [
    "# saving the dataframe \n",
    "final_df.to_csv('Project_finaldata_fs.csv') "
   ]
  },
  {
   "cell_type": "markdown",
   "metadata": {
    "id": "5nUtFrFLy5t9"
   },
   "source": [
    "## Model building"
   ]
  },
  {
   "cell_type": "code",
   "execution_count": null,
   "metadata": {
    "executionInfo": {
     "elapsed": 96,
     "status": "aborted",
     "timestamp": 1629267452700,
     "user": {
      "displayName": "SUMIT YENUGWAR",
      "photoUrl": "https://lh3.googleusercontent.com/a-/AOh14GgWF_AXb3JKzRG4HcMuK2aUrD6NWk93uKBqZpZdvQ=s64",
      "userId": "05792510571347937678"
     },
     "user_tz": -330
    },
    "id": "a42zX39Ky5t9"
   },
   "outputs": [],
   "source": [
    "df = pd.read_csv(\"Project_finaldata_fs.csv\")\n",
    "df.head()"
   ]
  },
  {
   "cell_type": "code",
   "execution_count": null,
   "metadata": {
    "executionInfo": {
     "elapsed": 96,
     "status": "aborted",
     "timestamp": 1629267452700,
     "user": {
      "displayName": "SUMIT YENUGWAR",
      "photoUrl": "https://lh3.googleusercontent.com/a-/AOh14GgWF_AXb3JKzRG4HcMuK2aUrD6NWk93uKBqZpZdvQ=s64",
      "userId": "05792510571347937678"
     },
     "user_tz": -330
    },
    "id": "_e6gqfFfy5t9"
   },
   "outputs": [],
   "source": [
    "df.drop(columns= [\"Unnamed: 0\"], axis=1, inplace=True)"
   ]
  },
  {
   "cell_type": "code",
   "execution_count": null,
   "metadata": {
    "executionInfo": {
     "elapsed": 96,
     "status": "aborted",
     "timestamp": 1629267452701,
     "user": {
      "displayName": "SUMIT YENUGWAR",
      "photoUrl": "https://lh3.googleusercontent.com/a-/AOh14GgWF_AXb3JKzRG4HcMuK2aUrD6NWk93uKBqZpZdvQ=s64",
      "userId": "05792510571347937678"
     },
     "user_tz": -330
    },
    "id": "twyP9LQAy5t9",
    "scrolled": true
   },
   "outputs": [],
   "source": [
    "df.shape"
   ]
  },
  {
   "cell_type": "code",
   "execution_count": null,
   "metadata": {
    "executionInfo": {
     "elapsed": 95,
     "status": "aborted",
     "timestamp": 1629267452701,
     "user": {
      "displayName": "SUMIT YENUGWAR",
      "photoUrl": "https://lh3.googleusercontent.com/a-/AOh14GgWF_AXb3JKzRG4HcMuK2aUrD6NWk93uKBqZpZdvQ=s64",
      "userId": "05792510571347937678"
     },
     "user_tz": -330
    },
    "id": "v3L56CMly5t-"
   },
   "outputs": [],
   "source": [
    "df.columns"
   ]
  },
  {
   "cell_type": "markdown",
   "metadata": {
    "id": "o0hHSbtxy5t-"
   },
   "source": [
    "### Seperating input and output variables"
   ]
  },
  {
   "cell_type": "code",
   "execution_count": null,
   "metadata": {
    "executionInfo": {
     "elapsed": 95,
     "status": "aborted",
     "timestamp": 1629267452702,
     "user": {
      "displayName": "SUMIT YENUGWAR",
      "photoUrl": "https://lh3.googleusercontent.com/a-/AOh14GgWF_AXb3JKzRG4HcMuK2aUrD6NWk93uKBqZpZdvQ=s64",
      "userId": "05792510571347937678"
     },
     "user_tz": -330
    },
    "id": "MmuHWBTry5t-"
   },
   "outputs": [],
   "source": [
    "X = df.drop(columns=[\"total revol_bal\"],axis=1)\n",
    "Y = df[\"total revol_bal\"]"
   ]
  },
  {
   "cell_type": "code",
   "execution_count": null,
   "metadata": {
    "executionInfo": {
     "elapsed": 94,
     "status": "aborted",
     "timestamp": 1629267452702,
     "user": {
      "displayName": "SUMIT YENUGWAR",
      "photoUrl": "https://lh3.googleusercontent.com/a-/AOh14GgWF_AXb3JKzRG4HcMuK2aUrD6NWk93uKBqZpZdvQ=s64",
      "userId": "05792510571347937678"
     },
     "user_tz": -330
    },
    "id": "uX05gIsMy5t-"
   },
   "outputs": [],
   "source": [
    "from sklearn.model_selection import train_test_split"
   ]
  },
  {
   "cell_type": "code",
   "execution_count": null,
   "metadata": {
    "executionInfo": {
     "elapsed": 95,
     "status": "aborted",
     "timestamp": 1629267452703,
     "user": {
      "displayName": "SUMIT YENUGWAR",
      "photoUrl": "https://lh3.googleusercontent.com/a-/AOh14GgWF_AXb3JKzRG4HcMuK2aUrD6NWk93uKBqZpZdvQ=s64",
      "userId": "05792510571347937678"
     },
     "user_tz": -330
    },
    "id": "uwKqYkmsy5t-"
   },
   "outputs": [],
   "source": [
    "x_train, x_test,y_train, y_test = train_test_split(X,Y, test_size=0.3, random_state=0)"
   ]
  },
  {
   "cell_type": "markdown",
   "metadata": {
    "id": "2zNxbJIdy5t-"
   },
   "source": [
    "### Linear regression"
   ]
  },
  {
   "cell_type": "code",
   "execution_count": null,
   "metadata": {
    "executionInfo": {
     "elapsed": 94,
     "status": "aborted",
     "timestamp": 1629267452703,
     "user": {
      "displayName": "SUMIT YENUGWAR",
      "photoUrl": "https://lh3.googleusercontent.com/a-/AOh14GgWF_AXb3JKzRG4HcMuK2aUrD6NWk93uKBqZpZdvQ=s64",
      "userId": "05792510571347937678"
     },
     "user_tz": -330
    },
    "id": "Nl17XMPqy5t-"
   },
   "outputs": [],
   "source": [
    "from sklearn.linear_model import LinearRegression"
   ]
  },
  {
   "cell_type": "code",
   "execution_count": null,
   "metadata": {
    "executionInfo": {
     "elapsed": 94,
     "status": "aborted",
     "timestamp": 1629267452704,
     "user": {
      "displayName": "SUMIT YENUGWAR",
      "photoUrl": "https://lh3.googleusercontent.com/a-/AOh14GgWF_AXb3JKzRG4HcMuK2aUrD6NWk93uKBqZpZdvQ=s64",
      "userId": "05792510571347937678"
     },
     "user_tz": -330
    },
    "id": "ra2KwRL2y5t_"
   },
   "outputs": [],
   "source": [
    "from sklearn import metrics"
   ]
  },
  {
   "cell_type": "code",
   "execution_count": null,
   "metadata": {
    "executionInfo": {
     "elapsed": 93,
     "status": "aborted",
     "timestamp": 1629267452704,
     "user": {
      "displayName": "SUMIT YENUGWAR",
      "photoUrl": "https://lh3.googleusercontent.com/a-/AOh14GgWF_AXb3JKzRG4HcMuK2aUrD6NWk93uKBqZpZdvQ=s64",
      "userId": "05792510571347937678"
     },
     "user_tz": -330
    },
    "id": "pTjb0ipqy5uA"
   },
   "outputs": [],
   "source": [
    "reg = LinearRegression()"
   ]
  },
  {
   "cell_type": "code",
   "execution_count": null,
   "metadata": {
    "executionInfo": {
     "elapsed": 95,
     "status": "aborted",
     "timestamp": 1629267452706,
     "user": {
      "displayName": "SUMIT YENUGWAR",
      "photoUrl": "https://lh3.googleusercontent.com/a-/AOh14GgWF_AXb3JKzRG4HcMuK2aUrD6NWk93uKBqZpZdvQ=s64",
      "userId": "05792510571347937678"
     },
     "user_tz": -330
    },
    "id": "v9b0h5AGy5uA"
   },
   "outputs": [],
   "source": [
    "model = reg.fit(x_train, y_train)"
   ]
  },
  {
   "cell_type": "code",
   "execution_count": null,
   "metadata": {
    "executionInfo": {
     "elapsed": 6533,
     "status": "aborted",
     "timestamp": 1629267452707,
     "user": {
      "displayName": "SUMIT YENUGWAR",
      "photoUrl": "https://lh3.googleusercontent.com/a-/AOh14GgWF_AXb3JKzRG4HcMuK2aUrD6NWk93uKBqZpZdvQ=s64",
      "userId": "05792510571347937678"
     },
     "user_tz": -330
    },
    "id": "OuUTRNWwy5uA"
   },
   "outputs": [],
   "source": [
    "print('Intercept: ', model.intercept_)"
   ]
  },
  {
   "cell_type": "code",
   "execution_count": null,
   "metadata": {
    "executionInfo": {
     "elapsed": 6522,
     "status": "aborted",
     "timestamp": 1629267452707,
     "user": {
      "displayName": "SUMIT YENUGWAR",
      "photoUrl": "https://lh3.googleusercontent.com/a-/AOh14GgWF_AXb3JKzRG4HcMuK2aUrD6NWk93uKBqZpZdvQ=s64",
      "userId": "05792510571347937678"
     },
     "user_tz": -330
    },
    "id": "HmL3mleQy5uA"
   },
   "outputs": [],
   "source": [
    "print('Coefficients: \\n', model.coef_)"
   ]
  },
  {
   "cell_type": "code",
   "execution_count": null,
   "metadata": {
    "executionInfo": {
     "elapsed": 6519,
     "status": "aborted",
     "timestamp": 1629267452708,
     "user": {
      "displayName": "SUMIT YENUGWAR",
      "photoUrl": "https://lh3.googleusercontent.com/a-/AOh14GgWF_AXb3JKzRG4HcMuK2aUrD6NWk93uKBqZpZdvQ=s64",
      "userId": "05792510571347937678"
     },
     "user_tz": -330
    },
    "id": "oaK868TZy5uB"
   },
   "outputs": [],
   "source": [
    "# predicting trained values"
   ]
  },
  {
   "cell_type": "code",
   "execution_count": null,
   "metadata": {
    "executionInfo": {
     "elapsed": 6514,
     "status": "aborted",
     "timestamp": 1629267452708,
     "user": {
      "displayName": "SUMIT YENUGWAR",
      "photoUrl": "https://lh3.googleusercontent.com/a-/AOh14GgWF_AXb3JKzRG4HcMuK2aUrD6NWk93uKBqZpZdvQ=s64",
      "userId": "05792510571347937678"
     },
     "user_tz": -330
    },
    "id": "gGflqNqwy5uB"
   },
   "outputs": [],
   "source": [
    "y_pred1 = model.predict(x_train)"
   ]
  },
  {
   "cell_type": "code",
   "execution_count": null,
   "metadata": {
    "executionInfo": {
     "elapsed": 6513,
     "status": "aborted",
     "timestamp": 1629267452710,
     "user": {
      "displayName": "SUMIT YENUGWAR",
      "photoUrl": "https://lh3.googleusercontent.com/a-/AOh14GgWF_AXb3JKzRG4HcMuK2aUrD6NWk93uKBqZpZdvQ=s64",
      "userId": "05792510571347937678"
     },
     "user_tz": -330
    },
    "id": "62H7T2Zsy5uB"
   },
   "outputs": [],
   "source": [
    "# predicting test values"
   ]
  },
  {
   "cell_type": "code",
   "execution_count": null,
   "metadata": {
    "executionInfo": {
     "elapsed": 6510,
     "status": "aborted",
     "timestamp": 1629267452710,
     "user": {
      "displayName": "SUMIT YENUGWAR",
      "photoUrl": "https://lh3.googleusercontent.com/a-/AOh14GgWF_AXb3JKzRG4HcMuK2aUrD6NWk93uKBqZpZdvQ=s64",
      "userId": "05792510571347937678"
     },
     "user_tz": -330
    },
    "id": "trsAD_03y5uB"
   },
   "outputs": [],
   "source": [
    "y_pred2 = model.predict(x_test)"
   ]
  },
  {
   "cell_type": "code",
   "execution_count": null,
   "metadata": {
    "executionInfo": {
     "elapsed": 6509,
     "status": "aborted",
     "timestamp": 1629267452711,
     "user": {
      "displayName": "SUMIT YENUGWAR",
      "photoUrl": "https://lh3.googleusercontent.com/a-/AOh14GgWF_AXb3JKzRG4HcMuK2aUrD6NWk93uKBqZpZdvQ=s64",
      "userId": "05792510571347937678"
     },
     "user_tz": -330
    },
    "id": "VuqVbG7Ky5uC"
   },
   "outputs": [],
   "source": [
    "# Observed values v/s fitted values"
   ]
  },
  {
   "cell_type": "code",
   "execution_count": null,
   "metadata": {
    "executionInfo": {
     "elapsed": 6496,
     "status": "aborted",
     "timestamp": 1629267452711,
     "user": {
      "displayName": "SUMIT YENUGWAR",
      "photoUrl": "https://lh3.googleusercontent.com/a-/AOh14GgWF_AXb3JKzRG4HcMuK2aUrD6NWk93uKBqZpZdvQ=s64",
      "userId": "05792510571347937678"
     },
     "user_tz": -330
    },
    "id": "Lb1zG7XJy5uC"
   },
   "outputs": [],
   "source": [
    "plt.scatter(y_train, y_pred1, c=\"b\");plt.xlabel(\"Observed values\");plt.ylabel(\"Fitted values\")"
   ]
  },
  {
   "cell_type": "code",
   "execution_count": null,
   "metadata": {
    "executionInfo": {
     "elapsed": 6494,
     "status": "aborted",
     "timestamp": 1629267452712,
     "user": {
      "displayName": "SUMIT YENUGWAR",
      "photoUrl": "https://lh3.googleusercontent.com/a-/AOh14GgWF_AXb3JKzRG4HcMuK2aUrD6NWk93uKBqZpZdvQ=s64",
      "userId": "05792510571347937678"
     },
     "user_tz": -330
    },
    "id": "Hjs5IOM-y5uC"
   },
   "outputs": [],
   "source": [
    "neg_score = []\n",
    "for i in y_pred2:\n",
    "    if i < 0:\n",
    "        neg_score.append(i)"
   ]
  },
  {
   "cell_type": "code",
   "execution_count": null,
   "metadata": {
    "executionInfo": {
     "elapsed": 6479,
     "status": "aborted",
     "timestamp": 1629267452712,
     "user": {
      "displayName": "SUMIT YENUGWAR",
      "photoUrl": "https://lh3.googleusercontent.com/a-/AOh14GgWF_AXb3JKzRG4HcMuK2aUrD6NWk93uKBqZpZdvQ=s64",
      "userId": "05792510571347937678"
     },
     "user_tz": -330
    },
    "id": "uNQmc74_y5uC"
   },
   "outputs": [],
   "source": [
    "len(neg_score)"
   ]
  },
  {
   "cell_type": "code",
   "execution_count": null,
   "metadata": {
    "executionInfo": {
     "elapsed": 6476,
     "status": "aborted",
     "timestamp": 1629267452712,
     "user": {
      "displayName": "SUMIT YENUGWAR",
      "photoUrl": "https://lh3.googleusercontent.com/a-/AOh14GgWF_AXb3JKzRG4HcMuK2aUrD6NWk93uKBqZpZdvQ=s64",
      "userId": "05792510571347937678"
     },
     "user_tz": -330
    },
    "id": "gdtTevOhy5uD"
   },
   "outputs": [],
   "source": [
    "# RMSE value"
   ]
  },
  {
   "cell_type": "code",
   "execution_count": null,
   "metadata": {
    "executionInfo": {
     "elapsed": 6470,
     "status": "aborted",
     "timestamp": 1629267452713,
     "user": {
      "displayName": "SUMIT YENUGWAR",
      "photoUrl": "https://lh3.googleusercontent.com/a-/AOh14GgWF_AXb3JKzRG4HcMuK2aUrD6NWk93uKBqZpZdvQ=s64",
      "userId": "05792510571347937678"
     },
     "user_tz": -330
    },
    "id": "ySlQe-tOy5uD"
   },
   "outputs": [],
   "source": [
    "print(\"RMSE for training data: \",np.sqrt(metrics.mean_squared_error(y_train,y_pred1)))"
   ]
  },
  {
   "cell_type": "code",
   "execution_count": null,
   "metadata": {
    "executionInfo": {
     "elapsed": 6463,
     "status": "aborted",
     "timestamp": 1629267452713,
     "user": {
      "displayName": "SUMIT YENUGWAR",
      "photoUrl": "https://lh3.googleusercontent.com/a-/AOh14GgWF_AXb3JKzRG4HcMuK2aUrD6NWk93uKBqZpZdvQ=s64",
      "userId": "05792510571347937678"
     },
     "user_tz": -330
    },
    "id": "Bj0Xtg9Hy5uD"
   },
   "outputs": [],
   "source": [
    "print(\"RMSE for testing data: \",np.sqrt(metrics.mean_squared_error(y_test,y_pred2)))"
   ]
  },
  {
   "cell_type": "markdown",
   "metadata": {
    "id": "hH6VZH2ly5uE"
   },
   "source": [
    "### Random Forest "
   ]
  },
  {
   "cell_type": "code",
   "execution_count": null,
   "metadata": {
    "executionInfo": {
     "elapsed": 6463,
     "status": "aborted",
     "timestamp": 1629267452714,
     "user": {
      "displayName": "SUMIT YENUGWAR",
      "photoUrl": "https://lh3.googleusercontent.com/a-/AOh14GgWF_AXb3JKzRG4HcMuK2aUrD6NWk93uKBqZpZdvQ=s64",
      "userId": "05792510571347937678"
     },
     "user_tz": -330
    },
    "id": "aj2NP4HWy5uE"
   },
   "outputs": [],
   "source": [
    "from sklearn.ensemble import RandomForestRegressor "
   ]
  },
  {
   "cell_type": "code",
   "execution_count": null,
   "metadata": {
    "executionInfo": {
     "elapsed": 6462,
     "status": "aborted",
     "timestamp": 1629267452715,
     "user": {
      "displayName": "SUMIT YENUGWAR",
      "photoUrl": "https://lh3.googleusercontent.com/a-/AOh14GgWF_AXb3JKzRG4HcMuK2aUrD6NWk93uKBqZpZdvQ=s64",
      "userId": "05792510571347937678"
     },
     "user_tz": -330
    },
    "id": "t5DRUv1Xy5uE"
   },
   "outputs": [],
   "source": [
    "regressor = RandomForestRegressor(n_estimators = 20, random_state = 0)"
   ]
  },
  {
   "cell_type": "code",
   "execution_count": null,
   "metadata": {
    "executionInfo": {
     "elapsed": 6456,
     "status": "aborted",
     "timestamp": 1629267452716,
     "user": {
      "displayName": "SUMIT YENUGWAR",
      "photoUrl": "https://lh3.googleusercontent.com/a-/AOh14GgWF_AXb3JKzRG4HcMuK2aUrD6NWk93uKBqZpZdvQ=s64",
      "userId": "05792510571347937678"
     },
     "user_tz": -330
    },
    "id": "Bcv4DMEay5uF"
   },
   "outputs": [],
   "source": [
    "regressor.fit(x_train, y_train) "
   ]
  },
  {
   "cell_type": "code",
   "execution_count": null,
   "metadata": {
    "executionInfo": {
     "elapsed": 6456,
     "status": "aborted",
     "timestamp": 1629267452718,
     "user": {
      "displayName": "SUMIT YENUGWAR",
      "photoUrl": "https://lh3.googleusercontent.com/a-/AOh14GgWF_AXb3JKzRG4HcMuK2aUrD6NWk93uKBqZpZdvQ=s64",
      "userId": "05792510571347937678"
     },
     "user_tz": -330
    },
    "id": "1Pnpn1eEy5uF"
   },
   "outputs": [],
   "source": [
    "# Predicting the values using the model"
   ]
  },
  {
   "cell_type": "code",
   "execution_count": null,
   "metadata": {
    "executionInfo": {
     "elapsed": 6456,
     "status": "aborted",
     "timestamp": 1629267452719,
     "user": {
      "displayName": "SUMIT YENUGWAR",
      "photoUrl": "https://lh3.googleusercontent.com/a-/AOh14GgWF_AXb3JKzRG4HcMuK2aUrD6NWk93uKBqZpZdvQ=s64",
      "userId": "05792510571347937678"
     },
     "user_tz": -330
    },
    "id": "EvErMc6ay5uF"
   },
   "outputs": [],
   "source": [
    "Y_pred1 = regressor.predict(x_train) "
   ]
  },
  {
   "cell_type": "code",
   "execution_count": null,
   "metadata": {
    "executionInfo": {
     "elapsed": 6454,
     "status": "aborted",
     "timestamp": 1629267452721,
     "user": {
      "displayName": "SUMIT YENUGWAR",
      "photoUrl": "https://lh3.googleusercontent.com/a-/AOh14GgWF_AXb3JKzRG4HcMuK2aUrD6NWk93uKBqZpZdvQ=s64",
      "userId": "05792510571347937678"
     },
     "user_tz": -330
    },
    "id": "YsyLR7Vqy5uF"
   },
   "outputs": [],
   "source": [
    "Y_pred2 = regressor.predict(x_test) "
   ]
  },
  {
   "cell_type": "code",
   "execution_count": null,
   "metadata": {
    "executionInfo": {
     "elapsed": 6443,
     "status": "aborted",
     "timestamp": 1629267452721,
     "user": {
      "displayName": "SUMIT YENUGWAR",
      "photoUrl": "https://lh3.googleusercontent.com/a-/AOh14GgWF_AXb3JKzRG4HcMuK2aUrD6NWk93uKBqZpZdvQ=s64",
      "userId": "05792510571347937678"
     },
     "user_tz": -330
    },
    "id": "MM0Vg7S3y5uF"
   },
   "outputs": [],
   "source": [
    "# plot predicted data \n",
    "plt.plot(y_test,Y_pred2,'bo')  \n",
    "plt.title('Random Forest Regression') \n",
    "plt.xlabel('Observed values') \n",
    "plt.ylabel('Predicted values') \n",
    "plt.show()"
   ]
  },
  {
   "cell_type": "code",
   "execution_count": null,
   "metadata": {
    "executionInfo": {
     "elapsed": 6444,
     "status": "aborted",
     "timestamp": 1629267452727,
     "user": {
      "displayName": "SUMIT YENUGWAR",
      "photoUrl": "https://lh3.googleusercontent.com/a-/AOh14GgWF_AXb3JKzRG4HcMuK2aUrD6NWk93uKBqZpZdvQ=s64",
      "userId": "05792510571347937678"
     },
     "user_tz": -330
    },
    "id": "EKjCyikxy5uF"
   },
   "outputs": [],
   "source": [
    "# RMSE values"
   ]
  },
  {
   "cell_type": "code",
   "execution_count": null,
   "metadata": {
    "executionInfo": {
     "elapsed": 6435,
     "status": "aborted",
     "timestamp": 1629267452727,
     "user": {
      "displayName": "SUMIT YENUGWAR",
      "photoUrl": "https://lh3.googleusercontent.com/a-/AOh14GgWF_AXb3JKzRG4HcMuK2aUrD6NWk93uKBqZpZdvQ=s64",
      "userId": "05792510571347937678"
     },
     "user_tz": -330
    },
    "id": "UXU44ZVsy5uG"
   },
   "outputs": [],
   "source": [
    "print('RMSE of training data:', np.sqrt(metrics.mean_squared_error(y_train, Y_pred1)))"
   ]
  },
  {
   "cell_type": "code",
   "execution_count": null,
   "metadata": {
    "executionInfo": {
     "elapsed": 6429,
     "status": "aborted",
     "timestamp": 1629267452728,
     "user": {
      "displayName": "SUMIT YENUGWAR",
      "photoUrl": "https://lh3.googleusercontent.com/a-/AOh14GgWF_AXb3JKzRG4HcMuK2aUrD6NWk93uKBqZpZdvQ=s64",
      "userId": "05792510571347937678"
     },
     "user_tz": -330
    },
    "id": "dNEBZGmTy5uG"
   },
   "outputs": [],
   "source": [
    "print('RMSE of testing data:', np.sqrt(metrics.mean_squared_error(y_test, Y_pred2)))"
   ]
  },
  {
   "cell_type": "markdown",
   "metadata": {
    "id": "EVBW0kiuy5uG"
   },
   "source": [
    "### Decision tree classifier"
   ]
  },
  {
   "cell_type": "code",
   "execution_count": null,
   "metadata": {
    "executionInfo": {
     "elapsed": 6428,
     "status": "aborted",
     "timestamp": 1629267452729,
     "user": {
      "displayName": "SUMIT YENUGWAR",
      "photoUrl": "https://lh3.googleusercontent.com/a-/AOh14GgWF_AXb3JKzRG4HcMuK2aUrD6NWk93uKBqZpZdvQ=s64",
      "userId": "05792510571347937678"
     },
     "user_tz": -330
    },
    "id": "lJbStF3Iy5uG"
   },
   "outputs": [],
   "source": [
    "from sklearn.tree import DecisionTreeRegressor"
   ]
  },
  {
   "cell_type": "code",
   "execution_count": null,
   "metadata": {
    "executionInfo": {
     "elapsed": 6428,
     "status": "aborted",
     "timestamp": 1629267452730,
     "user": {
      "displayName": "SUMIT YENUGWAR",
      "photoUrl": "https://lh3.googleusercontent.com/a-/AOh14GgWF_AXb3JKzRG4HcMuK2aUrD6NWk93uKBqZpZdvQ=s64",
      "userId": "05792510571347937678"
     },
     "user_tz": -330
    },
    "id": "HZ1NC5ySy5uG"
   },
   "outputs": [],
   "source": [
    "dt_regressor = DecisionTreeRegressor(random_state = 0, max_depth=5)"
   ]
  },
  {
   "cell_type": "code",
   "execution_count": null,
   "metadata": {
    "executionInfo": {
     "elapsed": 6420,
     "status": "aborted",
     "timestamp": 1629267452730,
     "user": {
      "displayName": "SUMIT YENUGWAR",
      "photoUrl": "https://lh3.googleusercontent.com/a-/AOh14GgWF_AXb3JKzRG4HcMuK2aUrD6NWk93uKBqZpZdvQ=s64",
      "userId": "05792510571347937678"
     },
     "user_tz": -330
    },
    "id": "ATEa_jNBy5uG"
   },
   "outputs": [],
   "source": [
    "dt_regressor.fit(x_train, y_train)"
   ]
  },
  {
   "cell_type": "code",
   "execution_count": null,
   "metadata": {
    "executionInfo": {
     "elapsed": 6419,
     "status": "aborted",
     "timestamp": 1629267452731,
     "user": {
      "displayName": "SUMIT YENUGWAR",
      "photoUrl": "https://lh3.googleusercontent.com/a-/AOh14GgWF_AXb3JKzRG4HcMuK2aUrD6NWk93uKBqZpZdvQ=s64",
      "userId": "05792510571347937678"
     },
     "user_tz": -330
    },
    "id": "01oP3bHfy5uH"
   },
   "outputs": [],
   "source": [
    "# Predicting the output values"
   ]
  },
  {
   "cell_type": "code",
   "execution_count": null,
   "metadata": {
    "executionInfo": {
     "elapsed": 6417,
     "status": "aborted",
     "timestamp": 1629267452731,
     "user": {
      "displayName": "SUMIT YENUGWAR",
      "photoUrl": "https://lh3.googleusercontent.com/a-/AOh14GgWF_AXb3JKzRG4HcMuK2aUrD6NWk93uKBqZpZdvQ=s64",
      "userId": "05792510571347937678"
     },
     "user_tz": -330
    },
    "id": "u2bLUYS4y5uH"
   },
   "outputs": [],
   "source": [
    "y_pred_dt1 = dt_regressor.predict(x_train)"
   ]
  },
  {
   "cell_type": "code",
   "execution_count": null,
   "metadata": {
    "executionInfo": {
     "elapsed": 6414,
     "status": "aborted",
     "timestamp": 1629267452732,
     "user": {
      "displayName": "SUMIT YENUGWAR",
      "photoUrl": "https://lh3.googleusercontent.com/a-/AOh14GgWF_AXb3JKzRG4HcMuK2aUrD6NWk93uKBqZpZdvQ=s64",
      "userId": "05792510571347937678"
     },
     "user_tz": -330
    },
    "id": "f-Cd8lswy5uH"
   },
   "outputs": [],
   "source": [
    "y_pred_dt2 = dt_regressor.predict(x_test)"
   ]
  },
  {
   "cell_type": "code",
   "execution_count": null,
   "metadata": {
    "executionInfo": {
     "elapsed": 6405,
     "status": "aborted",
     "timestamp": 1629267452734,
     "user": {
      "displayName": "SUMIT YENUGWAR",
      "photoUrl": "https://lh3.googleusercontent.com/a-/AOh14GgWF_AXb3JKzRG4HcMuK2aUrD6NWk93uKBqZpZdvQ=s64",
      "userId": "05792510571347937678"
     },
     "user_tz": -330
    },
    "id": "GbqQZJBIy5uH"
   },
   "outputs": [],
   "source": [
    "# plot predicted data \n",
    "plt.plot(y_test,y_pred_dt2,\"bo\")  \n",
    "plt.title('DT classifier') \n",
    "plt.xlabel('Observed values') \n",
    "plt.ylabel('Predicted values') \n",
    "plt.show()"
   ]
  },
  {
   "cell_type": "code",
   "execution_count": null,
   "metadata": {
    "executionInfo": {
     "elapsed": 6404,
     "status": "aborted",
     "timestamp": 1629267452735,
     "user": {
      "displayName": "SUMIT YENUGWAR",
      "photoUrl": "https://lh3.googleusercontent.com/a-/AOh14GgWF_AXb3JKzRG4HcMuK2aUrD6NWk93uKBqZpZdvQ=s64",
      "userId": "05792510571347937678"
     },
     "user_tz": -330
    },
    "id": "ESlCGXGay5uH"
   },
   "outputs": [],
   "source": [
    "# RMSE values"
   ]
  },
  {
   "cell_type": "code",
   "execution_count": null,
   "metadata": {
    "executionInfo": {
     "elapsed": 6391,
     "status": "aborted",
     "timestamp": 1629267452735,
     "user": {
      "displayName": "SUMIT YENUGWAR",
      "photoUrl": "https://lh3.googleusercontent.com/a-/AOh14GgWF_AXb3JKzRG4HcMuK2aUrD6NWk93uKBqZpZdvQ=s64",
      "userId": "05792510571347937678"
     },
     "user_tz": -330
    },
    "id": "n19UdpEWy5uH"
   },
   "outputs": [],
   "source": [
    "print('RMSE of train dataset:', np.sqrt(metrics.mean_squared_error(y_train,y_pred_dt1)))"
   ]
  },
  {
   "cell_type": "code",
   "execution_count": null,
   "metadata": {
    "executionInfo": {
     "elapsed": 6385,
     "status": "aborted",
     "timestamp": 1629267452736,
     "user": {
      "displayName": "SUMIT YENUGWAR",
      "photoUrl": "https://lh3.googleusercontent.com/a-/AOh14GgWF_AXb3JKzRG4HcMuK2aUrD6NWk93uKBqZpZdvQ=s64",
      "userId": "05792510571347937678"
     },
     "user_tz": -330
    },
    "id": "pgP_YOvOy5uH"
   },
   "outputs": [],
   "source": [
    "print('RMSE of test dataset:', np.sqrt(metrics.mean_squared_error(y_test,y_pred_dt2)))"
   ]
  },
  {
   "cell_type": "markdown",
   "metadata": {
    "id": "rszi37vPy5uI"
   },
   "source": [
    "### XG Boosting"
   ]
  },
  {
   "cell_type": "code",
   "execution_count": null,
   "metadata": {
    "executionInfo": {
     "elapsed": 6379,
     "status": "aborted",
     "timestamp": 1629267452736,
     "user": {
      "displayName": "SUMIT YENUGWAR",
      "photoUrl": "https://lh3.googleusercontent.com/a-/AOh14GgWF_AXb3JKzRG4HcMuK2aUrD6NWk93uKBqZpZdvQ=s64",
      "userId": "05792510571347937678"
     },
     "user_tz": -330
    },
    "id": "KUiJi5-py5uI"
   },
   "outputs": [],
   "source": [
    "from xgboost.sklearn import XGBRegressor"
   ]
  },
  {
   "cell_type": "code",
   "execution_count": null,
   "metadata": {
    "executionInfo": {
     "elapsed": 6378,
     "status": "aborted",
     "timestamp": 1629267452737,
     "user": {
      "displayName": "SUMIT YENUGWAR",
      "photoUrl": "https://lh3.googleusercontent.com/a-/AOh14GgWF_AXb3JKzRG4HcMuK2aUrD6NWk93uKBqZpZdvQ=s64",
      "userId": "05792510571347937678"
     },
     "user_tz": -330
    },
    "id": "GDzbF8V4y5uI"
   },
   "outputs": [],
   "source": [
    "xg_reg = XGBRegressor() "
   ]
  },
  {
   "cell_type": "code",
   "execution_count": null,
   "metadata": {
    "executionInfo": {
     "elapsed": 6371,
     "status": "aborted",
     "timestamp": 1629267452737,
     "user": {
      "displayName": "SUMIT YENUGWAR",
      "photoUrl": "https://lh3.googleusercontent.com/a-/AOh14GgWF_AXb3JKzRG4HcMuK2aUrD6NWk93uKBqZpZdvQ=s64",
      "userId": "05792510571347937678"
     },
     "user_tz": -330
    },
    "id": "eWL3MLDMy5uI"
   },
   "outputs": [],
   "source": [
    "xg_reg.fit(x_train, y_train)  "
   ]
  },
  {
   "cell_type": "code",
   "execution_count": null,
   "metadata": {
    "executionInfo": {
     "elapsed": 6370,
     "status": "aborted",
     "timestamp": 1629267452738,
     "user": {
      "displayName": "SUMIT YENUGWAR",
      "photoUrl": "https://lh3.googleusercontent.com/a-/AOh14GgWF_AXb3JKzRG4HcMuK2aUrD6NWk93uKBqZpZdvQ=s64",
      "userId": "05792510571347937678"
     },
     "user_tz": -330
    },
    "id": "jSH7wMxby5uI"
   },
   "outputs": [],
   "source": [
    "# Predicting the values using the model"
   ]
  },
  {
   "cell_type": "code",
   "execution_count": null,
   "metadata": {
    "executionInfo": {
     "elapsed": 6368,
     "status": "aborted",
     "timestamp": 1629267452738,
     "user": {
      "displayName": "SUMIT YENUGWAR",
      "photoUrl": "https://lh3.googleusercontent.com/a-/AOh14GgWF_AXb3JKzRG4HcMuK2aUrD6NWk93uKBqZpZdvQ=s64",
      "userId": "05792510571347937678"
     },
     "user_tz": -330
    },
    "id": "KhtAjU98y5uI"
   },
   "outputs": [],
   "source": [
    "y_pred_xg1 = xg_reg.predict(x_train) "
   ]
  },
  {
   "cell_type": "code",
   "execution_count": null,
   "metadata": {
    "executionInfo": {
     "elapsed": 6368,
     "status": "aborted",
     "timestamp": 1629267452739,
     "user": {
      "displayName": "SUMIT YENUGWAR",
      "photoUrl": "https://lh3.googleusercontent.com/a-/AOh14GgWF_AXb3JKzRG4HcMuK2aUrD6NWk93uKBqZpZdvQ=s64",
      "userId": "05792510571347937678"
     },
     "user_tz": -330
    },
    "id": "4a3R5zr7y5uJ"
   },
   "outputs": [],
   "source": [
    "y_pred_xg2 = xg_reg.predict(x_test) "
   ]
  },
  {
   "cell_type": "code",
   "execution_count": null,
   "metadata": {
    "executionInfo": {
     "elapsed": 6358,
     "status": "aborted",
     "timestamp": 1629267452739,
     "user": {
      "displayName": "SUMIT YENUGWAR",
      "photoUrl": "https://lh3.googleusercontent.com/a-/AOh14GgWF_AXb3JKzRG4HcMuK2aUrD6NWk93uKBqZpZdvQ=s64",
      "userId": "05792510571347937678"
     },
     "user_tz": -330
    },
    "id": "mMRjhHmXy5uJ"
   },
   "outputs": [],
   "source": [
    "# plot predicted data \n",
    "plt.plot(y_test,y_pred_xg2,\"bo\")  \n",
    "plt.title('XG bossting') \n",
    "plt.xlabel('Observed values') \n",
    "plt.ylabel('Predicted values') \n",
    "plt.show()"
   ]
  },
  {
   "cell_type": "code",
   "execution_count": null,
   "metadata": {
    "executionInfo": {
     "elapsed": 6354,
     "status": "aborted",
     "timestamp": 1629267452740,
     "user": {
      "displayName": "SUMIT YENUGWAR",
      "photoUrl": "https://lh3.googleusercontent.com/a-/AOh14GgWF_AXb3JKzRG4HcMuK2aUrD6NWk93uKBqZpZdvQ=s64",
      "userId": "05792510571347937678"
     },
     "user_tz": -330
    },
    "id": "vjwc1uRgy5uK"
   },
   "outputs": [],
   "source": [
    "# RMSE values"
   ]
  },
  {
   "cell_type": "code",
   "execution_count": null,
   "metadata": {
    "executionInfo": {
     "elapsed": 6346,
     "status": "aborted",
     "timestamp": 1629267452740,
     "user": {
      "displayName": "SUMIT YENUGWAR",
      "photoUrl": "https://lh3.googleusercontent.com/a-/AOh14GgWF_AXb3JKzRG4HcMuK2aUrD6NWk93uKBqZpZdvQ=s64",
      "userId": "05792510571347937678"
     },
     "user_tz": -330
    },
    "id": "UXEKKBEqy5uK"
   },
   "outputs": [],
   "source": [
    "print('RMSE Training data:', np.sqrt(metrics.mean_squared_error(y_train,y_pred_xg1)))"
   ]
  },
  {
   "cell_type": "code",
   "execution_count": null,
   "metadata": {
    "executionInfo": {
     "elapsed": 6342,
     "status": "aborted",
     "timestamp": 1629267452741,
     "user": {
      "displayName": "SUMIT YENUGWAR",
      "photoUrl": "https://lh3.googleusercontent.com/a-/AOh14GgWF_AXb3JKzRG4HcMuK2aUrD6NWk93uKBqZpZdvQ=s64",
      "userId": "05792510571347937678"
     },
     "user_tz": -330
    },
    "id": "sJ2NklQDy5uK"
   },
   "outputs": [],
   "source": [
    "print('RMSE Testing data:', np.sqrt(metrics.mean_squared_error(y_test,y_pred_xg2)))"
   ]
  },
  {
   "cell_type": "markdown",
   "metadata": {
    "id": "wD-9ahjdy5uL"
   },
   "source": [
    "### Neural Network"
   ]
  },
  {
   "cell_type": "code",
   "execution_count": null,
   "metadata": {
    "executionInfo": {
     "elapsed": 6340,
     "status": "aborted",
     "timestamp": 1629267452741,
     "user": {
      "displayName": "SUMIT YENUGWAR",
      "photoUrl": "https://lh3.googleusercontent.com/a-/AOh14GgWF_AXb3JKzRG4HcMuK2aUrD6NWk93uKBqZpZdvQ=s64",
      "userId": "05792510571347937678"
     },
     "user_tz": -330
    },
    "id": "2TpkFy6zy5uL"
   },
   "outputs": [],
   "source": [
    "from sklearn.neural_network import MLPRegressor"
   ]
  },
  {
   "cell_type": "code",
   "execution_count": null,
   "metadata": {
    "executionInfo": {
     "elapsed": 6345,
     "status": "aborted",
     "timestamp": 1629267452748,
     "user": {
      "displayName": "SUMIT YENUGWAR",
      "photoUrl": "https://lh3.googleusercontent.com/a-/AOh14GgWF_AXb3JKzRG4HcMuK2aUrD6NWk93uKBqZpZdvQ=s64",
      "userId": "05792510571347937678"
     },
     "user_tz": -330
    },
    "id": "VvXNJDhPy5uL"
   },
   "outputs": [],
   "source": [
    "mlp = MLPRegressor(random_state = 1, max_iter = 50)"
   ]
  },
  {
   "cell_type": "code",
   "execution_count": null,
   "metadata": {
    "executionInfo": {
     "elapsed": 6341,
     "status": "aborted",
     "timestamp": 1629267452750,
     "user": {
      "displayName": "SUMIT YENUGWAR",
      "photoUrl": "https://lh3.googleusercontent.com/a-/AOh14GgWF_AXb3JKzRG4HcMuK2aUrD6NWk93uKBqZpZdvQ=s64",
      "userId": "05792510571347937678"
     },
     "user_tz": -330
    },
    "id": "ueRQAy_Sy5uL"
   },
   "outputs": [],
   "source": [
    "mlp.fit(x_train, y_train)"
   ]
  },
  {
   "cell_type": "code",
   "execution_count": null,
   "metadata": {
    "executionInfo": {
     "elapsed": 6339,
     "status": "aborted",
     "timestamp": 1629267452751,
     "user": {
      "displayName": "SUMIT YENUGWAR",
      "photoUrl": "https://lh3.googleusercontent.com/a-/AOh14GgWF_AXb3JKzRG4HcMuK2aUrD6NWk93uKBqZpZdvQ=s64",
      "userId": "05792510571347937678"
     },
     "user_tz": -330
    },
    "id": "8bem6DfPy5uL"
   },
   "outputs": [],
   "source": [
    "# Predicting output values"
   ]
  },
  {
   "cell_type": "code",
   "execution_count": null,
   "metadata": {
    "executionInfo": {
     "elapsed": 6337,
     "status": "aborted",
     "timestamp": 1629267452751,
     "user": {
      "displayName": "SUMIT YENUGWAR",
      "photoUrl": "https://lh3.googleusercontent.com/a-/AOh14GgWF_AXb3JKzRG4HcMuK2aUrD6NWk93uKBqZpZdvQ=s64",
      "userId": "05792510571347937678"
     },
     "user_tz": -330
    },
    "id": "uRyZAWrJy5uM"
   },
   "outputs": [],
   "source": [
    "mlp_pred1 = mlp.predict(x_train)"
   ]
  },
  {
   "cell_type": "code",
   "execution_count": null,
   "metadata": {
    "executionInfo": {
     "elapsed": 6337,
     "status": "aborted",
     "timestamp": 1629267452752,
     "user": {
      "displayName": "SUMIT YENUGWAR",
      "photoUrl": "https://lh3.googleusercontent.com/a-/AOh14GgWF_AXb3JKzRG4HcMuK2aUrD6NWk93uKBqZpZdvQ=s64",
      "userId": "05792510571347937678"
     },
     "user_tz": -330
    },
    "id": "S6xoOjJBy5uM"
   },
   "outputs": [],
   "source": [
    "mlp_pred2 = mlp.predict(x_test)"
   ]
  },
  {
   "cell_type": "code",
   "execution_count": null,
   "metadata": {
    "executionInfo": {
     "elapsed": 6329,
     "status": "aborted",
     "timestamp": 1629267452752,
     "user": {
      "displayName": "SUMIT YENUGWAR",
      "photoUrl": "https://lh3.googleusercontent.com/a-/AOh14GgWF_AXb3JKzRG4HcMuK2aUrD6NWk93uKBqZpZdvQ=s64",
      "userId": "05792510571347937678"
     },
     "user_tz": -330
    },
    "id": "ep0RgzPzy5uM"
   },
   "outputs": [],
   "source": [
    "# plot predicted data \n",
    "plt.plot(y_test,mlp_pred2,\"bo\")  \n",
    "plt.title('MLP') \n",
    "plt.xlabel('Observed values') \n",
    "plt.ylabel('Predicted values') \n",
    "plt.show()"
   ]
  },
  {
   "cell_type": "code",
   "execution_count": null,
   "metadata": {
    "executionInfo": {
     "elapsed": 6323,
     "status": "aborted",
     "timestamp": 1629267452753,
     "user": {
      "displayName": "SUMIT YENUGWAR",
      "photoUrl": "https://lh3.googleusercontent.com/a-/AOh14GgWF_AXb3JKzRG4HcMuK2aUrD6NWk93uKBqZpZdvQ=s64",
      "userId": "05792510571347937678"
     },
     "user_tz": -330
    },
    "id": "K-BxT_Toy5uM"
   },
   "outputs": [],
   "source": [
    "# RMSE values"
   ]
  },
  {
   "cell_type": "code",
   "execution_count": null,
   "metadata": {
    "executionInfo": {
     "elapsed": 6317,
     "status": "aborted",
     "timestamp": 1629267452753,
     "user": {
      "displayName": "SUMIT YENUGWAR",
      "photoUrl": "https://lh3.googleusercontent.com/a-/AOh14GgWF_AXb3JKzRG4HcMuK2aUrD6NWk93uKBqZpZdvQ=s64",
      "userId": "05792510571347937678"
     },
     "user_tz": -330
    },
    "id": "BY9yzvwVy5uM"
   },
   "outputs": [],
   "source": [
    "print('RMSE of training data:', np.sqrt(metrics.mean_squared_error(y_train,mlp_pred1)))"
   ]
  },
  {
   "cell_type": "code",
   "execution_count": null,
   "metadata": {
    "executionInfo": {
     "elapsed": 6312,
     "status": "aborted",
     "timestamp": 1629267452754,
     "user": {
      "displayName": "SUMIT YENUGWAR",
      "photoUrl": "https://lh3.googleusercontent.com/a-/AOh14GgWF_AXb3JKzRG4HcMuK2aUrD6NWk93uKBqZpZdvQ=s64",
      "userId": "05792510571347937678"
     },
     "user_tz": -330
    },
    "id": "pimzq_cdy5uM"
   },
   "outputs": [],
   "source": [
    "print('RMSE of testing data:', np.sqrt(metrics.mean_squared_error(y_test,mlp_pred2)))"
   ]
  },
  {
   "cell_type": "markdown",
   "metadata": {
    "id": "P1KF8yS3y5uN"
   },
   "source": [
    "#### XG Boosting has built the model with lowest RMSE value amongst other models"
   ]
  },
  {
   "cell_type": "markdown",
   "metadata": {
    "id": "7UIa65rYy5uN"
   },
   "source": [
    "### Hyper parameter tuning for XG Boosting"
   ]
  },
  {
   "cell_type": "code",
   "execution_count": null,
   "metadata": {
    "executionInfo": {
     "elapsed": 6310,
     "status": "aborted",
     "timestamp": 1629267452754,
     "user": {
      "displayName": "SUMIT YENUGWAR",
      "photoUrl": "https://lh3.googleusercontent.com/a-/AOh14GgWF_AXb3JKzRG4HcMuK2aUrD6NWk93uKBqZpZdvQ=s64",
      "userId": "05792510571347937678"
     },
     "user_tz": -330
    },
    "id": "expHjSGBy5uN"
   },
   "outputs": [],
   "source": [
    "import xgboost"
   ]
  },
  {
   "cell_type": "code",
   "execution_count": null,
   "metadata": {
    "executionInfo": {
     "elapsed": 17,
     "status": "aborted",
     "timestamp": 1629267453239,
     "user": {
      "displayName": "SUMIT YENUGWAR",
      "photoUrl": "https://lh3.googleusercontent.com/a-/AOh14GgWF_AXb3JKzRG4HcMuK2aUrD6NWk93uKBqZpZdvQ=s64",
      "userId": "05792510571347937678"
     },
     "user_tz": -330
    },
    "id": "OJ1-Ep2Vy5uO"
   },
   "outputs": [],
   "source": [
    "regressor=xgboost.XGBRegressor()"
   ]
  },
  {
   "cell_type": "code",
   "execution_count": null,
   "metadata": {
    "executionInfo": {
     "elapsed": 16,
     "status": "aborted",
     "timestamp": 1629267453240,
     "user": {
      "displayName": "SUMIT YENUGWAR",
      "photoUrl": "https://lh3.googleusercontent.com/a-/AOh14GgWF_AXb3JKzRG4HcMuK2aUrD6NWk93uKBqZpZdvQ=s64",
      "userId": "05792510571347937678"
     },
     "user_tz": -330
    },
    "id": "NTTyypSly5uO"
   },
   "outputs": [],
   "source": [
    "booster=['gbtree']\n",
    "base_score=[0.5]"
   ]
  },
  {
   "cell_type": "code",
   "execution_count": null,
   "metadata": {
    "executionInfo": {
     "elapsed": 16,
     "status": "aborted",
     "timestamp": 1629267453240,
     "user": {
      "displayName": "SUMIT YENUGWAR",
      "photoUrl": "https://lh3.googleusercontent.com/a-/AOh14GgWF_AXb3JKzRG4HcMuK2aUrD6NWk93uKBqZpZdvQ=s64",
      "userId": "05792510571347937678"
     },
     "user_tz": -330
    },
    "id": "Mjj3WzU2y5uO"
   },
   "outputs": [],
   "source": [
    "n_estimators = [100, 200]\n",
    "max_depth = [10, 15]\n",
    "learning_rate=[0.1,0.2]"
   ]
  },
  {
   "cell_type": "code",
   "execution_count": null,
   "metadata": {
    "executionInfo": {
     "elapsed": 17,
     "status": "aborted",
     "timestamp": 1629267453241,
     "user": {
      "displayName": "SUMIT YENUGWAR",
      "photoUrl": "https://lh3.googleusercontent.com/a-/AOh14GgWF_AXb3JKzRG4HcMuK2aUrD6NWk93uKBqZpZdvQ=s64",
      "userId": "05792510571347937678"
     },
     "user_tz": -330
    },
    "id": "zCcKCtQUy5uO"
   },
   "outputs": [],
   "source": [
    "# Define the grid of hyperparameters to search\n",
    "hyperparameter_grid = {\n",
    "    'n_estimators': n_estimators,\n",
    "    'max_depth':max_depth,\n",
    "    'learning_rate':learning_rate,\n",
    "    'booster':booster,\n",
    "    'base_score':base_score\n",
    "    }"
   ]
  },
  {
   "cell_type": "code",
   "execution_count": null,
   "metadata": {
    "executionInfo": {
     "elapsed": 17,
     "status": "aborted",
     "timestamp": 1629267453241,
     "user": {
      "displayName": "SUMIT YENUGWAR",
      "photoUrl": "https://lh3.googleusercontent.com/a-/AOh14GgWF_AXb3JKzRG4HcMuK2aUrD6NWk93uKBqZpZdvQ=s64",
      "userId": "05792510571347937678"
     },
     "user_tz": -330
    },
    "id": "jnZi38Siy5uP"
   },
   "outputs": [],
   "source": [
    "from sklearn.model_selection import RandomizedSearchCV"
   ]
  },
  {
   "cell_type": "code",
   "execution_count": null,
   "metadata": {
    "executionInfo": {
     "elapsed": 18,
     "status": "aborted",
     "timestamp": 1629267453242,
     "user": {
      "displayName": "SUMIT YENUGWAR",
      "photoUrl": "https://lh3.googleusercontent.com/a-/AOh14GgWF_AXb3JKzRG4HcMuK2aUrD6NWk93uKBqZpZdvQ=s64",
      "userId": "05792510571347937678"
     },
     "user_tz": -330
    },
    "id": "31HtkLCCy5uP"
   },
   "outputs": [],
   "source": [
    "# Set up the random search with 3-fold cross validation\n",
    "random_cv = RandomizedSearchCV(estimator=regressor,\n",
    "            param_distributions=hyperparameter_grid,\n",
    "            cv=3, n_iter=20,\n",
    "            scoring = 'neg_mean_absolute_error',n_jobs = 3,\n",
    "            verbose = 5, \n",
    "            return_train_score = True,\n",
    "            random_state=36)"
   ]
  },
  {
   "cell_type": "code",
   "execution_count": null,
   "metadata": {
    "executionInfo": {
     "elapsed": 17,
     "status": "aborted",
     "timestamp": 1629267453242,
     "user": {
      "displayName": "SUMIT YENUGWAR",
      "photoUrl": "https://lh3.googleusercontent.com/a-/AOh14GgWF_AXb3JKzRG4HcMuK2aUrD6NWk93uKBqZpZdvQ=s64",
      "userId": "05792510571347937678"
     },
     "user_tz": -330
    },
    "id": "r3DaMN2Ry5uP"
   },
   "outputs": [],
   "source": [
    "random_cv.fit(x_train,y_train)"
   ]
  },
  {
   "cell_type": "code",
   "execution_count": null,
   "metadata": {
    "executionInfo": {
     "elapsed": 18,
     "status": "aborted",
     "timestamp": 1629267453243,
     "user": {
      "displayName": "SUMIT YENUGWAR",
      "photoUrl": "https://lh3.googleusercontent.com/a-/AOh14GgWF_AXb3JKzRG4HcMuK2aUrD6NWk93uKBqZpZdvQ=s64",
      "userId": "05792510571347937678"
     },
     "user_tz": -330
    },
    "id": "IuRkbGp1y5uP"
   },
   "outputs": [],
   "source": [
    "random_cv.best_estimator_"
   ]
  },
  {
   "cell_type": "code",
   "execution_count": null,
   "metadata": {
    "executionInfo": {
     "elapsed": 18,
     "status": "aborted",
     "timestamp": 1629267453243,
     "user": {
      "displayName": "SUMIT YENUGWAR",
      "photoUrl": "https://lh3.googleusercontent.com/a-/AOh14GgWF_AXb3JKzRG4HcMuK2aUrD6NWk93uKBqZpZdvQ=s64",
      "userId": "05792510571347937678"
     },
     "user_tz": -330
    },
    "id": "cxEo-wcxy5uP"
   },
   "outputs": [],
   "source": [
    "regressor = xgboost.XGBRegressor(base_score=0.5, booster='gbtree', colsample_bylevel=1,\n",
    "             colsample_bynode=1, colsample_bytree=1, gamma=0, gpu_id=-1,\n",
    "             importance_type='gain', interaction_constraints='',\n",
    "             learning_rate=0.1, max_delta_step=0, max_depth=10,\n",
    "             min_child_weight=1, monotone_constraints='()',\n",
    "             n_estimators=100, n_jobs=0, num_parallel_tree=1, random_state=0,\n",
    "             reg_alpha=0, reg_lambda=1, scale_pos_weight=1, subsample=1,\n",
    "             tree_method='exact', validate_parameters=1, verbosity=None)"
   ]
  },
  {
   "cell_type": "code",
   "execution_count": null,
   "metadata": {
    "executionInfo": {
     "elapsed": 18,
     "status": "aborted",
     "timestamp": 1629267453243,
     "user": {
      "displayName": "SUMIT YENUGWAR",
      "photoUrl": "https://lh3.googleusercontent.com/a-/AOh14GgWF_AXb3JKzRG4HcMuK2aUrD6NWk93uKBqZpZdvQ=s64",
      "userId": "05792510571347937678"
     },
     "user_tz": -330
    },
    "id": "qZkAZd5Ty5uQ"
   },
   "outputs": [],
   "source": [
    "regressor.fit(x_train,y_train)"
   ]
  },
  {
   "cell_type": "code",
   "execution_count": null,
   "metadata": {
    "executionInfo": {
     "elapsed": 19,
     "status": "aborted",
     "timestamp": 1629267453244,
     "user": {
      "displayName": "SUMIT YENUGWAR",
      "photoUrl": "https://lh3.googleusercontent.com/a-/AOh14GgWF_AXb3JKzRG4HcMuK2aUrD6NWk93uKBqZpZdvQ=s64",
      "userId": "05792510571347937678"
     },
     "user_tz": -330
    },
    "id": "pQyRI1CQy5uQ"
   },
   "outputs": [],
   "source": [
    "# Predicting the output values"
   ]
  },
  {
   "cell_type": "code",
   "execution_count": null,
   "metadata": {
    "executionInfo": {
     "elapsed": 19,
     "status": "aborted",
     "timestamp": 1629267453244,
     "user": {
      "displayName": "SUMIT YENUGWAR",
      "photoUrl": "https://lh3.googleusercontent.com/a-/AOh14GgWF_AXb3JKzRG4HcMuK2aUrD6NWk93uKBqZpZdvQ=s64",
      "userId": "05792510571347937678"
     },
     "user_tz": -330
    },
    "id": "8BLoI7N7y5uQ"
   },
   "outputs": [],
   "source": [
    "y_pred_xgb1 = regressor.predict(x_train) "
   ]
  },
  {
   "cell_type": "code",
   "execution_count": null,
   "metadata": {
    "executionInfo": {
     "elapsed": 19,
     "status": "aborted",
     "timestamp": 1629267453245,
     "user": {
      "displayName": "SUMIT YENUGWAR",
      "photoUrl": "https://lh3.googleusercontent.com/a-/AOh14GgWF_AXb3JKzRG4HcMuK2aUrD6NWk93uKBqZpZdvQ=s64",
      "userId": "05792510571347937678"
     },
     "user_tz": -330
    },
    "id": "Ctc-usX6y5uQ"
   },
   "outputs": [],
   "source": [
    "y_pred_xgb2 = regressor.predict(x_test) "
   ]
  },
  {
   "cell_type": "code",
   "execution_count": null,
   "metadata": {
    "executionInfo": {
     "elapsed": 19,
     "status": "aborted",
     "timestamp": 1629267453245,
     "user": {
      "displayName": "SUMIT YENUGWAR",
      "photoUrl": "https://lh3.googleusercontent.com/a-/AOh14GgWF_AXb3JKzRG4HcMuK2aUrD6NWk93uKBqZpZdvQ=s64",
      "userId": "05792510571347937678"
     },
     "user_tz": -330
    },
    "id": "BkdFETb8y5uQ"
   },
   "outputs": [],
   "source": [
    "# plot predicted data \n",
    "plt.plot(y_test,y_pred_xgb2,\"bo\")  \n",
    "plt.title('XG bossting') \n",
    "plt.xlabel('Observed values') \n",
    "plt.ylabel('Predicted values') \n",
    "plt.show()"
   ]
  },
  {
   "cell_type": "code",
   "execution_count": null,
   "metadata": {
    "executionInfo": {
     "elapsed": 20,
     "status": "aborted",
     "timestamp": 1629267453246,
     "user": {
      "displayName": "SUMIT YENUGWAR",
      "photoUrl": "https://lh3.googleusercontent.com/a-/AOh14GgWF_AXb3JKzRG4HcMuK2aUrD6NWk93uKBqZpZdvQ=s64",
      "userId": "05792510571347937678"
     },
     "user_tz": -330
    },
    "id": "u5VfwYQVy5uR"
   },
   "outputs": [],
   "source": [
    "# RMSE values"
   ]
  },
  {
   "cell_type": "code",
   "execution_count": null,
   "metadata": {
    "executionInfo": {
     "elapsed": 19,
     "status": "aborted",
     "timestamp": 1629267453246,
     "user": {
      "displayName": "SUMIT YENUGWAR",
      "photoUrl": "https://lh3.googleusercontent.com/a-/AOh14GgWF_AXb3JKzRG4HcMuK2aUrD6NWk93uKBqZpZdvQ=s64",
      "userId": "05792510571347937678"
     },
     "user_tz": -330
    },
    "id": "wyD8yel5y5uR"
   },
   "outputs": [],
   "source": [
    "print('RMSE of training data:', np.sqrt(metrics.mean_squared_error(y_train,y_pred_xgb1)))"
   ]
  },
  {
   "cell_type": "code",
   "execution_count": null,
   "metadata": {
    "executionInfo": {
     "elapsed": 20,
     "status": "aborted",
     "timestamp": 1629267453247,
     "user": {
      "displayName": "SUMIT YENUGWAR",
      "photoUrl": "https://lh3.googleusercontent.com/a-/AOh14GgWF_AXb3JKzRG4HcMuK2aUrD6NWk93uKBqZpZdvQ=s64",
      "userId": "05792510571347937678"
     },
     "user_tz": -330
    },
    "id": "HCeLPjnZy5uR"
   },
   "outputs": [],
   "source": [
    "print('RMSE of testing data:', np.sqrt(metrics.mean_squared_error(y_test,y_pred_xgb2)))"
   ]
  }
 ],
 "metadata": {
  "colab": {
   "collapsed_sections": [
    "dKmIPoB1y5tK",
    "kJ0A57uXy5tK",
    "P0-Cl0x3y5tM",
    "GgpkScc7y5tO",
    "aSQ9d7w2y5tP",
    "7Z-TeAJ1y5tQ",
    "x8xr-b1hy5tR",
    "9IixYkphy5tR",
    "hWIC0ehqy5tS",
    "iNBHnsGXy5tS",
    "cbIrGk8fy5tU",
    "bV10-HRly5tb",
    "wJztshbqy5td",
    "dXCCnsTzy5te",
    "Byg7Ey_py5te",
    "BTePUdAVy5tf",
    "5rMZMls5y5tg",
    "YLI3ujo3y5tg",
    "gUn5bLyOy5th",
    "ImOpEWCvy5th",
    "XqZMbzLLy5th",
    "sGpRmmQ5y5ti",
    "vOKcbGley5tj",
    "8Esnntnly5tj",
    "uuBT9uT2y5tk",
    "SfbF9klIy5tl",
    "E5olA4yvy5tl",
    "TTMHaE6Ky5to",
    "JjzXypNqy5tp",
    "sPTBD9cMy5ts",
    "DUprDU0ey5ts",
    "wpzRgOyay5tt",
    "H5NfvDAEy5tv",
    "29ZCf_Lmy5tz",
    "1krdCf2Iy5tz",
    "nzw_USCKy5t2",
    "YsO1LoTwy5t2",
    "DyTTmdCRy5t3",
    "TXE5LPz0y5t3",
    "FLbB-I8ty5t4",
    "9X-423i_y5t6",
    "mFt1xJ_by5t6",
    "RCYzx73Zy5t8",
    "5nUtFrFLy5t9",
    "o0hHSbtxy5t-",
    "2zNxbJIdy5t-",
    "hH6VZH2ly5uE",
    "EVBW0kiuy5uG",
    "rszi37vPy5uI",
    "wD-9ahjdy5uL",
    "P1KF8yS3y5uN",
    "7UIa65rYy5uN"
   ],
   "name": "Project_final_code.ipynb",
   "provenance": []
  },
  "kernelspec": {
   "display_name": "Python 3",
   "language": "python",
   "name": "python3"
  },
  "language_info": {
   "codemirror_mode": {
    "name": "ipython",
    "version": 3
   },
   "file_extension": ".py",
   "mimetype": "text/x-python",
   "name": "python",
   "nbconvert_exporter": "python",
   "pygments_lexer": "ipython3",
   "version": "3.8.8"
  }
 },
 "nbformat": 4,
 "nbformat_minor": 1
}
